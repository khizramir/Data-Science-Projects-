{
 "cells": [
  {
   "cell_type": "code",
   "execution_count": 1,
   "metadata": {},
   "outputs": [],
   "source": [
    "import numpy as np\n",
    "import pandas as pd\n",
    "import matplotlib.pyplot as plt"
   ]
  },
  {
   "cell_type": "code",
   "execution_count": 3,
   "metadata": {},
   "outputs": [],
   "source": [
    "hn = pd.read_csv(\"news_posts.csv\")"
   ]
  },
  {
   "cell_type": "code",
   "execution_count": 5,
   "metadata": {},
   "outputs": [
    {
     "data": {
      "text/html": [
       "<div>\n",
       "<style scoped>\n",
       "    .dataframe tbody tr th:only-of-type {\n",
       "        vertical-align: middle;\n",
       "    }\n",
       "\n",
       "    .dataframe tbody tr th {\n",
       "        vertical-align: top;\n",
       "    }\n",
       "\n",
       "    .dataframe thead th {\n",
       "        text-align: right;\n",
       "    }\n",
       "</style>\n",
       "<table border=\"1\" class=\"dataframe\">\n",
       "  <thead>\n",
       "    <tr style=\"text-align: right;\">\n",
       "      <th></th>\n",
       "      <th>id</th>\n",
       "      <th>title</th>\n",
       "      <th>url</th>\n",
       "      <th>num_points</th>\n",
       "      <th>num_comments</th>\n",
       "      <th>author</th>\n",
       "      <th>created_at</th>\n",
       "    </tr>\n",
       "  </thead>\n",
       "  <tbody>\n",
       "    <tr>\n",
       "      <th>0</th>\n",
       "      <td>12224879</td>\n",
       "      <td>Interactive Dynamic Video</td>\n",
       "      <td>http://www.interactivedynamicvideo.com/</td>\n",
       "      <td>386</td>\n",
       "      <td>52</td>\n",
       "      <td>ne0phyte</td>\n",
       "      <td>8/4/2016 11:52</td>\n",
       "    </tr>\n",
       "    <tr>\n",
       "      <th>1</th>\n",
       "      <td>10975351</td>\n",
       "      <td>How to Use Open Source and Shut the Fuck Up at...</td>\n",
       "      <td>http://hueniverse.com/2016/01/26/how-to-use-op...</td>\n",
       "      <td>39</td>\n",
       "      <td>10</td>\n",
       "      <td>josep2</td>\n",
       "      <td>1/26/2016 19:30</td>\n",
       "    </tr>\n",
       "    <tr>\n",
       "      <th>2</th>\n",
       "      <td>11964716</td>\n",
       "      <td>Florida DJs May Face Felony for April Fools' W...</td>\n",
       "      <td>http://www.thewire.com/entertainment/2013/04/f...</td>\n",
       "      <td>2</td>\n",
       "      <td>1</td>\n",
       "      <td>vezycash</td>\n",
       "      <td>6/23/2016 22:20</td>\n",
       "    </tr>\n",
       "    <tr>\n",
       "      <th>3</th>\n",
       "      <td>11919867</td>\n",
       "      <td>Technology ventures: From Idea to Enterprise</td>\n",
       "      <td>https://www.amazon.com/Technology-Ventures-Ent...</td>\n",
       "      <td>3</td>\n",
       "      <td>1</td>\n",
       "      <td>hswarna</td>\n",
       "      <td>6/17/2016 0:01</td>\n",
       "    </tr>\n",
       "    <tr>\n",
       "      <th>4</th>\n",
       "      <td>10301696</td>\n",
       "      <td>Note by Note: The Making of Steinway L1037 (2007)</td>\n",
       "      <td>http://www.nytimes.com/2007/11/07/movies/07ste...</td>\n",
       "      <td>8</td>\n",
       "      <td>2</td>\n",
       "      <td>walterbell</td>\n",
       "      <td>9/30/2015 4:12</td>\n",
       "    </tr>\n",
       "  </tbody>\n",
       "</table>\n",
       "</div>"
      ],
      "text/plain": [
       "         id                                              title  \\\n",
       "0  12224879                          Interactive Dynamic Video   \n",
       "1  10975351  How to Use Open Source and Shut the Fuck Up at...   \n",
       "2  11964716  Florida DJs May Face Felony for April Fools' W...   \n",
       "3  11919867       Technology ventures: From Idea to Enterprise   \n",
       "4  10301696  Note by Note: The Making of Steinway L1037 (2007)   \n",
       "\n",
       "                                                 url  num_points  \\\n",
       "0            http://www.interactivedynamicvideo.com/         386   \n",
       "1  http://hueniverse.com/2016/01/26/how-to-use-op...          39   \n",
       "2  http://www.thewire.com/entertainment/2013/04/f...           2   \n",
       "3  https://www.amazon.com/Technology-Ventures-Ent...           3   \n",
       "4  http://www.nytimes.com/2007/11/07/movies/07ste...           8   \n",
       "\n",
       "   num_comments      author       created_at  \n",
       "0            52    ne0phyte   8/4/2016 11:52  \n",
       "1            10      josep2  1/26/2016 19:30  \n",
       "2             1    vezycash  6/23/2016 22:20  \n",
       "3             1     hswarna   6/17/2016 0:01  \n",
       "4             2  walterbell   9/30/2015 4:12  "
      ]
     },
     "execution_count": 5,
     "metadata": {},
     "output_type": "execute_result"
    }
   ],
   "source": [
    "hn.head()"
   ]
  },
  {
   "cell_type": "code",
   "execution_count": 6,
   "metadata": {},
   "outputs": [
    {
     "name": "stdout",
     "output_type": "stream",
     "text": [
      "<class 'pandas.core.frame.DataFrame'>\n",
      "RangeIndex: 20100 entries, 0 to 20099\n",
      "Data columns (total 7 columns):\n",
      " #   Column        Non-Null Count  Dtype \n",
      "---  ------        --------------  ----- \n",
      " 0   id            20100 non-null  int64 \n",
      " 1   title         20100 non-null  object\n",
      " 2   url           17660 non-null  object\n",
      " 3   num_points    20100 non-null  int64 \n",
      " 4   num_comments  20100 non-null  int64 \n",
      " 5   author        20100 non-null  object\n",
      " 6   created_at    20100 non-null  object\n",
      "dtypes: int64(3), object(4)\n",
      "memory usage: 1.1+ MB\n"
     ]
    }
   ],
   "source": [
    "hn.info()"
   ]
  },
  {
   "cell_type": "code",
   "execution_count": 8,
   "metadata": {},
   "outputs": [],
   "source": [
    "hn = pd.read_csv(\"news_posts.csv\", parse_dates=[\"created_at\"])"
   ]
  },
  {
   "cell_type": "code",
   "execution_count": 9,
   "metadata": {},
   "outputs": [
    {
     "name": "stdout",
     "output_type": "stream",
     "text": [
      "<class 'pandas.core.frame.DataFrame'>\n",
      "RangeIndex: 20100 entries, 0 to 20099\n",
      "Data columns (total 7 columns):\n",
      " #   Column        Non-Null Count  Dtype         \n",
      "---  ------        --------------  -----         \n",
      " 0   id            20100 non-null  int64         \n",
      " 1   title         20100 non-null  object        \n",
      " 2   url           17660 non-null  object        \n",
      " 3   num_points    20100 non-null  int64         \n",
      " 4   num_comments  20100 non-null  int64         \n",
      " 5   author        20100 non-null  object        \n",
      " 6   created_at    20100 non-null  datetime64[ns]\n",
      "dtypes: datetime64[ns](1), int64(3), object(3)\n",
      "memory usage: 1.1+ MB\n"
     ]
    }
   ],
   "source": [
    "hn.info()"
   ]
  },
  {
   "cell_type": "code",
   "execution_count": 11,
   "metadata": {},
   "outputs": [],
   "source": [
    "hn[\"created_at\"] = pd.to_datetime(hn[\"created_at\"])"
   ]
  },
  {
   "cell_type": "code",
   "execution_count": 12,
   "metadata": {},
   "outputs": [
    {
     "name": "stdout",
     "output_type": "stream",
     "text": [
      "<class 'pandas.core.frame.DataFrame'>\n",
      "RangeIndex: 20100 entries, 0 to 20099\n",
      "Data columns (total 7 columns):\n",
      " #   Column        Non-Null Count  Dtype         \n",
      "---  ------        --------------  -----         \n",
      " 0   id            20100 non-null  int64         \n",
      " 1   title         20100 non-null  object        \n",
      " 2   url           17660 non-null  object        \n",
      " 3   num_points    20100 non-null  int64         \n",
      " 4   num_comments  20100 non-null  int64         \n",
      " 5   author        20100 non-null  object        \n",
      " 6   created_at    20100 non-null  datetime64[ns]\n",
      "dtypes: datetime64[ns](1), int64(3), object(3)\n",
      "memory usage: 1.1+ MB\n"
     ]
    }
   ],
   "source": [
    "hn.info()"
   ]
  },
  {
   "cell_type": "code",
   "execution_count": 13,
   "metadata": {},
   "outputs": [
    {
     "data": {
      "text/plain": [
       "Index(['id', 'title', 'url', 'num_points', 'num_comments', 'author',\n",
       "       'created_at'],\n",
       "      dtype='object')"
      ]
     },
     "execution_count": 13,
     "metadata": {},
     "output_type": "execute_result"
    }
   ],
   "source": [
    "hn.columns"
   ]
  },
  {
   "cell_type": "code",
   "execution_count": 17,
   "metadata": {},
   "outputs": [],
   "source": [
    "hn = hn[['created_at','id', 'title',\n",
    "    'url', 'num_points', 'num_comments', 'author']]"
   ]
  },
  {
   "cell_type": "markdown",
   "metadata": {},
   "source": [
    "### creating two data frames \"ask Hn\" and \"show Hn\" to see which one has more number of comments"
   ]
  },
  {
   "cell_type": "markdown",
   "metadata": {},
   "source": [
    "### 'Ask Hn' and 'Show Hn' comes at the begning of the Title "
   ]
  },
  {
   "cell_type": "code",
   "execution_count": 29,
   "metadata": {},
   "outputs": [],
   "source": [
    "ask_bol = hn[\"title\"].str.lower().str.startswith(\"ask hn\")"
   ]
  },
  {
   "cell_type": "code",
   "execution_count": 30,
   "metadata": {},
   "outputs": [],
   "source": [
    "show_bol = hn[\"title\"].str.lower().str.startswith(\"show hn\")"
   ]
  },
  {
   "cell_type": "code",
   "execution_count": 47,
   "metadata": {},
   "outputs": [],
   "source": [
    "ask_posts = hn[ask_bol].copy()\n",
    "show_posts = hn[show_bol].copy()"
   ]
  },
  {
   "cell_type": "code",
   "execution_count": 33,
   "metadata": {},
   "outputs": [
    {
     "data": {
      "text/html": [
       "<div>\n",
       "<style scoped>\n",
       "    .dataframe tbody tr th:only-of-type {\n",
       "        vertical-align: middle;\n",
       "    }\n",
       "\n",
       "    .dataframe tbody tr th {\n",
       "        vertical-align: top;\n",
       "    }\n",
       "\n",
       "    .dataframe thead th {\n",
       "        text-align: right;\n",
       "    }\n",
       "</style>\n",
       "<table border=\"1\" class=\"dataframe\">\n",
       "  <thead>\n",
       "    <tr style=\"text-align: right;\">\n",
       "      <th></th>\n",
       "      <th>created_at</th>\n",
       "      <th>id</th>\n",
       "      <th>title</th>\n",
       "      <th>url</th>\n",
       "      <th>num_points</th>\n",
       "      <th>num_comments</th>\n",
       "      <th>author</th>\n",
       "    </tr>\n",
       "  </thead>\n",
       "  <tbody>\n",
       "    <tr>\n",
       "      <th>13</th>\n",
       "      <td>2015-11-25 14:03:00</td>\n",
       "      <td>10627194</td>\n",
       "      <td>Show HN: Wio Link  ESP8266 Based Web of Things...</td>\n",
       "      <td>https://iot.seeed.cc</td>\n",
       "      <td>26</td>\n",
       "      <td>22</td>\n",
       "      <td>kfihihc</td>\n",
       "    </tr>\n",
       "    <tr>\n",
       "      <th>39</th>\n",
       "      <td>2015-11-29 22:46:00</td>\n",
       "      <td>10646440</td>\n",
       "      <td>Show HN: Something pointless I made</td>\n",
       "      <td>http://dn.ht/picklecat/</td>\n",
       "      <td>747</td>\n",
       "      <td>102</td>\n",
       "      <td>dhotson</td>\n",
       "    </tr>\n",
       "    <tr>\n",
       "      <th>46</th>\n",
       "      <td>2016-04-28 18:05:00</td>\n",
       "      <td>11590768</td>\n",
       "      <td>Show HN: Shanhu.io, a programming playground p...</td>\n",
       "      <td>https://shanhu.io</td>\n",
       "      <td>1</td>\n",
       "      <td>1</td>\n",
       "      <td>h8liu</td>\n",
       "    </tr>\n",
       "    <tr>\n",
       "      <th>84</th>\n",
       "      <td>2016-07-28 07:11:00</td>\n",
       "      <td>12178806</td>\n",
       "      <td>Show HN: Webscope  Easy way for web developers...</td>\n",
       "      <td>http://webscopeapp.com</td>\n",
       "      <td>3</td>\n",
       "      <td>3</td>\n",
       "      <td>fastbrick</td>\n",
       "    </tr>\n",
       "    <tr>\n",
       "      <th>97</th>\n",
       "      <td>2016-01-09 20:45:00</td>\n",
       "      <td>10872799</td>\n",
       "      <td>Show HN: GeoScreenshot  Easily test Geo-IP bas...</td>\n",
       "      <td>https://www.geoscreenshot.com/</td>\n",
       "      <td>1</td>\n",
       "      <td>9</td>\n",
       "      <td>kpsychwave</td>\n",
       "    </tr>\n",
       "  </tbody>\n",
       "</table>\n",
       "</div>"
      ],
      "text/plain": [
       "            created_at        id  \\\n",
       "13 2015-11-25 14:03:00  10627194   \n",
       "39 2015-11-29 22:46:00  10646440   \n",
       "46 2016-04-28 18:05:00  11590768   \n",
       "84 2016-07-28 07:11:00  12178806   \n",
       "97 2016-01-09 20:45:00  10872799   \n",
       "\n",
       "                                                title  \\\n",
       "13  Show HN: Wio Link  ESP8266 Based Web of Things...   \n",
       "39                Show HN: Something pointless I made   \n",
       "46  Show HN: Shanhu.io, a programming playground p...   \n",
       "84  Show HN: Webscope  Easy way for web developers...   \n",
       "97  Show HN: GeoScreenshot  Easily test Geo-IP bas...   \n",
       "\n",
       "                               url  num_points  num_comments      author  \n",
       "13            https://iot.seeed.cc          26            22     kfihihc  \n",
       "39         http://dn.ht/picklecat/         747           102     dhotson  \n",
       "46               https://shanhu.io           1             1       h8liu  \n",
       "84          http://webscopeapp.com           3             3   fastbrick  \n",
       "97  https://www.geoscreenshot.com/           1             9  kpsychwave  "
      ]
     },
     "execution_count": 33,
     "metadata": {},
     "output_type": "execute_result"
    }
   ],
   "source": [
    "show_posts.head(5)"
   ]
  },
  {
   "cell_type": "code",
   "execution_count": 48,
   "metadata": {},
   "outputs": [],
   "source": [
    "other_post = hn[~(ask_bol | show_bol)].copy()"
   ]
  },
  {
   "cell_type": "code",
   "execution_count": 35,
   "metadata": {},
   "outputs": [
    {
     "data": {
      "text/html": [
       "<div>\n",
       "<style scoped>\n",
       "    .dataframe tbody tr th:only-of-type {\n",
       "        vertical-align: middle;\n",
       "    }\n",
       "\n",
       "    .dataframe tbody tr th {\n",
       "        vertical-align: top;\n",
       "    }\n",
       "\n",
       "    .dataframe thead th {\n",
       "        text-align: right;\n",
       "    }\n",
       "</style>\n",
       "<table border=\"1\" class=\"dataframe\">\n",
       "  <thead>\n",
       "    <tr style=\"text-align: right;\">\n",
       "      <th></th>\n",
       "      <th>created_at</th>\n",
       "      <th>id</th>\n",
       "      <th>title</th>\n",
       "      <th>url</th>\n",
       "      <th>num_points</th>\n",
       "      <th>num_comments</th>\n",
       "      <th>author</th>\n",
       "    </tr>\n",
       "  </thead>\n",
       "  <tbody>\n",
       "    <tr>\n",
       "      <th>0</th>\n",
       "      <td>2016-08-04 11:52:00</td>\n",
       "      <td>12224879</td>\n",
       "      <td>Interactive Dynamic Video</td>\n",
       "      <td>http://www.interactivedynamicvideo.com/</td>\n",
       "      <td>386</td>\n",
       "      <td>52</td>\n",
       "      <td>ne0phyte</td>\n",
       "    </tr>\n",
       "    <tr>\n",
       "      <th>1</th>\n",
       "      <td>2016-01-26 19:30:00</td>\n",
       "      <td>10975351</td>\n",
       "      <td>How to Use Open Source and Shut the Fuck Up at...</td>\n",
       "      <td>http://hueniverse.com/2016/01/26/how-to-use-op...</td>\n",
       "      <td>39</td>\n",
       "      <td>10</td>\n",
       "      <td>josep2</td>\n",
       "    </tr>\n",
       "    <tr>\n",
       "      <th>2</th>\n",
       "      <td>2016-06-23 22:20:00</td>\n",
       "      <td>11964716</td>\n",
       "      <td>Florida DJs May Face Felony for April Fools' W...</td>\n",
       "      <td>http://www.thewire.com/entertainment/2013/04/f...</td>\n",
       "      <td>2</td>\n",
       "      <td>1</td>\n",
       "      <td>vezycash</td>\n",
       "    </tr>\n",
       "    <tr>\n",
       "      <th>3</th>\n",
       "      <td>2016-06-17 00:01:00</td>\n",
       "      <td>11919867</td>\n",
       "      <td>Technology ventures: From Idea to Enterprise</td>\n",
       "      <td>https://www.amazon.com/Technology-Ventures-Ent...</td>\n",
       "      <td>3</td>\n",
       "      <td>1</td>\n",
       "      <td>hswarna</td>\n",
       "    </tr>\n",
       "    <tr>\n",
       "      <th>4</th>\n",
       "      <td>2015-09-30 04:12:00</td>\n",
       "      <td>10301696</td>\n",
       "      <td>Note by Note: The Making of Steinway L1037 (2007)</td>\n",
       "      <td>http://www.nytimes.com/2007/11/07/movies/07ste...</td>\n",
       "      <td>8</td>\n",
       "      <td>2</td>\n",
       "      <td>walterbell</td>\n",
       "    </tr>\n",
       "  </tbody>\n",
       "</table>\n",
       "</div>"
      ],
      "text/plain": [
       "           created_at        id  \\\n",
       "0 2016-08-04 11:52:00  12224879   \n",
       "1 2016-01-26 19:30:00  10975351   \n",
       "2 2016-06-23 22:20:00  11964716   \n",
       "3 2016-06-17 00:01:00  11919867   \n",
       "4 2015-09-30 04:12:00  10301696   \n",
       "\n",
       "                                               title  \\\n",
       "0                          Interactive Dynamic Video   \n",
       "1  How to Use Open Source and Shut the Fuck Up at...   \n",
       "2  Florida DJs May Face Felony for April Fools' W...   \n",
       "3       Technology ventures: From Idea to Enterprise   \n",
       "4  Note by Note: The Making of Steinway L1037 (2007)   \n",
       "\n",
       "                                                 url  num_points  \\\n",
       "0            http://www.interactivedynamicvideo.com/         386   \n",
       "1  http://hueniverse.com/2016/01/26/how-to-use-op...          39   \n",
       "2  http://www.thewire.com/entertainment/2013/04/f...           2   \n",
       "3  https://www.amazon.com/Technology-Ventures-Ent...           3   \n",
       "4  http://www.nytimes.com/2007/11/07/movies/07ste...           8   \n",
       "\n",
       "   num_comments      author  \n",
       "0            52    ne0phyte  \n",
       "1            10      josep2  \n",
       "2             1    vezycash  \n",
       "3             1     hswarna  \n",
       "4             2  walterbell  "
      ]
     },
     "execution_count": 35,
     "metadata": {},
     "output_type": "execute_result"
    }
   ],
   "source": [
    "other_post.head(5)"
   ]
  },
  {
   "cell_type": "code",
   "execution_count": 36,
   "metadata": {},
   "outputs": [
    {
     "name": "stdout",
     "output_type": "stream",
     "text": [
      "14.038417431192661 10.31669535283993\n"
     ]
    }
   ],
   "source": [
    "ask_avg_comments = ask_posts[\"num_comments\"].mean()\n",
    "show_avg_comments = show_posts[\"num_comments\"].mean()\n",
    "\n",
    "print(ask_avg_comments, show_avg_comments)"
   ]
  },
  {
   "cell_type": "markdown",
   "metadata": {},
   "source": [
    "### making series "
   ]
  },
  {
   "cell_type": "code",
   "execution_count": 39,
   "metadata": {},
   "outputs": [],
   "source": [
    "avg_comments = pd.Series({\"ask_comment\":ask_avg_comments, \"show_comment\":show_avg_comments})"
   ]
  },
  {
   "cell_type": "code",
   "execution_count": 40,
   "metadata": {},
   "outputs": [
    {
     "data": {
      "text/plain": [
       "ask_comment     14.038417\n",
       "show_comment    10.316695\n",
       "dtype: float64"
      ]
     },
     "execution_count": 40,
     "metadata": {},
     "output_type": "execute_result"
    }
   ],
   "source": [
    "avg_comments"
   ]
  },
  {
   "cell_type": "code",
   "execution_count": 42,
   "metadata": {},
   "outputs": [
    {
     "data": {
      "text/plain": [
       "0    52\n",
       "1    10\n",
       "Name: num_comments, dtype: int64"
      ]
     },
     "execution_count": 42,
     "metadata": {},
     "output_type": "execute_result"
    }
   ],
   "source": [
    "hn[\"num_comments\"].head(2)"
   ]
  },
  {
   "cell_type": "markdown",
   "metadata": {},
   "source": [
    "### when want to visualise data angainst categories, you either make pie chart or barchart"
   ]
  },
  {
   "cell_type": "markdown",
   "metadata": {},
   "source": [
    "### Pie Chart: when percentages are given,  Bar Chart: when absolute values are given"
   ]
  },
  {
   "cell_type": "code",
   "execution_count": 46,
   "metadata": {},
   "outputs": [
    {
     "data": {
      "image/png": "[encoded data removed]",
      "text/plain": [
       "<Figure size 432x288 with 1 Axes>"
      ]
     },
     "metadata": {
      "needs_background": "light"
     },
     "output_type": "display_data"
    }
   ],
   "source": [
    "avg_comments.plot.barh(title = \"comparision of post comments\")\n",
    "plt.show()"
   ]
  },
  {
   "cell_type": "code",
   "execution_count": 49,
   "metadata": {},
   "outputs": [],
   "source": [
    "ask_posts[\"hours\"] = ask_posts[\"created_at\"].dt.hour"
   ]
  },
  {
   "cell_type": "code",
   "execution_count": 50,
   "metadata": {},
   "outputs": [
    {
     "data": {
      "text/html": [
       "<div>\n",
       "<style scoped>\n",
       "    .dataframe tbody tr th:only-of-type {\n",
       "        vertical-align: middle;\n",
       "    }\n",
       "\n",
       "    .dataframe tbody tr th {\n",
       "        vertical-align: top;\n",
       "    }\n",
       "\n",
       "    .dataframe thead th {\n",
       "        text-align: right;\n",
       "    }\n",
       "</style>\n",
       "<table border=\"1\" class=\"dataframe\">\n",
       "  <thead>\n",
       "    <tr style=\"text-align: right;\">\n",
       "      <th></th>\n",
       "      <th>created_at</th>\n",
       "      <th>id</th>\n",
       "      <th>title</th>\n",
       "      <th>url</th>\n",
       "      <th>num_points</th>\n",
       "      <th>num_comments</th>\n",
       "      <th>author</th>\n",
       "      <th>hours</th>\n",
       "    </tr>\n",
       "  </thead>\n",
       "  <tbody>\n",
       "    <tr>\n",
       "      <th>7</th>\n",
       "      <td>2016-08-16 09:55:00</td>\n",
       "      <td>12296411</td>\n",
       "      <td>Ask HN: How to improve my personal website?</td>\n",
       "      <td>NaN</td>\n",
       "      <td>2</td>\n",
       "      <td>6</td>\n",
       "      <td>ahmedbaracat</td>\n",
       "      <td>9</td>\n",
       "    </tr>\n",
       "    <tr>\n",
       "      <th>17</th>\n",
       "      <td>2015-11-22 13:43:00</td>\n",
       "      <td>10610020</td>\n",
       "      <td>Ask HN: Am I the only one outraged by Twitter ...</td>\n",
       "      <td>NaN</td>\n",
       "      <td>28</td>\n",
       "      <td>29</td>\n",
       "      <td>tkfx</td>\n",
       "      <td>13</td>\n",
       "    </tr>\n",
       "    <tr>\n",
       "      <th>22</th>\n",
       "      <td>2016-05-02 10:14:00</td>\n",
       "      <td>11610310</td>\n",
       "      <td>Ask HN: Aby recent changes to CSS that broke m...</td>\n",
       "      <td>NaN</td>\n",
       "      <td>1</td>\n",
       "      <td>1</td>\n",
       "      <td>polskibus</td>\n",
       "      <td>10</td>\n",
       "    </tr>\n",
       "    <tr>\n",
       "      <th>30</th>\n",
       "      <td>2016-08-02 14:20:00</td>\n",
       "      <td>12210105</td>\n",
       "      <td>Ask HN: Looking for Employee #3 How do I do it?</td>\n",
       "      <td>NaN</td>\n",
       "      <td>1</td>\n",
       "      <td>3</td>\n",
       "      <td>sph130</td>\n",
       "      <td>14</td>\n",
       "    </tr>\n",
       "    <tr>\n",
       "      <th>31</th>\n",
       "      <td>2015-10-15 16:38:00</td>\n",
       "      <td>10394168</td>\n",
       "      <td>Ask HN: Someone offered to buy my browser exte...</td>\n",
       "      <td>NaN</td>\n",
       "      <td>28</td>\n",
       "      <td>17</td>\n",
       "      <td>roykolak</td>\n",
       "      <td>16</td>\n",
       "    </tr>\n",
       "  </tbody>\n",
       "</table>\n",
       "</div>"
      ],
      "text/plain": [
       "            created_at        id  \\\n",
       "7  2016-08-16 09:55:00  12296411   \n",
       "17 2015-11-22 13:43:00  10610020   \n",
       "22 2016-05-02 10:14:00  11610310   \n",
       "30 2016-08-02 14:20:00  12210105   \n",
       "31 2015-10-15 16:38:00  10394168   \n",
       "\n",
       "                                                title  url  num_points  \\\n",
       "7         Ask HN: How to improve my personal website?  NaN           2   \n",
       "17  Ask HN: Am I the only one outraged by Twitter ...  NaN          28   \n",
       "22  Ask HN: Aby recent changes to CSS that broke m...  NaN           1   \n",
       "30    Ask HN: Looking for Employee #3 How do I do it?  NaN           1   \n",
       "31  Ask HN: Someone offered to buy my browser exte...  NaN          28   \n",
       "\n",
       "    num_comments        author  hours  \n",
       "7              6  ahmedbaracat      9  \n",
       "17            29          tkfx     13  \n",
       "22             1     polskibus     10  \n",
       "30             3        sph130     14  \n",
       "31            17      roykolak     16  "
      ]
     },
     "execution_count": 50,
     "metadata": {},
     "output_type": "execute_result"
    }
   ],
   "source": [
    "ask_posts.head()"
   ]
  },
  {
   "cell_type": "code",
   "execution_count": 52,
   "metadata": {},
   "outputs": [
    {
     "data": {
      "text/plain": [
       "hours\n",
       "15    38.594828\n",
       "2     23.810345\n",
       "20    21.525000\n",
       "16    16.796296\n",
       "21    16.009174\n",
       "13    14.741176\n",
       "10    13.440678\n",
       "14    13.233645\n",
       "18    13.201835\n",
       "17    11.460000\n",
       "1     11.383333\n",
       "11    11.051724\n",
       "19    10.800000\n",
       "8     10.250000\n",
       "5     10.086957\n",
       "12     9.410959\n",
       "6      9.022727\n",
       "0      8.127273\n",
       "23     7.985294\n",
       "7      7.852941\n",
       "3      7.796296\n",
       "4      7.170213\n",
       "22     6.746479\n",
       "9      5.577778\n",
       "Name: num_comments, dtype: float64"
      ]
     },
     "execution_count": 52,
     "metadata": {},
     "output_type": "execute_result"
    }
   ],
   "source": [
    "ask_posts.groupby(\"hours\")[\"num_comments\"].mean().sort_values(ascending = False)"
   ]
  },
  {
   "cell_type": "code",
   "execution_count": null,
   "metadata": {},
   "outputs": [],
   "source": []
  }
 ],
 "metadata": {
  "kernelspec": {
   "display_name": "Python 3",
   "language": "python",
   "name": "python3"
  },
  "language_info": {
   "codemirror_mode": {
    "name": "ipython",
    "version": 3
   },
   "file_extension": ".py",
   "mimetype": "text/x-python",
   "name": "python",
   "nbconvert_exporter": "python",
   "pygments_lexer": "ipython3",
   "version": "3.8.5"
  }
 },
 "nbformat": 4,
 "nbformat_minor": 4
}
