{
 "cells": [
  {
   "cell_type": "markdown",
   "metadata": {},
   "source": [
    "In this project, we are working on data about **New York City public schools**. One of the most controversial issues in the U.S. educational system is the efficacy of standardized tests, and whether they're unfair to certain groups.\n",
    "\n",
    "Our job is to analyze if there is any biasness in **Scholastic Aptitude Test (SAT)**"
   ]
  },
  {
   "cell_type": "code",
   "execution_count": 1,
   "metadata": {},
   "outputs": [],
   "source": [
    "import pandas as pd\n",
    "import os\n",
    "os.environ['PROJ_LIB'] = 'C:\\ProgramData\\Anaconda3\\share'\n",
    "from mpl_toolkits.basemap import Basemap\n",
    "\n",
    "files = [\"ap_2010.csv\",\"class_size.csv\",\"demographics.csv\",\"graduation.csv\",\n",
    "         \"hs_directory.csv\",\"sat_results.csv\"]\n",
    "\n",
    "data = {}\n",
    "for file in files:\n",
    "    # df = pd.read_csv(f\"school/{file}\")\n",
    "    df = pd.read_csv(\"school/{0}\".format(file), )\n",
    "    key = file.replace(\".csv\",\"\")\n",
    "    data[key] = df\n"
   ]
  },
  {
   "cell_type": "code",
   "execution_count": 2,
   "metadata": {},
   "outputs": [
    {
     "data": {
      "text/plain": [
       "dict_keys(['ap_2010', 'class_size', 'demographics', 'graduation', 'hs_directory', 'sat_results'])"
      ]
     },
     "execution_count": 2,
     "metadata": {},
     "output_type": "execute_result"
    }
   ],
   "source": [
    "data.keys()"
   ]
  },
  {
   "cell_type": "code",
   "execution_count": 3,
   "metadata": {},
   "outputs": [
    {
     "data": {
      "text/html": [
       "<div>\n",
       "<style scoped>\n",
       "    .dataframe tbody tr th:only-of-type {\n",
       "        vertical-align: middle;\n",
       "    }\n",
       "\n",
       "    .dataframe tbody tr th {\n",
       "        vertical-align: top;\n",
       "    }\n",
       "\n",
       "    .dataframe thead th {\n",
       "        text-align: right;\n",
       "    }\n",
       "</style>\n",
       "<table border=\"1\" class=\"dataframe\">\n",
       "  <thead>\n",
       "    <tr style=\"text-align: right;\">\n",
       "      <th></th>\n",
       "      <th>DBN</th>\n",
       "      <th>SCHOOL NAME</th>\n",
       "      <th>Num of SAT Test Takers</th>\n",
       "      <th>SAT Critical Reading Avg. Score</th>\n",
       "      <th>SAT Math Avg. Score</th>\n",
       "      <th>SAT Writing Avg. Score</th>\n",
       "    </tr>\n",
       "  </thead>\n",
       "  <tbody>\n",
       "    <tr>\n",
       "      <th>0</th>\n",
       "      <td>01M292</td>\n",
       "      <td>HENRY STREET SCHOOL FOR INTERNATIONAL STUDIES</td>\n",
       "      <td>29</td>\n",
       "      <td>355</td>\n",
       "      <td>404</td>\n",
       "      <td>363</td>\n",
       "    </tr>\n",
       "    <tr>\n",
       "      <th>1</th>\n",
       "      <td>01M448</td>\n",
       "      <td>UNIVERSITY NEIGHBORHOOD HIGH SCHOOL</td>\n",
       "      <td>91</td>\n",
       "      <td>383</td>\n",
       "      <td>423</td>\n",
       "      <td>366</td>\n",
       "    </tr>\n",
       "    <tr>\n",
       "      <th>2</th>\n",
       "      <td>01M450</td>\n",
       "      <td>EAST SIDE COMMUNITY SCHOOL</td>\n",
       "      <td>70</td>\n",
       "      <td>377</td>\n",
       "      <td>402</td>\n",
       "      <td>370</td>\n",
       "    </tr>\n",
       "    <tr>\n",
       "      <th>3</th>\n",
       "      <td>01M458</td>\n",
       "      <td>FORSYTH SATELLITE ACADEMY</td>\n",
       "      <td>7</td>\n",
       "      <td>414</td>\n",
       "      <td>401</td>\n",
       "      <td>359</td>\n",
       "    </tr>\n",
       "    <tr>\n",
       "      <th>4</th>\n",
       "      <td>01M509</td>\n",
       "      <td>MARTA VALLE HIGH SCHOOL</td>\n",
       "      <td>44</td>\n",
       "      <td>390</td>\n",
       "      <td>433</td>\n",
       "      <td>384</td>\n",
       "    </tr>\n",
       "  </tbody>\n",
       "</table>\n",
       "</div>"
      ],
      "text/plain": [
       "      DBN                                    SCHOOL NAME  \\\n",
       "0  01M292  HENRY STREET SCHOOL FOR INTERNATIONAL STUDIES   \n",
       "1  01M448            UNIVERSITY NEIGHBORHOOD HIGH SCHOOL   \n",
       "2  01M450                     EAST SIDE COMMUNITY SCHOOL   \n",
       "3  01M458                      FORSYTH SATELLITE ACADEMY   \n",
       "4  01M509                        MARTA VALLE HIGH SCHOOL   \n",
       "\n",
       "  Num of SAT Test Takers SAT Critical Reading Avg. Score SAT Math Avg. Score  \\\n",
       "0                     29                             355                 404   \n",
       "1                     91                             383                 423   \n",
       "2                     70                             377                 402   \n",
       "3                      7                             414                 401   \n",
       "4                     44                             390                 433   \n",
       "\n",
       "  SAT Writing Avg. Score  \n",
       "0                    363  \n",
       "1                    366  \n",
       "2                    370  \n",
       "3                    359  \n",
       "4                    384  "
      ]
     },
     "execution_count": 3,
     "metadata": {},
     "output_type": "execute_result"
    }
   ],
   "source": [
    "data['sat_results'].head()"
   ]
  },
  {
   "cell_type": "code",
   "execution_count": 4,
   "metadata": {},
   "outputs": [],
   "source": [
    "# pd.read_table(\"school/survey_all.txt\", encoding = \"latin-1\")"
   ]
  },
  {
   "cell_type": "code",
   "execution_count": 5,
   "metadata": {},
   "outputs": [],
   "source": [
    "all_survey = pd.read_csv(\"school/survey_all.txt\", encoding = \"latin-1\",\n",
    "                         delimiter = \"\\t\")"
   ]
  },
  {
   "cell_type": "code",
   "execution_count": 6,
   "metadata": {},
   "outputs": [],
   "source": [
    "d75_survey = pd.read_csv(\"school/survey_d75.txt\", encoding = \"latin-1\",\n",
    "                         delimiter = \"\\t\")"
   ]
  },
  {
   "cell_type": "code",
   "execution_count": 7,
   "metadata": {},
   "outputs": [],
   "source": [
    "survey = pd.concat([all_survey, d75_survey], axis = \"index\", ignore_index= True)"
   ]
  },
  {
   "cell_type": "code",
   "execution_count": 8,
   "metadata": {},
   "outputs": [
    {
     "data": {
      "text/plain": [
       "(1702, 2773)"
      ]
     },
     "execution_count": 8,
     "metadata": {},
     "output_type": "execute_result"
    }
   ],
   "source": [
    "survey.shape"
   ]
  },
  {
   "cell_type": "code",
   "execution_count": 9,
   "metadata": {},
   "outputs": [
    {
     "data": {
      "text/plain": [
       "Index(['dbn', 'bn', 'schoolname', 'd75', 'studentssurveyed', 'highschool',\n",
       "       'schooltype', 'rr_s', 'rr_t', 'rr_p',\n",
       "       ...\n",
       "       's_q14_2', 's_q14_3', 's_q14_4', 's_q14_5', 's_q14_6', 's_q14_7',\n",
       "       's_q14_8', 's_q14_9', 's_q14_10', 's_q14_11'],\n",
       "      dtype='object', length=2773)"
      ]
     },
     "execution_count": 9,
     "metadata": {},
     "output_type": "execute_result"
    }
   ],
   "source": [
    "survey.columns"
   ]
  },
  {
   "cell_type": "code",
   "execution_count": 10,
   "metadata": {},
   "outputs": [],
   "source": [
    "survey.columns = survey.columns.str.replace(\"dbn\", \"DBN\")"
   ]
  },
  {
   "cell_type": "code",
   "execution_count": 11,
   "metadata": {},
   "outputs": [
    {
     "data": {
      "text/plain": [
       "Index(['DBN', 'bn', 'schoolname', 'd75', 'studentssurveyed', 'highschool',\n",
       "       'schooltype', 'rr_s', 'rr_t', 'rr_p',\n",
       "       ...\n",
       "       's_q14_2', 's_q14_3', 's_q14_4', 's_q14_5', 's_q14_6', 's_q14_7',\n",
       "       's_q14_8', 's_q14_9', 's_q14_10', 's_q14_11'],\n",
       "      dtype='object', length=2773)"
      ]
     },
     "execution_count": 11,
     "metadata": {},
     "output_type": "execute_result"
    }
   ],
   "source": [
    "survey.columns"
   ]
  },
  {
   "cell_type": "code",
   "execution_count": 12,
   "metadata": {},
   "outputs": [],
   "source": [
    "survey_fields = [\"DBN\", \"rr_s\", \"rr_t\", \"rr_p\", \"N_s\", \"N_t\", \"N_p\", \"saf_p_11\", \n",
    "        \"com_p_11\", \"eng_p_11\", \"aca_p_11\", \"saf_t_11\", \"com_t_11\", \"eng_t_11\", \n",
    "        \"aca_t_11\", \"saf_s_11\", \"com_s_11\", \"eng_s_11\", \"aca_s_11\", \"saf_tot_11\", \n",
    "        \"com_tot_11\", \"eng_tot_11\", \"aca_tot_11\"]\n",
    "\n"
   ]
  },
  {
   "cell_type": "code",
   "execution_count": 13,
   "metadata": {},
   "outputs": [],
   "source": [
    "survey = survey[survey_fields]"
   ]
  },
  {
   "cell_type": "code",
   "execution_count": 14,
   "metadata": {},
   "outputs": [],
   "source": [
    "data[\"survey\"] = survey"
   ]
  },
  {
   "cell_type": "code",
   "execution_count": 15,
   "metadata": {},
   "outputs": [
    {
     "data": {
      "text/plain": [
       "dict_keys(['ap_2010', 'class_size', 'demographics', 'graduation', 'hs_directory', 'sat_results', 'survey'])"
      ]
     },
     "execution_count": 15,
     "metadata": {},
     "output_type": "execute_result"
    }
   ],
   "source": [
    "data.keys()"
   ]
  },
  {
   "cell_type": "code",
   "execution_count": 16,
   "metadata": {},
   "outputs": [
    {
     "data": {
      "text/html": [
       "<div>\n",
       "<style scoped>\n",
       "    .dataframe tbody tr th:only-of-type {\n",
       "        vertical-align: middle;\n",
       "    }\n",
       "\n",
       "    .dataframe tbody tr th {\n",
       "        vertical-align: top;\n",
       "    }\n",
       "\n",
       "    .dataframe thead th {\n",
       "        text-align: right;\n",
       "    }\n",
       "</style>\n",
       "<table border=\"1\" class=\"dataframe\">\n",
       "  <thead>\n",
       "    <tr style=\"text-align: right;\">\n",
       "      <th></th>\n",
       "      <th>DBN</th>\n",
       "      <th>SchoolName</th>\n",
       "      <th>AP Test Takers</th>\n",
       "      <th>Total Exams Taken</th>\n",
       "      <th>Number of Exams with scores 3 4 or 5</th>\n",
       "    </tr>\n",
       "  </thead>\n",
       "  <tbody>\n",
       "    <tr>\n",
       "      <th>0</th>\n",
       "      <td>01M448</td>\n",
       "      <td>UNIVERSITY NEIGHBORHOOD H.S.</td>\n",
       "      <td>39.0</td>\n",
       "      <td>49.0</td>\n",
       "      <td>10.0</td>\n",
       "    </tr>\n",
       "    <tr>\n",
       "      <th>1</th>\n",
       "      <td>01M450</td>\n",
       "      <td>EAST SIDE COMMUNITY HS</td>\n",
       "      <td>19.0</td>\n",
       "      <td>21.0</td>\n",
       "      <td>NaN</td>\n",
       "    </tr>\n",
       "    <tr>\n",
       "      <th>2</th>\n",
       "      <td>01M515</td>\n",
       "      <td>LOWER EASTSIDE PREP</td>\n",
       "      <td>24.0</td>\n",
       "      <td>26.0</td>\n",
       "      <td>24.0</td>\n",
       "    </tr>\n",
       "    <tr>\n",
       "      <th>3</th>\n",
       "      <td>01M539</td>\n",
       "      <td>NEW EXPLORATIONS SCI,TECH,MATH</td>\n",
       "      <td>255.0</td>\n",
       "      <td>377.0</td>\n",
       "      <td>191.0</td>\n",
       "    </tr>\n",
       "    <tr>\n",
       "      <th>4</th>\n",
       "      <td>02M296</td>\n",
       "      <td>High School of Hospitality Management</td>\n",
       "      <td>NaN</td>\n",
       "      <td>NaN</td>\n",
       "      <td>NaN</td>\n",
       "    </tr>\n",
       "  </tbody>\n",
       "</table>\n",
       "</div>"
      ],
      "text/plain": [
       "      DBN                             SchoolName  AP Test Takers   \\\n",
       "0  01M448           UNIVERSITY NEIGHBORHOOD H.S.             39.0   \n",
       "1  01M450                 EAST SIDE COMMUNITY HS             19.0   \n",
       "2  01M515                    LOWER EASTSIDE PREP             24.0   \n",
       "3  01M539         NEW EXPLORATIONS SCI,TECH,MATH            255.0   \n",
       "4  02M296  High School of Hospitality Management              NaN   \n",
       "\n",
       "   Total Exams Taken  Number of Exams with scores 3 4 or 5  \n",
       "0               49.0                                  10.0  \n",
       "1               21.0                                   NaN  \n",
       "2               26.0                                  24.0  \n",
       "3              377.0                                 191.0  \n",
       "4                NaN                                   NaN  "
      ]
     },
     "execution_count": 16,
     "metadata": {},
     "output_type": "execute_result"
    }
   ],
   "source": [
    "data[\"ap_2010\"].head()"
   ]
  },
  {
   "cell_type": "code",
   "execution_count": 17,
   "metadata": {},
   "outputs": [
    {
     "name": "stdout",
     "output_type": "stream",
     "text": [
      "<class 'pandas.core.frame.DataFrame'>\n",
      "RangeIndex: 258 entries, 0 to 257\n",
      "Data columns (total 5 columns):\n",
      " #   Column                                Non-Null Count  Dtype  \n",
      "---  ------                                --------------  -----  \n",
      " 0   DBN                                   258 non-null    object \n",
      " 1   SchoolName                            258 non-null    object \n",
      " 2   AP Test Takers                        233 non-null    float64\n",
      " 3   Total Exams Taken                     233 non-null    float64\n",
      " 4   Number of Exams with scores 3 4 or 5  151 non-null    float64\n",
      "dtypes: float64(3), object(2)\n",
      "memory usage: 10.2+ KB\n"
     ]
    }
   ],
   "source": [
    "data[\"ap_2010\"].info()"
   ]
  },
  {
   "cell_type": "code",
   "execution_count": 18,
   "metadata": {},
   "outputs": [
    {
     "data": {
      "text/plain": [
       "257"
      ]
     },
     "execution_count": 18,
     "metadata": {},
     "output_type": "execute_result"
    }
   ],
   "source": [
    "len(data[\"ap_2010\"][\"DBN\"].unique())"
   ]
  },
  {
   "cell_type": "code",
   "execution_count": 19,
   "metadata": {},
   "outputs": [
    {
     "name": "stdout",
     "output_type": "stream",
     "text": [
      "<class 'pandas.core.frame.DataFrame'>\n",
      "RangeIndex: 478 entries, 0 to 477\n",
      "Data columns (total 6 columns):\n",
      " #   Column                           Non-Null Count  Dtype \n",
      "---  ------                           --------------  ----- \n",
      " 0   DBN                              478 non-null    object\n",
      " 1   SCHOOL NAME                      478 non-null    object\n",
      " 2   Num of SAT Test Takers           478 non-null    object\n",
      " 3   SAT Critical Reading Avg. Score  478 non-null    object\n",
      " 4   SAT Math Avg. Score              478 non-null    object\n",
      " 5   SAT Writing Avg. Score           478 non-null    object\n",
      "dtypes: object(6)\n",
      "memory usage: 22.5+ KB\n"
     ]
    }
   ],
   "source": [
    "data[\"sat_results\"].info()"
   ]
  },
  {
   "cell_type": "code",
   "execution_count": 20,
   "metadata": {},
   "outputs": [
    {
     "data": {
      "text/plain": [
       "478"
      ]
     },
     "execution_count": 20,
     "metadata": {},
     "output_type": "execute_result"
    }
   ],
   "source": [
    "len(data[\"sat_results\"][\"DBN\"].unique())"
   ]
  },
  {
   "cell_type": "code",
   "execution_count": 21,
   "metadata": {},
   "outputs": [
    {
     "data": {
      "text/plain": [
       "04M610    2\n",
       "14K474    1\n",
       "28Q440    1\n",
       "14K322    1\n",
       "11X249    1\n",
       "         ..\n",
       "31R605    1\n",
       "07X500    1\n",
       "09X239    1\n",
       "11X288    1\n",
       "02M459    1\n",
       "Name: DBN, Length: 257, dtype: int64"
      ]
     },
     "execution_count": 21,
     "metadata": {},
     "output_type": "execute_result"
    }
   ],
   "source": [
    "data[\"ap_2010\"][\"DBN\"].value_counts()"
   ]
  },
  {
   "cell_type": "code",
   "execution_count": 22,
   "metadata": {},
   "outputs": [
    {
     "data": {
      "text/html": [
       "<div>\n",
       "<style scoped>\n",
       "    .dataframe tbody tr th:only-of-type {\n",
       "        vertical-align: middle;\n",
       "    }\n",
       "\n",
       "    .dataframe tbody tr th {\n",
       "        vertical-align: top;\n",
       "    }\n",
       "\n",
       "    .dataframe thead th {\n",
       "        text-align: right;\n",
       "    }\n",
       "</style>\n",
       "<table border=\"1\" class=\"dataframe\">\n",
       "  <thead>\n",
       "    <tr style=\"text-align: right;\">\n",
       "      <th></th>\n",
       "      <th>DBN</th>\n",
       "      <th>SchoolName</th>\n",
       "      <th>AP Test Takers</th>\n",
       "      <th>Total Exams Taken</th>\n",
       "      <th>Number of Exams with scores 3 4 or 5</th>\n",
       "    </tr>\n",
       "  </thead>\n",
       "  <tbody>\n",
       "    <tr>\n",
       "      <th>51</th>\n",
       "      <td>04M610</td>\n",
       "      <td>THE YOUNG WOMEN'S LEADERSHIP SCHOOL OF EAST HA...</td>\n",
       "      <td>41.0</td>\n",
       "      <td>55.0</td>\n",
       "      <td>29.0</td>\n",
       "    </tr>\n",
       "    <tr>\n",
       "      <th>52</th>\n",
       "      <td>04M610</td>\n",
       "      <td>YOUNG WOMEN'S LEADERSHIP SCH</td>\n",
       "      <td>NaN</td>\n",
       "      <td>NaN</td>\n",
       "      <td>NaN</td>\n",
       "    </tr>\n",
       "  </tbody>\n",
       "</table>\n",
       "</div>"
      ],
      "text/plain": [
       "       DBN                                         SchoolName  \\\n",
       "51  04M610  THE YOUNG WOMEN'S LEADERSHIP SCHOOL OF EAST HA...   \n",
       "52  04M610                       YOUNG WOMEN'S LEADERSHIP SCH   \n",
       "\n",
       "    AP Test Takers   Total Exams Taken  Number of Exams with scores 3 4 or 5  \n",
       "51             41.0               55.0                                  29.0  \n",
       "52              NaN                NaN                                   NaN  "
      ]
     },
     "execution_count": 22,
     "metadata": {},
     "output_type": "execute_result"
    }
   ],
   "source": [
    "ap_dbn = data[\"ap_2010\"][\"DBN\"]\n",
    "bol = ap_dbn == \"04M610\"\n",
    "\n",
    "data[\"ap_2010\"][bol]"
   ]
  },
  {
   "cell_type": "code",
   "execution_count": 23,
   "metadata": {},
   "outputs": [
    {
     "data": {
      "text/html": [
       "<div>\n",
       "<style scoped>\n",
       "    .dataframe tbody tr th:only-of-type {\n",
       "        vertical-align: middle;\n",
       "    }\n",
       "\n",
       "    .dataframe tbody tr th {\n",
       "        vertical-align: top;\n",
       "    }\n",
       "\n",
       "    .dataframe thead th {\n",
       "        text-align: right;\n",
       "    }\n",
       "</style>\n",
       "<table border=\"1\" class=\"dataframe\">\n",
       "  <thead>\n",
       "    <tr style=\"text-align: right;\">\n",
       "      <th></th>\n",
       "      <th>DBN</th>\n",
       "      <th>SchoolName</th>\n",
       "      <th>AP Test Takers</th>\n",
       "      <th>Total Exams Taken</th>\n",
       "      <th>Number of Exams with scores 3 4 or 5</th>\n",
       "    </tr>\n",
       "  </thead>\n",
       "  <tbody>\n",
       "    <tr>\n",
       "      <th>51</th>\n",
       "      <td>04M610</td>\n",
       "      <td>THE YOUNG WOMEN'S LEADERSHIP SCHOOL OF EAST HARLEM</td>\n",
       "      <td>41.0</td>\n",
       "      <td>55.0</td>\n",
       "      <td>29.0</td>\n",
       "    </tr>\n",
       "    <tr>\n",
       "      <th>52</th>\n",
       "      <td>04M610</td>\n",
       "      <td>YOUNG WOMEN'S LEADERSHIP SCH</td>\n",
       "      <td>NaN</td>\n",
       "      <td>NaN</td>\n",
       "      <td>NaN</td>\n",
       "    </tr>\n",
       "  </tbody>\n",
       "</table>\n",
       "</div>"
      ],
      "text/plain": [
       "       DBN                                          SchoolName  \\\n",
       "51  04M610  THE YOUNG WOMEN'S LEADERSHIP SCHOOL OF EAST HARLEM   \n",
       "52  04M610                        YOUNG WOMEN'S LEADERSHIP SCH   \n",
       "\n",
       "    AP Test Takers   Total Exams Taken  Number of Exams with scores 3 4 or 5  \n",
       "51             41.0               55.0                                  29.0  \n",
       "52              NaN                NaN                                   NaN  "
      ]
     },
     "execution_count": 23,
     "metadata": {},
     "output_type": "execute_result"
    }
   ],
   "source": [
    "pd.options.display.max_colwidth = None\n",
    "\n",
    "data[\"ap_2010\"][bol]"
   ]
  },
  {
   "cell_type": "code",
   "execution_count": 24,
   "metadata": {},
   "outputs": [],
   "source": [
    "data[\"ap_2010\"].drop(52, axis = 0, inplace = True)"
   ]
  },
  {
   "cell_type": "code",
   "execution_count": 25,
   "metadata": {},
   "outputs": [
    {
     "data": {
      "text/plain": [
       "(257, 5)"
      ]
     },
     "execution_count": 25,
     "metadata": {},
     "output_type": "execute_result"
    }
   ],
   "source": [
    "data[\"ap_2010\"].shape"
   ]
  },
  {
   "cell_type": "code",
   "execution_count": 26,
   "metadata": {},
   "outputs": [
    {
     "data": {
      "text/plain": [
       "DBN                                                    05M304\n",
       "SchoolName                              Mott Hall High School\n",
       "AP Test Takers                                             11\n",
       "Total Exams Taken                                          11\n",
       "Number of Exams with scores 3 4 or 5                      NaN\n",
       "Name: 53, dtype: object"
      ]
     },
     "execution_count": 26,
     "metadata": {},
     "output_type": "execute_result"
    }
   ],
   "source": [
    "data[\"ap_2010\"].iloc[52]"
   ]
  },
  {
   "cell_type": "code",
   "execution_count": 27,
   "metadata": {},
   "outputs": [
    {
     "data": {
      "text/plain": [
       "DBN                                                    05M304\n",
       "SchoolName                              Mott Hall High School\n",
       "AP Test Takers                                             11\n",
       "Total Exams Taken                                          11\n",
       "Number of Exams with scores 3 4 or 5                      NaN\n",
       "Name: 53, dtype: object"
      ]
     },
     "execution_count": 27,
     "metadata": {},
     "output_type": "execute_result"
    }
   ],
   "source": [
    "data[\"ap_2010\"].iloc[52]"
   ]
  },
  {
   "cell_type": "code",
   "execution_count": 28,
   "metadata": {},
   "outputs": [],
   "source": [
    "# data[\"ap_2010\"][\"DBN\"].value_counts()"
   ]
  },
  {
   "cell_type": "code",
   "execution_count": 29,
   "metadata": {},
   "outputs": [
    {
     "data": {
      "text/html": [
       "<div>\n",
       "<style scoped>\n",
       "    .dataframe tbody tr th:only-of-type {\n",
       "        vertical-align: middle;\n",
       "    }\n",
       "\n",
       "    .dataframe tbody tr th {\n",
       "        vertical-align: top;\n",
       "    }\n",
       "\n",
       "    .dataframe thead th {\n",
       "        text-align: right;\n",
       "    }\n",
       "</style>\n",
       "<table border=\"1\" class=\"dataframe\">\n",
       "  <thead>\n",
       "    <tr style=\"text-align: right;\">\n",
       "      <th></th>\n",
       "      <th>DBN</th>\n",
       "      <th>SchoolName</th>\n",
       "      <th>AP Test Takers</th>\n",
       "      <th>Total Exams Taken</th>\n",
       "      <th>Number of Exams with scores 3 4 or 5</th>\n",
       "    </tr>\n",
       "  </thead>\n",
       "  <tbody>\n",
       "    <tr>\n",
       "      <th>0</th>\n",
       "      <td>01M448</td>\n",
       "      <td>UNIVERSITY NEIGHBORHOOD H.S.</td>\n",
       "      <td>39.0</td>\n",
       "      <td>49.0</td>\n",
       "      <td>10.0</td>\n",
       "    </tr>\n",
       "    <tr>\n",
       "      <th>1</th>\n",
       "      <td>01M450</td>\n",
       "      <td>EAST SIDE COMMUNITY HS</td>\n",
       "      <td>19.0</td>\n",
       "      <td>21.0</td>\n",
       "      <td>NaN</td>\n",
       "    </tr>\n",
       "    <tr>\n",
       "      <th>2</th>\n",
       "      <td>01M515</td>\n",
       "      <td>LOWER EASTSIDE PREP</td>\n",
       "      <td>24.0</td>\n",
       "      <td>26.0</td>\n",
       "      <td>24.0</td>\n",
       "    </tr>\n",
       "    <tr>\n",
       "      <th>3</th>\n",
       "      <td>01M539</td>\n",
       "      <td>NEW EXPLORATIONS SCI,TECH,MATH</td>\n",
       "      <td>255.0</td>\n",
       "      <td>377.0</td>\n",
       "      <td>191.0</td>\n",
       "    </tr>\n",
       "    <tr>\n",
       "      <th>4</th>\n",
       "      <td>02M296</td>\n",
       "      <td>High School of Hospitality Management</td>\n",
       "      <td>NaN</td>\n",
       "      <td>NaN</td>\n",
       "      <td>NaN</td>\n",
       "    </tr>\n",
       "  </tbody>\n",
       "</table>\n",
       "</div>"
      ],
      "text/plain": [
       "      DBN                             SchoolName  AP Test Takers   \\\n",
       "0  01M448           UNIVERSITY NEIGHBORHOOD H.S.             39.0   \n",
       "1  01M450                 EAST SIDE COMMUNITY HS             19.0   \n",
       "2  01M515                    LOWER EASTSIDE PREP             24.0   \n",
       "3  01M539         NEW EXPLORATIONS SCI,TECH,MATH            255.0   \n",
       "4  02M296  High School of Hospitality Management              NaN   \n",
       "\n",
       "   Total Exams Taken  Number of Exams with scores 3 4 or 5  \n",
       "0               49.0                                  10.0  \n",
       "1               21.0                                   NaN  \n",
       "2               26.0                                  24.0  \n",
       "3              377.0                                 191.0  \n",
       "4                NaN                                   NaN  "
      ]
     },
     "execution_count": 29,
     "metadata": {},
     "output_type": "execute_result"
    }
   ],
   "source": [
    "data[\"ap_2010\"].head()"
   ]
  },
  {
   "cell_type": "code",
   "execution_count": 30,
   "metadata": {},
   "outputs": [
    {
     "data": {
      "text/plain": [
       "dict_keys(['ap_2010', 'class_size', 'demographics', 'graduation', 'hs_directory', 'sat_results', 'survey'])"
      ]
     },
     "execution_count": 30,
     "metadata": {},
     "output_type": "execute_result"
    }
   ],
   "source": [
    "data.keys()"
   ]
  },
  {
   "cell_type": "code",
   "execution_count": 31,
   "metadata": {},
   "outputs": [
    {
     "data": {
      "text/html": [
       "<div>\n",
       "<style scoped>\n",
       "    .dataframe tbody tr th:only-of-type {\n",
       "        vertical-align: middle;\n",
       "    }\n",
       "\n",
       "    .dataframe tbody tr th {\n",
       "        vertical-align: top;\n",
       "    }\n",
       "\n",
       "    .dataframe thead th {\n",
       "        text-align: right;\n",
       "    }\n",
       "</style>\n",
       "<table border=\"1\" class=\"dataframe\">\n",
       "  <thead>\n",
       "    <tr style=\"text-align: right;\">\n",
       "      <th></th>\n",
       "      <th>CSD</th>\n",
       "      <th>BOROUGH</th>\n",
       "      <th>SCHOOL CODE</th>\n",
       "      <th>SCHOOL NAME</th>\n",
       "      <th>GRADE</th>\n",
       "      <th>PROGRAM TYPE</th>\n",
       "      <th>CORE SUBJECT (MS CORE and 9-12 ONLY)</th>\n",
       "      <th>CORE COURSE (MS CORE and 9-12 ONLY)</th>\n",
       "      <th>SERVICE CATEGORY(K-9* ONLY)</th>\n",
       "      <th>NUMBER OF STUDENTS / SEATS FILLED</th>\n",
       "      <th>NUMBER OF SECTIONS</th>\n",
       "      <th>AVERAGE CLASS SIZE</th>\n",
       "      <th>SIZE OF SMALLEST CLASS</th>\n",
       "      <th>SIZE OF LARGEST CLASS</th>\n",
       "      <th>DATA SOURCE</th>\n",
       "      <th>SCHOOLWIDE PUPIL-TEACHER RATIO</th>\n",
       "    </tr>\n",
       "  </thead>\n",
       "  <tbody>\n",
       "    <tr>\n",
       "      <th>0</th>\n",
       "      <td>1</td>\n",
       "      <td>M</td>\n",
       "      <td>M015</td>\n",
       "      <td>P.S. 015 Roberto Clemente</td>\n",
       "      <td>0K</td>\n",
       "      <td>GEN ED</td>\n",
       "      <td>-</td>\n",
       "      <td>-</td>\n",
       "      <td>-</td>\n",
       "      <td>19.0</td>\n",
       "      <td>1.0</td>\n",
       "      <td>19.0</td>\n",
       "      <td>19.0</td>\n",
       "      <td>19.0</td>\n",
       "      <td>ATS</td>\n",
       "      <td>NaN</td>\n",
       "    </tr>\n",
       "    <tr>\n",
       "      <th>1</th>\n",
       "      <td>1</td>\n",
       "      <td>M</td>\n",
       "      <td>M015</td>\n",
       "      <td>P.S. 015 Roberto Clemente</td>\n",
       "      <td>0K</td>\n",
       "      <td>CTT</td>\n",
       "      <td>-</td>\n",
       "      <td>-</td>\n",
       "      <td>-</td>\n",
       "      <td>21.0</td>\n",
       "      <td>1.0</td>\n",
       "      <td>21.0</td>\n",
       "      <td>21.0</td>\n",
       "      <td>21.0</td>\n",
       "      <td>ATS</td>\n",
       "      <td>NaN</td>\n",
       "    </tr>\n",
       "    <tr>\n",
       "      <th>2</th>\n",
       "      <td>1</td>\n",
       "      <td>M</td>\n",
       "      <td>M015</td>\n",
       "      <td>P.S. 015 Roberto Clemente</td>\n",
       "      <td>01</td>\n",
       "      <td>GEN ED</td>\n",
       "      <td>-</td>\n",
       "      <td>-</td>\n",
       "      <td>-</td>\n",
       "      <td>17.0</td>\n",
       "      <td>1.0</td>\n",
       "      <td>17.0</td>\n",
       "      <td>17.0</td>\n",
       "      <td>17.0</td>\n",
       "      <td>ATS</td>\n",
       "      <td>NaN</td>\n",
       "    </tr>\n",
       "    <tr>\n",
       "      <th>3</th>\n",
       "      <td>1</td>\n",
       "      <td>M</td>\n",
       "      <td>M015</td>\n",
       "      <td>P.S. 015 Roberto Clemente</td>\n",
       "      <td>01</td>\n",
       "      <td>CTT</td>\n",
       "      <td>-</td>\n",
       "      <td>-</td>\n",
       "      <td>-</td>\n",
       "      <td>17.0</td>\n",
       "      <td>1.0</td>\n",
       "      <td>17.0</td>\n",
       "      <td>17.0</td>\n",
       "      <td>17.0</td>\n",
       "      <td>ATS</td>\n",
       "      <td>NaN</td>\n",
       "    </tr>\n",
       "    <tr>\n",
       "      <th>4</th>\n",
       "      <td>1</td>\n",
       "      <td>M</td>\n",
       "      <td>M015</td>\n",
       "      <td>P.S. 015 Roberto Clemente</td>\n",
       "      <td>02</td>\n",
       "      <td>GEN ED</td>\n",
       "      <td>-</td>\n",
       "      <td>-</td>\n",
       "      <td>-</td>\n",
       "      <td>15.0</td>\n",
       "      <td>1.0</td>\n",
       "      <td>15.0</td>\n",
       "      <td>15.0</td>\n",
       "      <td>15.0</td>\n",
       "      <td>ATS</td>\n",
       "      <td>NaN</td>\n",
       "    </tr>\n",
       "  </tbody>\n",
       "</table>\n",
       "</div>"
      ],
      "text/plain": [
       "   CSD BOROUGH SCHOOL CODE                SCHOOL NAME GRADE  PROGRAM TYPE  \\\n",
       "0    1       M        M015  P.S. 015 Roberto Clemente     0K       GEN ED   \n",
       "1    1       M        M015  P.S. 015 Roberto Clemente     0K          CTT   \n",
       "2    1       M        M015  P.S. 015 Roberto Clemente     01       GEN ED   \n",
       "3    1       M        M015  P.S. 015 Roberto Clemente     01          CTT   \n",
       "4    1       M        M015  P.S. 015 Roberto Clemente     02       GEN ED   \n",
       "\n",
       "  CORE SUBJECT (MS CORE and 9-12 ONLY) CORE COURSE (MS CORE and 9-12 ONLY)  \\\n",
       "0                                    -                                   -   \n",
       "1                                    -                                   -   \n",
       "2                                    -                                   -   \n",
       "3                                    -                                   -   \n",
       "4                                    -                                   -   \n",
       "\n",
       "  SERVICE CATEGORY(K-9* ONLY)  NUMBER OF STUDENTS / SEATS FILLED  \\\n",
       "0                           -                               19.0   \n",
       "1                           -                               21.0   \n",
       "2                           -                               17.0   \n",
       "3                           -                               17.0   \n",
       "4                           -                               15.0   \n",
       "\n",
       "   NUMBER OF SECTIONS  AVERAGE CLASS SIZE  SIZE OF SMALLEST CLASS  \\\n",
       "0                 1.0                19.0                    19.0   \n",
       "1                 1.0                21.0                    21.0   \n",
       "2                 1.0                17.0                    17.0   \n",
       "3                 1.0                17.0                    17.0   \n",
       "4                 1.0                15.0                    15.0   \n",
       "\n",
       "   SIZE OF LARGEST CLASS DATA SOURCE  SCHOOLWIDE PUPIL-TEACHER RATIO  \n",
       "0                   19.0         ATS                             NaN  \n",
       "1                   21.0         ATS                             NaN  \n",
       "2                   17.0         ATS                             NaN  \n",
       "3                   17.0         ATS                             NaN  \n",
       "4                   15.0         ATS                             NaN  "
      ]
     },
     "execution_count": 31,
     "metadata": {},
     "output_type": "execute_result"
    }
   ],
   "source": [
    "data['class_size'].head()"
   ]
  },
  {
   "cell_type": "code",
   "execution_count": 32,
   "metadata": {},
   "outputs": [
    {
     "data": {
      "text/plain": [
       "Index(['CSD', 'BOROUGH', 'SCHOOL CODE', 'SCHOOL NAME', 'GRADE ',\n",
       "       'PROGRAM TYPE', 'CORE SUBJECT (MS CORE and 9-12 ONLY)',\n",
       "       'CORE COURSE (MS CORE and 9-12 ONLY)', 'SERVICE CATEGORY(K-9* ONLY)',\n",
       "       'NUMBER OF STUDENTS / SEATS FILLED', 'NUMBER OF SECTIONS',\n",
       "       'AVERAGE CLASS SIZE', 'SIZE OF SMALLEST CLASS', 'SIZE OF LARGEST CLASS',\n",
       "       'DATA SOURCE', 'SCHOOLWIDE PUPIL-TEACHER RATIO'],\n",
       "      dtype='object')"
      ]
     },
     "execution_count": 32,
     "metadata": {},
     "output_type": "execute_result"
    }
   ],
   "source": [
    "data['class_size'].columns"
   ]
  },
  {
   "cell_type": "code",
   "execution_count": 33,
   "metadata": {},
   "outputs": [
    {
     "data": {
      "text/plain": [
       "K429    57\n",
       "X505    56\n",
       "X517    56\n",
       "K448    52\n",
       "K690    52\n",
       "        ..\n",
       "Q290     3\n",
       "K534     3\n",
       "X090     2\n",
       "M267     2\n",
       "Q465     2\n",
       "Name: SCHOOL CODE, Length: 1487, dtype: int64"
      ]
     },
     "execution_count": 33,
     "metadata": {},
     "output_type": "execute_result"
    }
   ],
   "source": [
    "data['class_size'][\"SCHOOL CODE\"].value_counts()"
   ]
  },
  {
   "cell_type": "code",
   "execution_count": 34,
   "metadata": {},
   "outputs": [
    {
     "name": "stdout",
     "output_type": "stream",
     "text": [
      "<class 'pandas.core.frame.DataFrame'>\n",
      "RangeIndex: 27611 entries, 0 to 27610\n",
      "Data columns (total 16 columns):\n",
      " #   Column                                Non-Null Count  Dtype  \n",
      "---  ------                                --------------  -----  \n",
      " 0   CSD                                   27611 non-null  int64  \n",
      " 1   BOROUGH                               27611 non-null  object \n",
      " 2   SCHOOL CODE                           27611 non-null  object \n",
      " 3   SCHOOL NAME                           27611 non-null  object \n",
      " 4   GRADE                                 26127 non-null  object \n",
      " 5   PROGRAM TYPE                          26127 non-null  object \n",
      " 6   CORE SUBJECT (MS CORE and 9-12 ONLY)  26127 non-null  object \n",
      " 7   CORE COURSE (MS CORE and 9-12 ONLY)   26127 non-null  object \n",
      " 8   SERVICE CATEGORY(K-9* ONLY)           26127 non-null  object \n",
      " 9   NUMBER OF STUDENTS / SEATS FILLED     26127 non-null  float64\n",
      " 10  NUMBER OF SECTIONS                    26127 non-null  float64\n",
      " 11  AVERAGE CLASS SIZE                    26127 non-null  float64\n",
      " 12  SIZE OF SMALLEST CLASS                26127 non-null  float64\n",
      " 13  SIZE OF LARGEST CLASS                 26127 non-null  float64\n",
      " 14  DATA SOURCE                           26127 non-null  object \n",
      " 15  SCHOOLWIDE PUPIL-TEACHER RATIO        1484 non-null   float64\n",
      "dtypes: float64(6), int64(1), object(9)\n",
      "memory usage: 3.4+ MB\n"
     ]
    }
   ],
   "source": [
    "data['class_size'].info()"
   ]
  },
  {
   "cell_type": "code",
   "execution_count": 35,
   "metadata": {},
   "outputs": [],
   "source": [
    "class_s = data['class_size']"
   ]
  },
  {
   "cell_type": "code",
   "execution_count": 36,
   "metadata": {},
   "outputs": [
    {
     "data": {
      "text/plain": [
       "0    1\n",
       "1    1\n",
       "2    1\n",
       "3    1\n",
       "4    1\n",
       "Name: CSD, dtype: int64"
      ]
     },
     "execution_count": 36,
     "metadata": {},
     "output_type": "execute_result"
    }
   ],
   "source": [
    "class_s[\"CSD\"].head()"
   ]
  },
  {
   "cell_type": "code",
   "execution_count": 37,
   "metadata": {},
   "outputs": [
    {
     "data": {
      "text/plain": [
       "0         01\n",
       "1         01\n",
       "2         01\n",
       "3         01\n",
       "4         01\n",
       "        ... \n",
       "27606    032\n",
       "27607    032\n",
       "27608    032\n",
       "27609    032\n",
       "27610    032\n",
       "Name: CSD, Length: 27611, dtype: object"
      ]
     },
     "execution_count": 37,
     "metadata": {},
     "output_type": "execute_result"
    }
   ],
   "source": [
    "\"0\" + class_s[\"CSD\"].astype(str)"
   ]
  },
  {
   "cell_type": "code",
   "execution_count": 38,
   "metadata": {},
   "outputs": [
    {
     "data": {
      "text/plain": [
       "array(['01M292', '01M448', '01M450', '01M458', '01M509', '01M515',\n",
       "       '01M539', '01M650', '01M696', '02M047', '02M288', '02M294',\n",
       "       '02M296', '02M298', '02M300', '02M303', '02M305', '02M308',\n",
       "       '02M313', '02M316', '02M374', '02M376', '02M392', '02M393',\n",
       "       '02M394', '02M399', '02M400', '02M407', '02M408', '02M411',\n",
       "       '02M412', '02M413', '02M414', '02M416', '02M418', '02M419',\n",
       "       '02M420', '02M425', '02M427', '02M429', '02M437', '02M438',\n",
       "       '02M439', '02M440', '02M449', '02M459', '02M460', '02M473',\n",
       "       '02M475', '02M489', '02M500', '02M519', '02M520', '02M529',\n",
       "       '02M531', '02M542', '02M543', '02M544', '02M545', '02M550',\n",
       "       '02M551', '02M560', '02M565', '02M570', '02M575', '02M580',\n",
       "       '02M586', '02M600', '02M605', '02M615', '02M620', '02M625',\n",
       "       '02M630', '02M655', '03M283', '03M299', '03M307', '03M402',\n",
       "       '03M403', '03M404', '03M415', '03M417', '03M470', '03M479',\n",
       "       '03M485', '03M492', '03M494', '03M505', '03M541', '03M577',\n",
       "       '03M860', '04M409', '04M435', '04M495', '04M555', '04M610',\n",
       "       '04M635', '04M680', '05M285', '05M304', '05M362', '05M367',\n",
       "       '05M369', '05M469', '05M499', '05M670', '05M685', '05M692',\n",
       "       '06M293', '06M346', '06M348', '06M423', '06M457', '06M462',\n",
       "       '06M463', '06M467', '06M468', '06M540', '06M552', '07X221',\n",
       "       '07X321', '07X334', '07X379', '07X381', '07X427', '07X473',\n",
       "       '07X495', '07X500', '07X520', '07X527', '07X547', '07X548',\n",
       "       '07X551', '07X600', '07X655', '07X670', '08X269', '08X282',\n",
       "       '08X293', '08X295', '08X305', '08X312', '08X332', '08X367',\n",
       "       '08X376', '08X377', '08X405', '08X408', '08X432', '08X452',\n",
       "       '08X507', '08X519', '08X530', '08X537', '08X540', '08X560',\n",
       "       '08X650', '09X227', '09X231', '09X239', '09X241', '09X250',\n",
       "       '09X252', '09X260', '09X263', '09X276', '09X297', '09X324',\n",
       "       '09X329', '09X365', '09X403', '09X404', '09X412', '09X413',\n",
       "       '09X414', '09X505', '09X517', '09X525', '09X543', '10X141',\n",
       "       '10X213', '10X225', '10X237', '10X243', '10X268', '10X284',\n",
       "       '10X319', '10X342', '10X368', '10X374', '10X397', '10X433',\n",
       "       '10X434', '10X437', '10X438', '10X439', '10X440', '10X442',\n",
       "       '10X445', '10X475', '10X477', '10X478', '10X546', '10X549',\n",
       "       '10X660', '10X667', '10X696', '11X249', '11X253', '11X265',\n",
       "       '11X270', '11X275', '11X288', '11X290', '11X299', '11X415',\n",
       "       '11X417', '11X418', '11X455', '11X456', '11X513', '11X514',\n",
       "       '11X541', '11X542', '11X544', '11X545', '12X245', '12X248',\n",
       "       '12X251', '12X262', '12X267', '12X271', '12X278', '12X388',\n",
       "       '12X428', '12X446', '12X478', '12X479', '12X480', '12X550',\n",
       "       '12X682', '12X684', '12X690', '12X692', '13K265', '13K336',\n",
       "       '13K350', '13K412', '13K419', '13K430', '13K439', '13K483',\n",
       "       '13K499', '13K509', '13K527', '13K553', '13K575', '13K595',\n",
       "       '13K605', '13K616', '13K670', '13K674', '14K071', '14K322',\n",
       "       '14K404', '14K449', '14K454', '14K474', '14K477', '14K478',\n",
       "       '14K488', '14K558', '14K561', '14K586', '14K610', '14K632',\n",
       "       '14K685', '14K923', '15K429', '15K448', '15K462', '15K463',\n",
       "       '15K464', '15K497', '15K519', '15K520', '15K529', '15K530',\n",
       "       '15K656', '15K667', '15K698', '16K393', '16K455', '16K498',\n",
       "       '16K594', '16K688', '17K382', '17K408', '17K467', '17K489',\n",
       "       '17K524', '17K528', '17K531', '17K533', '17K537', '17K539',\n",
       "       '17K543', '17K544', '17K546', '17K547', '17K548', '17K568',\n",
       "       '17K590', '17K600', '17K625', '17K751', '18K563', '18K566',\n",
       "       '18K567', '18K569', '18K576', '18K578', '18K589', '18K617',\n",
       "       '18K629', '18K633', '18K635', '18K637', '18K642', '18K673',\n",
       "       '19K409', '19K420', '19K431', '19K502', '19K504', '19K507',\n",
       "       '19K510', '19K583', '19K615', '19K618', '19K639', '19K659',\n",
       "       '19K660', '19K683', '20K445', '20K485', '20K490', '20K505',\n",
       "       '20K609', '20K658', '21K337', '21K344', '21K348', '21K410',\n",
       "       '21K412/21K411', '21K468', '21K525', '21K540', '21K559', '21K572',\n",
       "       '21K620', '21K690', '21K728', '22K405', '22K425', '22K495',\n",
       "       '22K535', '22K555', '23K493', '23K514', '23K643', '23K646',\n",
       "       '23K647', '23K697', '24Q264', '24Q267', '24Q293', '24Q296',\n",
       "       '24Q299', '24Q455', '24Q457', '24Q485', '24Q520', '24Q530',\n",
       "       '24Q550', '24Q560', '24Q600', '24Q610', '24Q744', '25Q252',\n",
       "       '25Q263', '25Q281', '25Q285', '25Q425', '25Q460', '25Q467',\n",
       "       '25Q525', '25Q540', '25Q670', '25Q792', '26Q415', '26Q430',\n",
       "       '26Q435', '26Q495', '26Q566', '27Q260', '27Q262', '27Q302',\n",
       "       '27Q308', '27Q309', '27Q323', '27Q400', '27Q410', '27Q475',\n",
       "       '27Q480', '27Q650', '28Q284', '28Q310', '28Q325', '28Q338',\n",
       "       '28Q350', '28Q440', '28Q470', '28Q505', '28Q620', '28Q680',\n",
       "       '28Q686', '28Q687', '28Q690', '28Q896', '29Q248', '29Q259',\n",
       "       '29Q265', '29Q272', '29Q283', '29Q326', '29Q492', '29Q494',\n",
       "       '29Q496', '29Q498', '30Q286', '30Q301', '30Q445', '30Q450',\n",
       "       '30Q501', '30Q502', '30Q555', '30Q575', '30Q580', '31R047',\n",
       "       '31R064', '31R080', '31R440', '31R445', '31R450', '31R455',\n",
       "       '31R460', '31R470', '31R600', '31R605', '31R607', '32K403',\n",
       "       '32K545', '32K549', '32K552', '32K554', '32K556', '32K564',\n",
       "       '75K371', '75M035', '75Q256', '75Q811', '75R025', '75X012',\n",
       "       '75X754', '79M645', '79Q950', '79X490'], dtype=object)"
      ]
     },
     "execution_count": 38,
     "metadata": {},
     "output_type": "execute_result"
    }
   ],
   "source": [
    "data['sat_results'][\"DBN\"].unique()"
   ]
  },
  {
   "cell_type": "code",
   "execution_count": 39,
   "metadata": {},
   "outputs": [],
   "source": [
    "CSD = []\n",
    "for csd in class_s[\"CSD\"].astype(str):\n",
    "    if len(csd) ==1:\n",
    "        CSD.append(\"0\"+csd)\n",
    "    else:\n",
    "        CSD.append(csd)"
   ]
  },
  {
   "cell_type": "code",
   "execution_count": 40,
   "metadata": {},
   "outputs": [],
   "source": [
    "# print(CSD)"
   ]
  },
  {
   "cell_type": "code",
   "execution_count": 41,
   "metadata": {},
   "outputs": [],
   "source": [
    "# data['class_size'][\"CSD\"] = CSD"
   ]
  },
  {
   "cell_type": "code",
   "execution_count": 42,
   "metadata": {},
   "outputs": [],
   "source": [
    "data['class_size'][\"CSD\"] = data['class_size'][\"CSD\"].astype(str).str.zfill(2)"
   ]
  },
  {
   "cell_type": "code",
   "execution_count": 43,
   "metadata": {},
   "outputs": [
    {
     "data": {
      "text/html": [
       "<div>\n",
       "<style scoped>\n",
       "    .dataframe tbody tr th:only-of-type {\n",
       "        vertical-align: middle;\n",
       "    }\n",
       "\n",
       "    .dataframe tbody tr th {\n",
       "        vertical-align: top;\n",
       "    }\n",
       "\n",
       "    .dataframe thead th {\n",
       "        text-align: right;\n",
       "    }\n",
       "</style>\n",
       "<table border=\"1\" class=\"dataframe\">\n",
       "  <thead>\n",
       "    <tr style=\"text-align: right;\">\n",
       "      <th></th>\n",
       "      <th>CSD</th>\n",
       "      <th>BOROUGH</th>\n",
       "      <th>SCHOOL CODE</th>\n",
       "      <th>SCHOOL NAME</th>\n",
       "      <th>GRADE</th>\n",
       "      <th>PROGRAM TYPE</th>\n",
       "      <th>CORE SUBJECT (MS CORE and 9-12 ONLY)</th>\n",
       "      <th>CORE COURSE (MS CORE and 9-12 ONLY)</th>\n",
       "      <th>SERVICE CATEGORY(K-9* ONLY)</th>\n",
       "      <th>NUMBER OF STUDENTS / SEATS FILLED</th>\n",
       "      <th>NUMBER OF SECTIONS</th>\n",
       "      <th>AVERAGE CLASS SIZE</th>\n",
       "      <th>SIZE OF SMALLEST CLASS</th>\n",
       "      <th>SIZE OF LARGEST CLASS</th>\n",
       "      <th>DATA SOURCE</th>\n",
       "      <th>SCHOOLWIDE PUPIL-TEACHER RATIO</th>\n",
       "    </tr>\n",
       "  </thead>\n",
       "  <tbody>\n",
       "    <tr>\n",
       "      <th>0</th>\n",
       "      <td>01</td>\n",
       "      <td>M</td>\n",
       "      <td>M015</td>\n",
       "      <td>P.S. 015 Roberto Clemente</td>\n",
       "      <td>0K</td>\n",
       "      <td>GEN ED</td>\n",
       "      <td>-</td>\n",
       "      <td>-</td>\n",
       "      <td>-</td>\n",
       "      <td>19.0</td>\n",
       "      <td>1.0</td>\n",
       "      <td>19.0</td>\n",
       "      <td>19.0</td>\n",
       "      <td>19.0</td>\n",
       "      <td>ATS</td>\n",
       "      <td>NaN</td>\n",
       "    </tr>\n",
       "    <tr>\n",
       "      <th>1</th>\n",
       "      <td>01</td>\n",
       "      <td>M</td>\n",
       "      <td>M015</td>\n",
       "      <td>P.S. 015 Roberto Clemente</td>\n",
       "      <td>0K</td>\n",
       "      <td>CTT</td>\n",
       "      <td>-</td>\n",
       "      <td>-</td>\n",
       "      <td>-</td>\n",
       "      <td>21.0</td>\n",
       "      <td>1.0</td>\n",
       "      <td>21.0</td>\n",
       "      <td>21.0</td>\n",
       "      <td>21.0</td>\n",
       "      <td>ATS</td>\n",
       "      <td>NaN</td>\n",
       "    </tr>\n",
       "    <tr>\n",
       "      <th>2</th>\n",
       "      <td>01</td>\n",
       "      <td>M</td>\n",
       "      <td>M015</td>\n",
       "      <td>P.S. 015 Roberto Clemente</td>\n",
       "      <td>01</td>\n",
       "      <td>GEN ED</td>\n",
       "      <td>-</td>\n",
       "      <td>-</td>\n",
       "      <td>-</td>\n",
       "      <td>17.0</td>\n",
       "      <td>1.0</td>\n",
       "      <td>17.0</td>\n",
       "      <td>17.0</td>\n",
       "      <td>17.0</td>\n",
       "      <td>ATS</td>\n",
       "      <td>NaN</td>\n",
       "    </tr>\n",
       "    <tr>\n",
       "      <th>3</th>\n",
       "      <td>01</td>\n",
       "      <td>M</td>\n",
       "      <td>M015</td>\n",
       "      <td>P.S. 015 Roberto Clemente</td>\n",
       "      <td>01</td>\n",
       "      <td>CTT</td>\n",
       "      <td>-</td>\n",
       "      <td>-</td>\n",
       "      <td>-</td>\n",
       "      <td>17.0</td>\n",
       "      <td>1.0</td>\n",
       "      <td>17.0</td>\n",
       "      <td>17.0</td>\n",
       "      <td>17.0</td>\n",
       "      <td>ATS</td>\n",
       "      <td>NaN</td>\n",
       "    </tr>\n",
       "    <tr>\n",
       "      <th>4</th>\n",
       "      <td>01</td>\n",
       "      <td>M</td>\n",
       "      <td>M015</td>\n",
       "      <td>P.S. 015 Roberto Clemente</td>\n",
       "      <td>02</td>\n",
       "      <td>GEN ED</td>\n",
       "      <td>-</td>\n",
       "      <td>-</td>\n",
       "      <td>-</td>\n",
       "      <td>15.0</td>\n",
       "      <td>1.0</td>\n",
       "      <td>15.0</td>\n",
       "      <td>15.0</td>\n",
       "      <td>15.0</td>\n",
       "      <td>ATS</td>\n",
       "      <td>NaN</td>\n",
       "    </tr>\n",
       "  </tbody>\n",
       "</table>\n",
       "</div>"
      ],
      "text/plain": [
       "  CSD BOROUGH SCHOOL CODE                SCHOOL NAME GRADE  PROGRAM TYPE  \\\n",
       "0  01       M        M015  P.S. 015 Roberto Clemente     0K       GEN ED   \n",
       "1  01       M        M015  P.S. 015 Roberto Clemente     0K          CTT   \n",
       "2  01       M        M015  P.S. 015 Roberto Clemente     01       GEN ED   \n",
       "3  01       M        M015  P.S. 015 Roberto Clemente     01          CTT   \n",
       "4  01       M        M015  P.S. 015 Roberto Clemente     02       GEN ED   \n",
       "\n",
       "  CORE SUBJECT (MS CORE and 9-12 ONLY) CORE COURSE (MS CORE and 9-12 ONLY)  \\\n",
       "0                                    -                                   -   \n",
       "1                                    -                                   -   \n",
       "2                                    -                                   -   \n",
       "3                                    -                                   -   \n",
       "4                                    -                                   -   \n",
       "\n",
       "  SERVICE CATEGORY(K-9* ONLY)  NUMBER OF STUDENTS / SEATS FILLED  \\\n",
       "0                           -                               19.0   \n",
       "1                           -                               21.0   \n",
       "2                           -                               17.0   \n",
       "3                           -                               17.0   \n",
       "4                           -                               15.0   \n",
       "\n",
       "   NUMBER OF SECTIONS  AVERAGE CLASS SIZE  SIZE OF SMALLEST CLASS  \\\n",
       "0                 1.0                19.0                    19.0   \n",
       "1                 1.0                21.0                    21.0   \n",
       "2                 1.0                17.0                    17.0   \n",
       "3                 1.0                17.0                    17.0   \n",
       "4                 1.0                15.0                    15.0   \n",
       "\n",
       "   SIZE OF LARGEST CLASS DATA SOURCE  SCHOOLWIDE PUPIL-TEACHER RATIO  \n",
       "0                   19.0         ATS                             NaN  \n",
       "1                   21.0         ATS                             NaN  \n",
       "2                   17.0         ATS                             NaN  \n",
       "3                   17.0         ATS                             NaN  \n",
       "4                   15.0         ATS                             NaN  "
      ]
     },
     "execution_count": 43,
     "metadata": {},
     "output_type": "execute_result"
    }
   ],
   "source": [
    "data['class_size'].head()"
   ]
  },
  {
   "cell_type": "code",
   "execution_count": 44,
   "metadata": {},
   "outputs": [
    {
     "data": {
      "text/html": [
       "<div>\n",
       "<style scoped>\n",
       "    .dataframe tbody tr th:only-of-type {\n",
       "        vertical-align: middle;\n",
       "    }\n",
       "\n",
       "    .dataframe tbody tr th {\n",
       "        vertical-align: top;\n",
       "    }\n",
       "\n",
       "    .dataframe thead th {\n",
       "        text-align: right;\n",
       "    }\n",
       "</style>\n",
       "<table border=\"1\" class=\"dataframe\">\n",
       "  <thead>\n",
       "    <tr style=\"text-align: right;\">\n",
       "      <th></th>\n",
       "      <th>CSD</th>\n",
       "      <th>BOROUGH</th>\n",
       "      <th>SCHOOL CODE</th>\n",
       "      <th>SCHOOL NAME</th>\n",
       "      <th>GRADE</th>\n",
       "      <th>PROGRAM TYPE</th>\n",
       "      <th>CORE SUBJECT (MS CORE and 9-12 ONLY)</th>\n",
       "      <th>CORE COURSE (MS CORE and 9-12 ONLY)</th>\n",
       "      <th>SERVICE CATEGORY(K-9* ONLY)</th>\n",
       "      <th>NUMBER OF STUDENTS / SEATS FILLED</th>\n",
       "      <th>NUMBER OF SECTIONS</th>\n",
       "      <th>AVERAGE CLASS SIZE</th>\n",
       "      <th>SIZE OF SMALLEST CLASS</th>\n",
       "      <th>SIZE OF LARGEST CLASS</th>\n",
       "      <th>DATA SOURCE</th>\n",
       "      <th>SCHOOLWIDE PUPIL-TEACHER RATIO</th>\n",
       "    </tr>\n",
       "  </thead>\n",
       "  <tbody>\n",
       "    <tr>\n",
       "      <th>27606</th>\n",
       "      <td>32</td>\n",
       "      <td>K</td>\n",
       "      <td>K564</td>\n",
       "      <td>Bushwick Community High School</td>\n",
       "      <td>09-12</td>\n",
       "      <td>GEN ED</td>\n",
       "      <td>SOCIAL STUDIES</td>\n",
       "      <td>US History &amp; Government</td>\n",
       "      <td>-</td>\n",
       "      <td>256.0</td>\n",
       "      <td>10.0</td>\n",
       "      <td>25.6</td>\n",
       "      <td>15.0</td>\n",
       "      <td>35.0</td>\n",
       "      <td>STARS</td>\n",
       "      <td>NaN</td>\n",
       "    </tr>\n",
       "    <tr>\n",
       "      <th>27607</th>\n",
       "      <td>32</td>\n",
       "      <td>K</td>\n",
       "      <td>K564</td>\n",
       "      <td>Bushwick Community High School</td>\n",
       "      <td>09-12</td>\n",
       "      <td>GEN ED</td>\n",
       "      <td>SOCIAL STUDIES</td>\n",
       "      <td>Economics</td>\n",
       "      <td>-</td>\n",
       "      <td>65.0</td>\n",
       "      <td>2.0</td>\n",
       "      <td>32.5</td>\n",
       "      <td>32.0</td>\n",
       "      <td>33.0</td>\n",
       "      <td>STARS</td>\n",
       "      <td>NaN</td>\n",
       "    </tr>\n",
       "    <tr>\n",
       "      <th>27608</th>\n",
       "      <td>32</td>\n",
       "      <td>K</td>\n",
       "      <td>K564</td>\n",
       "      <td>Bushwick Community High School</td>\n",
       "      <td>09-12</td>\n",
       "      <td>GEN ED</td>\n",
       "      <td>SOCIAL STUDIES</td>\n",
       "      <td>Participation in Government</td>\n",
       "      <td>-</td>\n",
       "      <td>53.0</td>\n",
       "      <td>2.0</td>\n",
       "      <td>26.5</td>\n",
       "      <td>25.0</td>\n",
       "      <td>28.0</td>\n",
       "      <td>STARS</td>\n",
       "      <td>NaN</td>\n",
       "    </tr>\n",
       "    <tr>\n",
       "      <th>27609</th>\n",
       "      <td>32</td>\n",
       "      <td>K</td>\n",
       "      <td>K564</td>\n",
       "      <td>Bushwick Community High School</td>\n",
       "      <td>09-12</td>\n",
       "      <td>CTT</td>\n",
       "      <td>MATH</td>\n",
       "      <td>Integrated Algebra</td>\n",
       "      <td>-</td>\n",
       "      <td>50.0</td>\n",
       "      <td>2.0</td>\n",
       "      <td>25.0</td>\n",
       "      <td>25.0</td>\n",
       "      <td>25.0</td>\n",
       "      <td>STARS</td>\n",
       "      <td>NaN</td>\n",
       "    </tr>\n",
       "    <tr>\n",
       "      <th>27610</th>\n",
       "      <td>32</td>\n",
       "      <td>K</td>\n",
       "      <td>K564</td>\n",
       "      <td>Bushwick Community High School</td>\n",
       "      <td>NaN</td>\n",
       "      <td>NaN</td>\n",
       "      <td>NaN</td>\n",
       "      <td>NaN</td>\n",
       "      <td>NaN</td>\n",
       "      <td>NaN</td>\n",
       "      <td>NaN</td>\n",
       "      <td>NaN</td>\n",
       "      <td>NaN</td>\n",
       "      <td>NaN</td>\n",
       "      <td>NaN</td>\n",
       "      <td>17.1</td>\n",
       "    </tr>\n",
       "  </tbody>\n",
       "</table>\n",
       "</div>"
      ],
      "text/plain": [
       "      CSD BOROUGH SCHOOL CODE                     SCHOOL NAME GRADE   \\\n",
       "27606  32       K        K564  Bushwick Community High School  09-12   \n",
       "27607  32       K        K564  Bushwick Community High School  09-12   \n",
       "27608  32       K        K564  Bushwick Community High School  09-12   \n",
       "27609  32       K        K564  Bushwick Community High School  09-12   \n",
       "27610  32       K        K564  Bushwick Community High School    NaN   \n",
       "\n",
       "      PROGRAM TYPE CORE SUBJECT (MS CORE and 9-12 ONLY)  \\\n",
       "27606       GEN ED                       SOCIAL STUDIES   \n",
       "27607       GEN ED                       SOCIAL STUDIES   \n",
       "27608       GEN ED                       SOCIAL STUDIES   \n",
       "27609          CTT                                 MATH   \n",
       "27610          NaN                                  NaN   \n",
       "\n",
       "      CORE COURSE (MS CORE and 9-12 ONLY) SERVICE CATEGORY(K-9* ONLY)  \\\n",
       "27606             US History & Government                           -   \n",
       "27607                           Economics                           -   \n",
       "27608         Participation in Government                           -   \n",
       "27609                  Integrated Algebra                           -   \n",
       "27610                                 NaN                         NaN   \n",
       "\n",
       "       NUMBER OF STUDENTS / SEATS FILLED  NUMBER OF SECTIONS  \\\n",
       "27606                              256.0                10.0   \n",
       "27607                               65.0                 2.0   \n",
       "27608                               53.0                 2.0   \n",
       "27609                               50.0                 2.0   \n",
       "27610                                NaN                 NaN   \n",
       "\n",
       "       AVERAGE CLASS SIZE  SIZE OF SMALLEST CLASS  SIZE OF LARGEST CLASS  \\\n",
       "27606                25.6                    15.0                   35.0   \n",
       "27607                32.5                    32.0                   33.0   \n",
       "27608                26.5                    25.0                   28.0   \n",
       "27609                25.0                    25.0                   25.0   \n",
       "27610                 NaN                     NaN                    NaN   \n",
       "\n",
       "      DATA SOURCE  SCHOOLWIDE PUPIL-TEACHER RATIO  \n",
       "27606       STARS                             NaN  \n",
       "27607       STARS                             NaN  \n",
       "27608       STARS                             NaN  \n",
       "27609       STARS                             NaN  \n",
       "27610         NaN                            17.1  "
      ]
     },
     "execution_count": 44,
     "metadata": {},
     "output_type": "execute_result"
    }
   ],
   "source": [
    "data['class_size'].tail()"
   ]
  },
  {
   "cell_type": "code",
   "execution_count": 45,
   "metadata": {},
   "outputs": [
    {
     "data": {
      "text/plain": [
       "0        01M015\n",
       "1        01M015\n",
       "2        01M015\n",
       "3        01M015\n",
       "4        01M015\n",
       "          ...  \n",
       "27606    32K564\n",
       "27607    32K564\n",
       "27608    32K564\n",
       "27609    32K564\n",
       "27610    32K564\n",
       "Name: CSD, Length: 27611, dtype: object"
      ]
     },
     "execution_count": 45,
     "metadata": {},
     "output_type": "execute_result"
    }
   ],
   "source": [
    "# data['class_size'][\"CSD\"] + data['class_size'][\"SCHOOL CODE\"]\n",
    "\n",
    "data['class_size'][\"CSD\"].str.cat(data['class_size'][\"SCHOOL CODE\"])"
   ]
  },
  {
   "cell_type": "code",
   "execution_count": 46,
   "metadata": {},
   "outputs": [],
   "source": [
    "data['class_size'][\"DBN\"] = data['class_size'][\"CSD\"].str.cat(data['class_size'][\"SCHOOL CODE\"])"
   ]
  },
  {
   "cell_type": "code",
   "execution_count": 47,
   "metadata": {},
   "outputs": [
    {
     "data": {
      "text/html": [
       "<div>\n",
       "<style scoped>\n",
       "    .dataframe tbody tr th:only-of-type {\n",
       "        vertical-align: middle;\n",
       "    }\n",
       "\n",
       "    .dataframe tbody tr th {\n",
       "        vertical-align: top;\n",
       "    }\n",
       "\n",
       "    .dataframe thead th {\n",
       "        text-align: right;\n",
       "    }\n",
       "</style>\n",
       "<table border=\"1\" class=\"dataframe\">\n",
       "  <thead>\n",
       "    <tr style=\"text-align: right;\">\n",
       "      <th></th>\n",
       "      <th>CSD</th>\n",
       "      <th>BOROUGH</th>\n",
       "      <th>SCHOOL CODE</th>\n",
       "      <th>SCHOOL NAME</th>\n",
       "      <th>GRADE</th>\n",
       "      <th>PROGRAM TYPE</th>\n",
       "      <th>CORE SUBJECT (MS CORE and 9-12 ONLY)</th>\n",
       "      <th>CORE COURSE (MS CORE and 9-12 ONLY)</th>\n",
       "      <th>SERVICE CATEGORY(K-9* ONLY)</th>\n",
       "      <th>NUMBER OF STUDENTS / SEATS FILLED</th>\n",
       "      <th>NUMBER OF SECTIONS</th>\n",
       "      <th>AVERAGE CLASS SIZE</th>\n",
       "      <th>SIZE OF SMALLEST CLASS</th>\n",
       "      <th>SIZE OF LARGEST CLASS</th>\n",
       "      <th>DATA SOURCE</th>\n",
       "      <th>SCHOOLWIDE PUPIL-TEACHER RATIO</th>\n",
       "      <th>DBN</th>\n",
       "    </tr>\n",
       "  </thead>\n",
       "  <tbody>\n",
       "    <tr>\n",
       "      <th>0</th>\n",
       "      <td>01</td>\n",
       "      <td>M</td>\n",
       "      <td>M015</td>\n",
       "      <td>P.S. 015 Roberto Clemente</td>\n",
       "      <td>0K</td>\n",
       "      <td>GEN ED</td>\n",
       "      <td>-</td>\n",
       "      <td>-</td>\n",
       "      <td>-</td>\n",
       "      <td>19.0</td>\n",
       "      <td>1.0</td>\n",
       "      <td>19.0</td>\n",
       "      <td>19.0</td>\n",
       "      <td>19.0</td>\n",
       "      <td>ATS</td>\n",
       "      <td>NaN</td>\n",
       "      <td>01M015</td>\n",
       "    </tr>\n",
       "    <tr>\n",
       "      <th>1</th>\n",
       "      <td>01</td>\n",
       "      <td>M</td>\n",
       "      <td>M015</td>\n",
       "      <td>P.S. 015 Roberto Clemente</td>\n",
       "      <td>0K</td>\n",
       "      <td>CTT</td>\n",
       "      <td>-</td>\n",
       "      <td>-</td>\n",
       "      <td>-</td>\n",
       "      <td>21.0</td>\n",
       "      <td>1.0</td>\n",
       "      <td>21.0</td>\n",
       "      <td>21.0</td>\n",
       "      <td>21.0</td>\n",
       "      <td>ATS</td>\n",
       "      <td>NaN</td>\n",
       "      <td>01M015</td>\n",
       "    </tr>\n",
       "    <tr>\n",
       "      <th>2</th>\n",
       "      <td>01</td>\n",
       "      <td>M</td>\n",
       "      <td>M015</td>\n",
       "      <td>P.S. 015 Roberto Clemente</td>\n",
       "      <td>01</td>\n",
       "      <td>GEN ED</td>\n",
       "      <td>-</td>\n",
       "      <td>-</td>\n",
       "      <td>-</td>\n",
       "      <td>17.0</td>\n",
       "      <td>1.0</td>\n",
       "      <td>17.0</td>\n",
       "      <td>17.0</td>\n",
       "      <td>17.0</td>\n",
       "      <td>ATS</td>\n",
       "      <td>NaN</td>\n",
       "      <td>01M015</td>\n",
       "    </tr>\n",
       "    <tr>\n",
       "      <th>3</th>\n",
       "      <td>01</td>\n",
       "      <td>M</td>\n",
       "      <td>M015</td>\n",
       "      <td>P.S. 015 Roberto Clemente</td>\n",
       "      <td>01</td>\n",
       "      <td>CTT</td>\n",
       "      <td>-</td>\n",
       "      <td>-</td>\n",
       "      <td>-</td>\n",
       "      <td>17.0</td>\n",
       "      <td>1.0</td>\n",
       "      <td>17.0</td>\n",
       "      <td>17.0</td>\n",
       "      <td>17.0</td>\n",
       "      <td>ATS</td>\n",
       "      <td>NaN</td>\n",
       "      <td>01M015</td>\n",
       "    </tr>\n",
       "    <tr>\n",
       "      <th>4</th>\n",
       "      <td>01</td>\n",
       "      <td>M</td>\n",
       "      <td>M015</td>\n",
       "      <td>P.S. 015 Roberto Clemente</td>\n",
       "      <td>02</td>\n",
       "      <td>GEN ED</td>\n",
       "      <td>-</td>\n",
       "      <td>-</td>\n",
       "      <td>-</td>\n",
       "      <td>15.0</td>\n",
       "      <td>1.0</td>\n",
       "      <td>15.0</td>\n",
       "      <td>15.0</td>\n",
       "      <td>15.0</td>\n",
       "      <td>ATS</td>\n",
       "      <td>NaN</td>\n",
       "      <td>01M015</td>\n",
       "    </tr>\n",
       "  </tbody>\n",
       "</table>\n",
       "</div>"
      ],
      "text/plain": [
       "  CSD BOROUGH SCHOOL CODE                SCHOOL NAME GRADE  PROGRAM TYPE  \\\n",
       "0  01       M        M015  P.S. 015 Roberto Clemente     0K       GEN ED   \n",
       "1  01       M        M015  P.S. 015 Roberto Clemente     0K          CTT   \n",
       "2  01       M        M015  P.S. 015 Roberto Clemente     01       GEN ED   \n",
       "3  01       M        M015  P.S. 015 Roberto Clemente     01          CTT   \n",
       "4  01       M        M015  P.S. 015 Roberto Clemente     02       GEN ED   \n",
       "\n",
       "  CORE SUBJECT (MS CORE and 9-12 ONLY) CORE COURSE (MS CORE and 9-12 ONLY)  \\\n",
       "0                                    -                                   -   \n",
       "1                                    -                                   -   \n",
       "2                                    -                                   -   \n",
       "3                                    -                                   -   \n",
       "4                                    -                                   -   \n",
       "\n",
       "  SERVICE CATEGORY(K-9* ONLY)  NUMBER OF STUDENTS / SEATS FILLED  \\\n",
       "0                           -                               19.0   \n",
       "1                           -                               21.0   \n",
       "2                           -                               17.0   \n",
       "3                           -                               17.0   \n",
       "4                           -                               15.0   \n",
       "\n",
       "   NUMBER OF SECTIONS  AVERAGE CLASS SIZE  SIZE OF SMALLEST CLASS  \\\n",
       "0                 1.0                19.0                    19.0   \n",
       "1                 1.0                21.0                    21.0   \n",
       "2                 1.0                17.0                    17.0   \n",
       "3                 1.0                17.0                    17.0   \n",
       "4                 1.0                15.0                    15.0   \n",
       "\n",
       "   SIZE OF LARGEST CLASS DATA SOURCE  SCHOOLWIDE PUPIL-TEACHER RATIO     DBN  \n",
       "0                   19.0         ATS                             NaN  01M015  \n",
       "1                   21.0         ATS                             NaN  01M015  \n",
       "2                   17.0         ATS                             NaN  01M015  \n",
       "3                   17.0         ATS                             NaN  01M015  \n",
       "4                   15.0         ATS                             NaN  01M015  "
      ]
     },
     "execution_count": 47,
     "metadata": {},
     "output_type": "execute_result"
    }
   ],
   "source": [
    "data['class_size'].head()"
   ]
  },
  {
   "cell_type": "code",
   "execution_count": 48,
   "metadata": {},
   "outputs": [
    {
     "data": {
      "text/plain": [
       "Index(['CSD', 'BOROUGH', 'SCHOOL CODE', 'SCHOOL NAME', 'GRADE ',\n",
       "       'PROGRAM TYPE', 'CORE SUBJECT (MS CORE and 9-12 ONLY)',\n",
       "       'CORE COURSE (MS CORE and 9-12 ONLY)', 'SERVICE CATEGORY(K-9* ONLY)',\n",
       "       'NUMBER OF STUDENTS / SEATS FILLED', 'NUMBER OF SECTIONS',\n",
       "       'AVERAGE CLASS SIZE', 'SIZE OF SMALLEST CLASS', 'SIZE OF LARGEST CLASS',\n",
       "       'DATA SOURCE', 'SCHOOLWIDE PUPIL-TEACHER RATIO', 'DBN'],\n",
       "      dtype='object')"
      ]
     },
     "execution_count": 48,
     "metadata": {},
     "output_type": "execute_result"
    }
   ],
   "source": [
    "data['class_size'].columns"
   ]
  },
  {
   "cell_type": "code",
   "execution_count": 49,
   "metadata": {},
   "outputs": [
    {
     "data": {
      "text/plain": [
       "array(['0K', '01', '02', '03', '04', '05', '0K-09', nan, '06', '07', '08',\n",
       "       'MS Core', '09-12', '09'], dtype=object)"
      ]
     },
     "execution_count": 49,
     "metadata": {},
     "output_type": "execute_result"
    }
   ],
   "source": [
    "data['class_size'][\"GRADE \"].unique()"
   ]
  },
  {
   "cell_type": "code",
   "execution_count": 50,
   "metadata": {},
   "outputs": [
    {
     "data": {
      "text/plain": [
       "array(['GEN ED', 'CTT', 'SPEC ED', nan, 'G&T'], dtype=object)"
      ]
     },
     "execution_count": 50,
     "metadata": {},
     "output_type": "execute_result"
    }
   ],
   "source": [
    "data['class_size']['PROGRAM TYPE'].unique()"
   ]
  },
  {
   "cell_type": "code",
   "execution_count": 51,
   "metadata": {},
   "outputs": [],
   "source": [
    "bol1 = (data['class_size']['PROGRAM TYPE'] == 'GEN ED')\\\n",
    "& (data['class_size'][\"GRADE \"] == '09-12')"
   ]
  },
  {
   "cell_type": "code",
   "execution_count": 52,
   "metadata": {},
   "outputs": [
    {
     "data": {
      "text/html": [
       "<div>\n",
       "<style scoped>\n",
       "    .dataframe tbody tr th:only-of-type {\n",
       "        vertical-align: middle;\n",
       "    }\n",
       "\n",
       "    .dataframe tbody tr th {\n",
       "        vertical-align: top;\n",
       "    }\n",
       "\n",
       "    .dataframe thead th {\n",
       "        text-align: right;\n",
       "    }\n",
       "</style>\n",
       "<table border=\"1\" class=\"dataframe\">\n",
       "  <thead>\n",
       "    <tr style=\"text-align: right;\">\n",
       "      <th></th>\n",
       "      <th>CSD</th>\n",
       "      <th>BOROUGH</th>\n",
       "      <th>SCHOOL CODE</th>\n",
       "      <th>SCHOOL NAME</th>\n",
       "      <th>GRADE</th>\n",
       "      <th>PROGRAM TYPE</th>\n",
       "      <th>CORE SUBJECT (MS CORE and 9-12 ONLY)</th>\n",
       "      <th>CORE COURSE (MS CORE and 9-12 ONLY)</th>\n",
       "      <th>SERVICE CATEGORY(K-9* ONLY)</th>\n",
       "      <th>NUMBER OF STUDENTS / SEATS FILLED</th>\n",
       "      <th>NUMBER OF SECTIONS</th>\n",
       "      <th>AVERAGE CLASS SIZE</th>\n",
       "      <th>SIZE OF SMALLEST CLASS</th>\n",
       "      <th>SIZE OF LARGEST CLASS</th>\n",
       "      <th>DATA SOURCE</th>\n",
       "      <th>SCHOOLWIDE PUPIL-TEACHER RATIO</th>\n",
       "      <th>DBN</th>\n",
       "    </tr>\n",
       "  </thead>\n",
       "  <tbody>\n",
       "    <tr>\n",
       "      <th>225</th>\n",
       "      <td>01</td>\n",
       "      <td>M</td>\n",
       "      <td>M292</td>\n",
       "      <td>Henry Street School for International Studies</td>\n",
       "      <td>09-12</td>\n",
       "      <td>GEN ED</td>\n",
       "      <td>ENGLISH</td>\n",
       "      <td>English 9</td>\n",
       "      <td>-</td>\n",
       "      <td>63.0</td>\n",
       "      <td>3.0</td>\n",
       "      <td>21.0</td>\n",
       "      <td>19.0</td>\n",
       "      <td>25.0</td>\n",
       "      <td>STARS</td>\n",
       "      <td>NaN</td>\n",
       "      <td>01M292</td>\n",
       "    </tr>\n",
       "    <tr>\n",
       "      <th>226</th>\n",
       "      <td>01</td>\n",
       "      <td>M</td>\n",
       "      <td>M292</td>\n",
       "      <td>Henry Street School for International Studies</td>\n",
       "      <td>09-12</td>\n",
       "      <td>GEN ED</td>\n",
       "      <td>ENGLISH</td>\n",
       "      <td>English 10</td>\n",
       "      <td>-</td>\n",
       "      <td>79.0</td>\n",
       "      <td>3.0</td>\n",
       "      <td>26.3</td>\n",
       "      <td>24.0</td>\n",
       "      <td>31.0</td>\n",
       "      <td>STARS</td>\n",
       "      <td>NaN</td>\n",
       "      <td>01M292</td>\n",
       "    </tr>\n",
       "    <tr>\n",
       "      <th>227</th>\n",
       "      <td>01</td>\n",
       "      <td>M</td>\n",
       "      <td>M292</td>\n",
       "      <td>Henry Street School for International Studies</td>\n",
       "      <td>09-12</td>\n",
       "      <td>GEN ED</td>\n",
       "      <td>ENGLISH</td>\n",
       "      <td>English 11</td>\n",
       "      <td>-</td>\n",
       "      <td>38.0</td>\n",
       "      <td>2.0</td>\n",
       "      <td>19.0</td>\n",
       "      <td>16.0</td>\n",
       "      <td>22.0</td>\n",
       "      <td>STARS</td>\n",
       "      <td>NaN</td>\n",
       "      <td>01M292</td>\n",
       "    </tr>\n",
       "    <tr>\n",
       "      <th>228</th>\n",
       "      <td>01</td>\n",
       "      <td>M</td>\n",
       "      <td>M292</td>\n",
       "      <td>Henry Street School for International Studies</td>\n",
       "      <td>09-12</td>\n",
       "      <td>GEN ED</td>\n",
       "      <td>ENGLISH</td>\n",
       "      <td>English 12</td>\n",
       "      <td>-</td>\n",
       "      <td>69.0</td>\n",
       "      <td>3.0</td>\n",
       "      <td>23.0</td>\n",
       "      <td>13.0</td>\n",
       "      <td>30.0</td>\n",
       "      <td>STARS</td>\n",
       "      <td>NaN</td>\n",
       "      <td>01M292</td>\n",
       "    </tr>\n",
       "    <tr>\n",
       "      <th>229</th>\n",
       "      <td>01</td>\n",
       "      <td>M</td>\n",
       "      <td>M292</td>\n",
       "      <td>Henry Street School for International Studies</td>\n",
       "      <td>09-12</td>\n",
       "      <td>GEN ED</td>\n",
       "      <td>MATH</td>\n",
       "      <td>Integrated Algebra</td>\n",
       "      <td>-</td>\n",
       "      <td>53.0</td>\n",
       "      <td>3.0</td>\n",
       "      <td>17.7</td>\n",
       "      <td>16.0</td>\n",
       "      <td>21.0</td>\n",
       "      <td>STARS</td>\n",
       "      <td>NaN</td>\n",
       "      <td>01M292</td>\n",
       "    </tr>\n",
       "  </tbody>\n",
       "</table>\n",
       "</div>"
      ],
      "text/plain": [
       "    CSD BOROUGH SCHOOL CODE                                    SCHOOL NAME  \\\n",
       "225  01       M        M292  Henry Street School for International Studies   \n",
       "226  01       M        M292  Henry Street School for International Studies   \n",
       "227  01       M        M292  Henry Street School for International Studies   \n",
       "228  01       M        M292  Henry Street School for International Studies   \n",
       "229  01       M        M292  Henry Street School for International Studies   \n",
       "\n",
       "    GRADE  PROGRAM TYPE CORE SUBJECT (MS CORE and 9-12 ONLY)  \\\n",
       "225  09-12       GEN ED                              ENGLISH   \n",
       "226  09-12       GEN ED                              ENGLISH   \n",
       "227  09-12       GEN ED                              ENGLISH   \n",
       "228  09-12       GEN ED                              ENGLISH   \n",
       "229  09-12       GEN ED                                 MATH   \n",
       "\n",
       "    CORE COURSE (MS CORE and 9-12 ONLY) SERVICE CATEGORY(K-9* ONLY)  \\\n",
       "225                           English 9                           -   \n",
       "226                          English 10                           -   \n",
       "227                          English 11                           -   \n",
       "228                          English 12                           -   \n",
       "229                  Integrated Algebra                           -   \n",
       "\n",
       "     NUMBER OF STUDENTS / SEATS FILLED  NUMBER OF SECTIONS  \\\n",
       "225                               63.0                 3.0   \n",
       "226                               79.0                 3.0   \n",
       "227                               38.0                 2.0   \n",
       "228                               69.0                 3.0   \n",
       "229                               53.0                 3.0   \n",
       "\n",
       "     AVERAGE CLASS SIZE  SIZE OF SMALLEST CLASS  SIZE OF LARGEST CLASS  \\\n",
       "225                21.0                    19.0                   25.0   \n",
       "226                26.3                    24.0                   31.0   \n",
       "227                19.0                    16.0                   22.0   \n",
       "228                23.0                    13.0                   30.0   \n",
       "229                17.7                    16.0                   21.0   \n",
       "\n",
       "    DATA SOURCE  SCHOOLWIDE PUPIL-TEACHER RATIO     DBN  \n",
       "225       STARS                             NaN  01M292  \n",
       "226       STARS                             NaN  01M292  \n",
       "227       STARS                             NaN  01M292  \n",
       "228       STARS                             NaN  01M292  \n",
       "229       STARS                             NaN  01M292  "
      ]
     },
     "execution_count": 52,
     "metadata": {},
     "output_type": "execute_result"
    }
   ],
   "source": [
    "cs = data['class_size'][bol1]\n",
    "\n",
    "cs.head()"
   ]
  },
  {
   "cell_type": "code",
   "execution_count": 53,
   "metadata": {},
   "outputs": [],
   "source": [
    "size = cs.groupby(\"DBN\").mean()"
   ]
  },
  {
   "cell_type": "code",
   "execution_count": 54,
   "metadata": {},
   "outputs": [],
   "source": [
    "size.reset_index(inplace = True)"
   ]
  },
  {
   "cell_type": "code",
   "execution_count": 55,
   "metadata": {},
   "outputs": [
    {
     "data": {
      "text/html": [
       "<div>\n",
       "<style scoped>\n",
       "    .dataframe tbody tr th:only-of-type {\n",
       "        vertical-align: middle;\n",
       "    }\n",
       "\n",
       "    .dataframe tbody tr th {\n",
       "        vertical-align: top;\n",
       "    }\n",
       "\n",
       "    .dataframe thead th {\n",
       "        text-align: right;\n",
       "    }\n",
       "</style>\n",
       "<table border=\"1\" class=\"dataframe\">\n",
       "  <thead>\n",
       "    <tr style=\"text-align: right;\">\n",
       "      <th></th>\n",
       "      <th>DBN</th>\n",
       "      <th>NUMBER OF STUDENTS / SEATS FILLED</th>\n",
       "      <th>NUMBER OF SECTIONS</th>\n",
       "      <th>AVERAGE CLASS SIZE</th>\n",
       "      <th>SIZE OF SMALLEST CLASS</th>\n",
       "      <th>SIZE OF LARGEST CLASS</th>\n",
       "      <th>SCHOOLWIDE PUPIL-TEACHER RATIO</th>\n",
       "    </tr>\n",
       "  </thead>\n",
       "  <tbody>\n",
       "    <tr>\n",
       "      <th>0</th>\n",
       "      <td>01M292</td>\n",
       "      <td>88.0000</td>\n",
       "      <td>4.000000</td>\n",
       "      <td>22.564286</td>\n",
       "      <td>18.50</td>\n",
       "      <td>26.571429</td>\n",
       "      <td>NaN</td>\n",
       "    </tr>\n",
       "    <tr>\n",
       "      <th>1</th>\n",
       "      <td>01M332</td>\n",
       "      <td>46.0000</td>\n",
       "      <td>2.000000</td>\n",
       "      <td>22.000000</td>\n",
       "      <td>21.00</td>\n",
       "      <td>23.500000</td>\n",
       "      <td>NaN</td>\n",
       "    </tr>\n",
       "    <tr>\n",
       "      <th>2</th>\n",
       "      <td>01M378</td>\n",
       "      <td>33.0000</td>\n",
       "      <td>1.000000</td>\n",
       "      <td>33.000000</td>\n",
       "      <td>33.00</td>\n",
       "      <td>33.000000</td>\n",
       "      <td>NaN</td>\n",
       "    </tr>\n",
       "    <tr>\n",
       "      <th>3</th>\n",
       "      <td>01M448</td>\n",
       "      <td>105.6875</td>\n",
       "      <td>4.750000</td>\n",
       "      <td>22.231250</td>\n",
       "      <td>18.25</td>\n",
       "      <td>27.062500</td>\n",
       "      <td>NaN</td>\n",
       "    </tr>\n",
       "    <tr>\n",
       "      <th>4</th>\n",
       "      <td>01M450</td>\n",
       "      <td>57.6000</td>\n",
       "      <td>2.733333</td>\n",
       "      <td>21.200000</td>\n",
       "      <td>19.40</td>\n",
       "      <td>22.866667</td>\n",
       "      <td>NaN</td>\n",
       "    </tr>\n",
       "  </tbody>\n",
       "</table>\n",
       "</div>"
      ],
      "text/plain": [
       "      DBN  NUMBER OF STUDENTS / SEATS FILLED  NUMBER OF SECTIONS  \\\n",
       "0  01M292                            88.0000            4.000000   \n",
       "1  01M332                            46.0000            2.000000   \n",
       "2  01M378                            33.0000            1.000000   \n",
       "3  01M448                           105.6875            4.750000   \n",
       "4  01M450                            57.6000            2.733333   \n",
       "\n",
       "   AVERAGE CLASS SIZE  SIZE OF SMALLEST CLASS  SIZE OF LARGEST CLASS  \\\n",
       "0           22.564286                   18.50              26.571429   \n",
       "1           22.000000                   21.00              23.500000   \n",
       "2           33.000000                   33.00              33.000000   \n",
       "3           22.231250                   18.25              27.062500   \n",
       "4           21.200000                   19.40              22.866667   \n",
       "\n",
       "   SCHOOLWIDE PUPIL-TEACHER RATIO  \n",
       "0                             NaN  \n",
       "1                             NaN  \n",
       "2                             NaN  \n",
       "3                             NaN  \n",
       "4                             NaN  "
      ]
     },
     "execution_count": 55,
     "metadata": {},
     "output_type": "execute_result"
    }
   ],
   "source": [
    "size.head()"
   ]
  },
  {
   "cell_type": "code",
   "execution_count": 56,
   "metadata": {},
   "outputs": [],
   "source": [
    "data[\"class_size\"] = size"
   ]
  },
  {
   "cell_type": "code",
   "execution_count": 57,
   "metadata": {},
   "outputs": [
    {
     "data": {
      "text/html": [
       "<div>\n",
       "<style scoped>\n",
       "    .dataframe tbody tr th:only-of-type {\n",
       "        vertical-align: middle;\n",
       "    }\n",
       "\n",
       "    .dataframe tbody tr th {\n",
       "        vertical-align: top;\n",
       "    }\n",
       "\n",
       "    .dataframe thead th {\n",
       "        text-align: right;\n",
       "    }\n",
       "</style>\n",
       "<table border=\"1\" class=\"dataframe\">\n",
       "  <thead>\n",
       "    <tr style=\"text-align: right;\">\n",
       "      <th></th>\n",
       "      <th>DBN</th>\n",
       "      <th>NUMBER OF STUDENTS / SEATS FILLED</th>\n",
       "      <th>NUMBER OF SECTIONS</th>\n",
       "      <th>AVERAGE CLASS SIZE</th>\n",
       "      <th>SIZE OF SMALLEST CLASS</th>\n",
       "      <th>SIZE OF LARGEST CLASS</th>\n",
       "      <th>SCHOOLWIDE PUPIL-TEACHER RATIO</th>\n",
       "    </tr>\n",
       "  </thead>\n",
       "  <tbody>\n",
       "    <tr>\n",
       "      <th>0</th>\n",
       "      <td>01M292</td>\n",
       "      <td>88.0000</td>\n",
       "      <td>4.000000</td>\n",
       "      <td>22.564286</td>\n",
       "      <td>18.50</td>\n",
       "      <td>26.571429</td>\n",
       "      <td>NaN</td>\n",
       "    </tr>\n",
       "    <tr>\n",
       "      <th>1</th>\n",
       "      <td>01M332</td>\n",
       "      <td>46.0000</td>\n",
       "      <td>2.000000</td>\n",
       "      <td>22.000000</td>\n",
       "      <td>21.00</td>\n",
       "      <td>23.500000</td>\n",
       "      <td>NaN</td>\n",
       "    </tr>\n",
       "    <tr>\n",
       "      <th>2</th>\n",
       "      <td>01M378</td>\n",
       "      <td>33.0000</td>\n",
       "      <td>1.000000</td>\n",
       "      <td>33.000000</td>\n",
       "      <td>33.00</td>\n",
       "      <td>33.000000</td>\n",
       "      <td>NaN</td>\n",
       "    </tr>\n",
       "    <tr>\n",
       "      <th>3</th>\n",
       "      <td>01M448</td>\n",
       "      <td>105.6875</td>\n",
       "      <td>4.750000</td>\n",
       "      <td>22.231250</td>\n",
       "      <td>18.25</td>\n",
       "      <td>27.062500</td>\n",
       "      <td>NaN</td>\n",
       "    </tr>\n",
       "    <tr>\n",
       "      <th>4</th>\n",
       "      <td>01M450</td>\n",
       "      <td>57.6000</td>\n",
       "      <td>2.733333</td>\n",
       "      <td>21.200000</td>\n",
       "      <td>19.40</td>\n",
       "      <td>22.866667</td>\n",
       "      <td>NaN</td>\n",
       "    </tr>\n",
       "  </tbody>\n",
       "</table>\n",
       "</div>"
      ],
      "text/plain": [
       "      DBN  NUMBER OF STUDENTS / SEATS FILLED  NUMBER OF SECTIONS  \\\n",
       "0  01M292                            88.0000            4.000000   \n",
       "1  01M332                            46.0000            2.000000   \n",
       "2  01M378                            33.0000            1.000000   \n",
       "3  01M448                           105.6875            4.750000   \n",
       "4  01M450                            57.6000            2.733333   \n",
       "\n",
       "   AVERAGE CLASS SIZE  SIZE OF SMALLEST CLASS  SIZE OF LARGEST CLASS  \\\n",
       "0           22.564286                   18.50              26.571429   \n",
       "1           22.000000                   21.00              23.500000   \n",
       "2           33.000000                   33.00              33.000000   \n",
       "3           22.231250                   18.25              27.062500   \n",
       "4           21.200000                   19.40              22.866667   \n",
       "\n",
       "   SCHOOLWIDE PUPIL-TEACHER RATIO  \n",
       "0                             NaN  \n",
       "1                             NaN  \n",
       "2                             NaN  \n",
       "3                             NaN  \n",
       "4                             NaN  "
      ]
     },
     "execution_count": 57,
     "metadata": {},
     "output_type": "execute_result"
    }
   ],
   "source": [
    "data[\"class_size\"].head()"
   ]
  },
  {
   "cell_type": "code",
   "execution_count": 58,
   "metadata": {},
   "outputs": [
    {
     "data": {
      "text/plain": [
       "dict_keys(['ap_2010', 'class_size', 'demographics', 'graduation', 'hs_directory', 'sat_results', 'survey'])"
      ]
     },
     "execution_count": 58,
     "metadata": {},
     "output_type": "execute_result"
    }
   ],
   "source": [
    "data.keys()"
   ]
  },
  {
   "cell_type": "code",
   "execution_count": 59,
   "metadata": {},
   "outputs": [
    {
     "data": {
      "text/html": [
       "<div>\n",
       "<style scoped>\n",
       "    .dataframe tbody tr th:only-of-type {\n",
       "        vertical-align: middle;\n",
       "    }\n",
       "\n",
       "    .dataframe tbody tr th {\n",
       "        vertical-align: top;\n",
       "    }\n",
       "\n",
       "    .dataframe thead th {\n",
       "        text-align: right;\n",
       "    }\n",
       "</style>\n",
       "<table border=\"1\" class=\"dataframe\">\n",
       "  <thead>\n",
       "    <tr style=\"text-align: right;\">\n",
       "      <th></th>\n",
       "      <th>DBN</th>\n",
       "      <th>Name</th>\n",
       "      <th>schoolyear</th>\n",
       "      <th>fl_percent</th>\n",
       "      <th>frl_percent</th>\n",
       "      <th>total_enrollment</th>\n",
       "      <th>prek</th>\n",
       "      <th>k</th>\n",
       "      <th>grade1</th>\n",
       "      <th>grade2</th>\n",
       "      <th>...</th>\n",
       "      <th>black_num</th>\n",
       "      <th>black_per</th>\n",
       "      <th>hispanic_num</th>\n",
       "      <th>hispanic_per</th>\n",
       "      <th>white_num</th>\n",
       "      <th>white_per</th>\n",
       "      <th>male_num</th>\n",
       "      <th>male_per</th>\n",
       "      <th>female_num</th>\n",
       "      <th>female_per</th>\n",
       "    </tr>\n",
       "  </thead>\n",
       "  <tbody>\n",
       "    <tr>\n",
       "      <th>0</th>\n",
       "      <td>01M015</td>\n",
       "      <td>P.S. 015 ROBERTO CLEMENTE</td>\n",
       "      <td>20052006</td>\n",
       "      <td>89.4</td>\n",
       "      <td>NaN</td>\n",
       "      <td>281</td>\n",
       "      <td>15</td>\n",
       "      <td>36</td>\n",
       "      <td>40</td>\n",
       "      <td>33</td>\n",
       "      <td>...</td>\n",
       "      <td>74</td>\n",
       "      <td>26.3</td>\n",
       "      <td>189</td>\n",
       "      <td>67.3</td>\n",
       "      <td>5</td>\n",
       "      <td>1.8</td>\n",
       "      <td>158.0</td>\n",
       "      <td>56.2</td>\n",
       "      <td>123.0</td>\n",
       "      <td>43.8</td>\n",
       "    </tr>\n",
       "    <tr>\n",
       "      <th>1</th>\n",
       "      <td>01M015</td>\n",
       "      <td>P.S. 015 ROBERTO CLEMENTE</td>\n",
       "      <td>20062007</td>\n",
       "      <td>89.4</td>\n",
       "      <td>NaN</td>\n",
       "      <td>243</td>\n",
       "      <td>15</td>\n",
       "      <td>29</td>\n",
       "      <td>39</td>\n",
       "      <td>38</td>\n",
       "      <td>...</td>\n",
       "      <td>68</td>\n",
       "      <td>28.0</td>\n",
       "      <td>153</td>\n",
       "      <td>63.0</td>\n",
       "      <td>4</td>\n",
       "      <td>1.6</td>\n",
       "      <td>140.0</td>\n",
       "      <td>57.6</td>\n",
       "      <td>103.0</td>\n",
       "      <td>42.4</td>\n",
       "    </tr>\n",
       "    <tr>\n",
       "      <th>2</th>\n",
       "      <td>01M015</td>\n",
       "      <td>P.S. 015 ROBERTO CLEMENTE</td>\n",
       "      <td>20072008</td>\n",
       "      <td>89.4</td>\n",
       "      <td>NaN</td>\n",
       "      <td>261</td>\n",
       "      <td>18</td>\n",
       "      <td>43</td>\n",
       "      <td>39</td>\n",
       "      <td>36</td>\n",
       "      <td>...</td>\n",
       "      <td>77</td>\n",
       "      <td>29.5</td>\n",
       "      <td>157</td>\n",
       "      <td>60.2</td>\n",
       "      <td>7</td>\n",
       "      <td>2.7</td>\n",
       "      <td>143.0</td>\n",
       "      <td>54.8</td>\n",
       "      <td>118.0</td>\n",
       "      <td>45.2</td>\n",
       "    </tr>\n",
       "    <tr>\n",
       "      <th>3</th>\n",
       "      <td>01M015</td>\n",
       "      <td>P.S. 015 ROBERTO CLEMENTE</td>\n",
       "      <td>20082009</td>\n",
       "      <td>89.4</td>\n",
       "      <td>NaN</td>\n",
       "      <td>252</td>\n",
       "      <td>17</td>\n",
       "      <td>37</td>\n",
       "      <td>44</td>\n",
       "      <td>32</td>\n",
       "      <td>...</td>\n",
       "      <td>75</td>\n",
       "      <td>29.8</td>\n",
       "      <td>149</td>\n",
       "      <td>59.1</td>\n",
       "      <td>7</td>\n",
       "      <td>2.8</td>\n",
       "      <td>149.0</td>\n",
       "      <td>59.1</td>\n",
       "      <td>103.0</td>\n",
       "      <td>40.9</td>\n",
       "    </tr>\n",
       "    <tr>\n",
       "      <th>4</th>\n",
       "      <td>01M015</td>\n",
       "      <td>P.S. 015 ROBERTO CLEMENTE</td>\n",
       "      <td>20092010</td>\n",
       "      <td></td>\n",
       "      <td>96.5</td>\n",
       "      <td>208</td>\n",
       "      <td>16</td>\n",
       "      <td>40</td>\n",
       "      <td>28</td>\n",
       "      <td>32</td>\n",
       "      <td>...</td>\n",
       "      <td>67</td>\n",
       "      <td>32.2</td>\n",
       "      <td>118</td>\n",
       "      <td>56.7</td>\n",
       "      <td>6</td>\n",
       "      <td>2.9</td>\n",
       "      <td>124.0</td>\n",
       "      <td>59.6</td>\n",
       "      <td>84.0</td>\n",
       "      <td>40.4</td>\n",
       "    </tr>\n",
       "    <tr>\n",
       "      <th>5</th>\n",
       "      <td>01M015</td>\n",
       "      <td>P.S. 015 ROBERTO CLEMENTE</td>\n",
       "      <td>20102011</td>\n",
       "      <td></td>\n",
       "      <td>96.5</td>\n",
       "      <td>203</td>\n",
       "      <td>13</td>\n",
       "      <td>37</td>\n",
       "      <td>35</td>\n",
       "      <td>33</td>\n",
       "      <td>...</td>\n",
       "      <td>75</td>\n",
       "      <td>36.9</td>\n",
       "      <td>110</td>\n",
       "      <td>54.2</td>\n",
       "      <td>4</td>\n",
       "      <td>2.0</td>\n",
       "      <td>113.0</td>\n",
       "      <td>55.7</td>\n",
       "      <td>90.0</td>\n",
       "      <td>44.3</td>\n",
       "    </tr>\n",
       "    <tr>\n",
       "      <th>6</th>\n",
       "      <td>01M015</td>\n",
       "      <td>P.S. 015 ROBERTO CLEMENTE</td>\n",
       "      <td>20112012</td>\n",
       "      <td>NaN</td>\n",
       "      <td>89.4</td>\n",
       "      <td>189</td>\n",
       "      <td>13</td>\n",
       "      <td>31</td>\n",
       "      <td>35</td>\n",
       "      <td>28</td>\n",
       "      <td>...</td>\n",
       "      <td>63</td>\n",
       "      <td>33.3</td>\n",
       "      <td>109</td>\n",
       "      <td>57.7</td>\n",
       "      <td>4</td>\n",
       "      <td>2.1</td>\n",
       "      <td>97.0</td>\n",
       "      <td>51.3</td>\n",
       "      <td>92.0</td>\n",
       "      <td>48.7</td>\n",
       "    </tr>\n",
       "    <tr>\n",
       "      <th>7</th>\n",
       "      <td>01M019</td>\n",
       "      <td>P.S. 019 ASHER LEVY</td>\n",
       "      <td>20052006</td>\n",
       "      <td>61.5</td>\n",
       "      <td>NaN</td>\n",
       "      <td>402</td>\n",
       "      <td>15</td>\n",
       "      <td>43</td>\n",
       "      <td>55</td>\n",
       "      <td>53</td>\n",
       "      <td>...</td>\n",
       "      <td>103</td>\n",
       "      <td>25.6</td>\n",
       "      <td>207</td>\n",
       "      <td>51.5</td>\n",
       "      <td>39</td>\n",
       "      <td>9.7</td>\n",
       "      <td>214.0</td>\n",
       "      <td>53.2</td>\n",
       "      <td>188.0</td>\n",
       "      <td>46.8</td>\n",
       "    </tr>\n",
       "    <tr>\n",
       "      <th>8</th>\n",
       "      <td>01M019</td>\n",
       "      <td>P.S. 019 ASHER LEVY</td>\n",
       "      <td>20062007</td>\n",
       "      <td>61.5</td>\n",
       "      <td>NaN</td>\n",
       "      <td>312</td>\n",
       "      <td>13</td>\n",
       "      <td>37</td>\n",
       "      <td>45</td>\n",
       "      <td>52</td>\n",
       "      <td>...</td>\n",
       "      <td>70</td>\n",
       "      <td>22.4</td>\n",
       "      <td>172</td>\n",
       "      <td>55.1</td>\n",
       "      <td>19</td>\n",
       "      <td>6.1</td>\n",
       "      <td>157.0</td>\n",
       "      <td>50.3</td>\n",
       "      <td>155.0</td>\n",
       "      <td>49.7</td>\n",
       "    </tr>\n",
       "    <tr>\n",
       "      <th>9</th>\n",
       "      <td>01M019</td>\n",
       "      <td>P.S. 019 ASHER LEVY</td>\n",
       "      <td>20072008</td>\n",
       "      <td>61.5</td>\n",
       "      <td>NaN</td>\n",
       "      <td>338</td>\n",
       "      <td>28</td>\n",
       "      <td>48</td>\n",
       "      <td>46</td>\n",
       "      <td>47</td>\n",
       "      <td>...</td>\n",
       "      <td>72</td>\n",
       "      <td>21.3</td>\n",
       "      <td>186</td>\n",
       "      <td>55.0</td>\n",
       "      <td>22</td>\n",
       "      <td>6.5</td>\n",
       "      <td>162.0</td>\n",
       "      <td>47.9</td>\n",
       "      <td>176.0</td>\n",
       "      <td>52.1</td>\n",
       "    </tr>\n",
       "  </tbody>\n",
       "</table>\n",
       "<p>10 rows × 38 columns</p>\n",
       "</div>"
      ],
      "text/plain": [
       "      DBN                                              Name  schoolyear  \\\n",
       "0  01M015                         P.S. 015 ROBERTO CLEMENTE    20052006   \n",
       "1  01M015                         P.S. 015 ROBERTO CLEMENTE    20062007   \n",
       "2  01M015                         P.S. 015 ROBERTO CLEMENTE    20072008   \n",
       "3  01M015                         P.S. 015 ROBERTO CLEMENTE    20082009   \n",
       "4  01M015                         P.S. 015 ROBERTO CLEMENTE    20092010   \n",
       "5  01M015                         P.S. 015 ROBERTO CLEMENTE    20102011   \n",
       "6  01M015  P.S. 015 ROBERTO CLEMENTE                           20112012   \n",
       "7  01M019                               P.S. 019 ASHER LEVY    20052006   \n",
       "8  01M019                               P.S. 019 ASHER LEVY    20062007   \n",
       "9  01M019                               P.S. 019 ASHER LEVY    20072008   \n",
       "\n",
       "  fl_percent  frl_percent  total_enrollment prek   k grade1 grade2  ...  \\\n",
       "0       89.4          NaN               281   15  36     40     33  ...   \n",
       "1       89.4          NaN               243   15  29     39     38  ...   \n",
       "2       89.4          NaN               261   18  43     39     36  ...   \n",
       "3       89.4          NaN               252   17  37     44     32  ...   \n",
       "4                    96.5               208   16  40     28     32  ...   \n",
       "5                    96.5               203   13  37     35     33  ...   \n",
       "6        NaN         89.4               189   13  31     35     28  ...   \n",
       "7       61.5          NaN               402   15  43     55     53  ...   \n",
       "8       61.5          NaN               312   13  37     45     52  ...   \n",
       "9       61.5          NaN               338   28  48     46     47  ...   \n",
       "\n",
       "  black_num black_per hispanic_num hispanic_per white_num white_per male_num  \\\n",
       "0        74      26.3          189         67.3         5       1.8    158.0   \n",
       "1        68      28.0          153         63.0         4       1.6    140.0   \n",
       "2        77      29.5          157         60.2         7       2.7    143.0   \n",
       "3        75      29.8          149         59.1         7       2.8    149.0   \n",
       "4        67      32.2          118         56.7         6       2.9    124.0   \n",
       "5        75      36.9          110         54.2         4       2.0    113.0   \n",
       "6        63      33.3          109         57.7         4       2.1     97.0   \n",
       "7       103      25.6          207         51.5        39       9.7    214.0   \n",
       "8        70      22.4          172         55.1        19       6.1    157.0   \n",
       "9        72      21.3          186         55.0        22       6.5    162.0   \n",
       "\n",
       "  male_per female_num female_per  \n",
       "0     56.2      123.0       43.8  \n",
       "1     57.6      103.0       42.4  \n",
       "2     54.8      118.0       45.2  \n",
       "3     59.1      103.0       40.9  \n",
       "4     59.6       84.0       40.4  \n",
       "5     55.7       90.0       44.3  \n",
       "6     51.3       92.0       48.7  \n",
       "7     53.2      188.0       46.8  \n",
       "8     50.3      155.0       49.7  \n",
       "9     47.9      176.0       52.1  \n",
       "\n",
       "[10 rows x 38 columns]"
      ]
     },
     "execution_count": 59,
     "metadata": {},
     "output_type": "execute_result"
    }
   ],
   "source": [
    "data[\"demographics\"].head(10)"
   ]
  },
  {
   "cell_type": "code",
   "execution_count": 60,
   "metadata": {},
   "outputs": [
    {
     "data": {
      "text/plain": [
       "array([20052006, 20062007, 20072008, 20082009, 20092010, 20102011,\n",
       "       20112012], dtype=int64)"
      ]
     },
     "execution_count": 60,
     "metadata": {},
     "output_type": "execute_result"
    }
   ],
   "source": [
    "data[\"demographics\"][\"schoolyear\"].unique()"
   ]
  },
  {
   "cell_type": "code",
   "execution_count": 61,
   "metadata": {},
   "outputs": [],
   "source": [
    "bol2 = data[\"demographics\"][\"schoolyear\"] == 20112012"
   ]
  },
  {
   "cell_type": "code",
   "execution_count": 62,
   "metadata": {},
   "outputs": [],
   "source": [
    "data[\"demographics\"] = data[\"demographics\"][bol2]"
   ]
  },
  {
   "cell_type": "code",
   "execution_count": 63,
   "metadata": {},
   "outputs": [
    {
     "data": {
      "text/html": [
       "<div>\n",
       "<style scoped>\n",
       "    .dataframe tbody tr th:only-of-type {\n",
       "        vertical-align: middle;\n",
       "    }\n",
       "\n",
       "    .dataframe tbody tr th {\n",
       "        vertical-align: top;\n",
       "    }\n",
       "\n",
       "    .dataframe thead th {\n",
       "        text-align: right;\n",
       "    }\n",
       "</style>\n",
       "<table border=\"1\" class=\"dataframe\">\n",
       "  <thead>\n",
       "    <tr style=\"text-align: right;\">\n",
       "      <th></th>\n",
       "      <th>DBN</th>\n",
       "      <th>Name</th>\n",
       "      <th>schoolyear</th>\n",
       "      <th>fl_percent</th>\n",
       "      <th>frl_percent</th>\n",
       "      <th>total_enrollment</th>\n",
       "      <th>prek</th>\n",
       "      <th>k</th>\n",
       "      <th>grade1</th>\n",
       "      <th>grade2</th>\n",
       "      <th>...</th>\n",
       "      <th>black_num</th>\n",
       "      <th>black_per</th>\n",
       "      <th>hispanic_num</th>\n",
       "      <th>hispanic_per</th>\n",
       "      <th>white_num</th>\n",
       "      <th>white_per</th>\n",
       "      <th>male_num</th>\n",
       "      <th>male_per</th>\n",
       "      <th>female_num</th>\n",
       "      <th>female_per</th>\n",
       "    </tr>\n",
       "  </thead>\n",
       "  <tbody>\n",
       "    <tr>\n",
       "      <th>6</th>\n",
       "      <td>01M015</td>\n",
       "      <td>P.S. 015 ROBERTO CLEMENTE</td>\n",
       "      <td>20112012</td>\n",
       "      <td>NaN</td>\n",
       "      <td>89.4</td>\n",
       "      <td>189</td>\n",
       "      <td>13</td>\n",
       "      <td>31</td>\n",
       "      <td>35</td>\n",
       "      <td>28</td>\n",
       "      <td>...</td>\n",
       "      <td>63</td>\n",
       "      <td>33.3</td>\n",
       "      <td>109</td>\n",
       "      <td>57.7</td>\n",
       "      <td>4</td>\n",
       "      <td>2.1</td>\n",
       "      <td>97.0</td>\n",
       "      <td>51.3</td>\n",
       "      <td>92.0</td>\n",
       "      <td>48.7</td>\n",
       "    </tr>\n",
       "    <tr>\n",
       "      <th>13</th>\n",
       "      <td>01M019</td>\n",
       "      <td>P.S. 019 ASHER LEVY</td>\n",
       "      <td>20112012</td>\n",
       "      <td>NaN</td>\n",
       "      <td>61.5</td>\n",
       "      <td>328</td>\n",
       "      <td>32</td>\n",
       "      <td>46</td>\n",
       "      <td>52</td>\n",
       "      <td>54</td>\n",
       "      <td>...</td>\n",
       "      <td>81</td>\n",
       "      <td>24.7</td>\n",
       "      <td>158</td>\n",
       "      <td>48.2</td>\n",
       "      <td>28</td>\n",
       "      <td>8.5</td>\n",
       "      <td>147.0</td>\n",
       "      <td>44.8</td>\n",
       "      <td>181.0</td>\n",
       "      <td>55.2</td>\n",
       "    </tr>\n",
       "    <tr>\n",
       "      <th>20</th>\n",
       "      <td>01M020</td>\n",
       "      <td>PS 020 ANNA SILVER</td>\n",
       "      <td>20112012</td>\n",
       "      <td>NaN</td>\n",
       "      <td>92.5</td>\n",
       "      <td>626</td>\n",
       "      <td>52</td>\n",
       "      <td>102</td>\n",
       "      <td>121</td>\n",
       "      <td>87</td>\n",
       "      <td>...</td>\n",
       "      <td>55</td>\n",
       "      <td>8.8</td>\n",
       "      <td>357</td>\n",
       "      <td>57.0</td>\n",
       "      <td>16</td>\n",
       "      <td>2.6</td>\n",
       "      <td>330.0</td>\n",
       "      <td>52.7</td>\n",
       "      <td>296.0</td>\n",
       "      <td>47.3</td>\n",
       "    </tr>\n",
       "    <tr>\n",
       "      <th>27</th>\n",
       "      <td>01M034</td>\n",
       "      <td>PS 034 FRANKLIN D ROOSEVELT</td>\n",
       "      <td>20112012</td>\n",
       "      <td>NaN</td>\n",
       "      <td>99.7</td>\n",
       "      <td>401</td>\n",
       "      <td>14</td>\n",
       "      <td>34</td>\n",
       "      <td>38</td>\n",
       "      <td>36</td>\n",
       "      <td>...</td>\n",
       "      <td>90</td>\n",
       "      <td>22.4</td>\n",
       "      <td>275</td>\n",
       "      <td>68.6</td>\n",
       "      <td>8</td>\n",
       "      <td>2.0</td>\n",
       "      <td>204.0</td>\n",
       "      <td>50.9</td>\n",
       "      <td>197.0</td>\n",
       "      <td>49.1</td>\n",
       "    </tr>\n",
       "    <tr>\n",
       "      <th>35</th>\n",
       "      <td>01M063</td>\n",
       "      <td>PS 063 WILLIAM MCKINLEY</td>\n",
       "      <td>20112012</td>\n",
       "      <td>NaN</td>\n",
       "      <td>78.9</td>\n",
       "      <td>176</td>\n",
       "      <td>18</td>\n",
       "      <td>20</td>\n",
       "      <td>30</td>\n",
       "      <td>21</td>\n",
       "      <td>...</td>\n",
       "      <td>41</td>\n",
       "      <td>23.3</td>\n",
       "      <td>110</td>\n",
       "      <td>62.5</td>\n",
       "      <td>15</td>\n",
       "      <td>8.5</td>\n",
       "      <td>97.0</td>\n",
       "      <td>55.1</td>\n",
       "      <td>79.0</td>\n",
       "      <td>44.9</td>\n",
       "    </tr>\n",
       "  </tbody>\n",
       "</table>\n",
       "<p>5 rows × 38 columns</p>\n",
       "</div>"
      ],
      "text/plain": [
       "       DBN                                              Name  schoolyear  \\\n",
       "6   01M015  P.S. 015 ROBERTO CLEMENTE                           20112012   \n",
       "13  01M019  P.S. 019 ASHER LEVY                                 20112012   \n",
       "20  01M020  PS 020 ANNA SILVER                                  20112012   \n",
       "27  01M034  PS 034 FRANKLIN D ROOSEVELT                         20112012   \n",
       "35  01M063  PS 063 WILLIAM MCKINLEY                             20112012   \n",
       "\n",
       "   fl_percent  frl_percent  total_enrollment prek    k grade1 grade2  ...  \\\n",
       "6         NaN         89.4               189   13   31     35     28  ...   \n",
       "13        NaN         61.5               328   32   46     52     54  ...   \n",
       "20        NaN         92.5               626   52  102    121     87  ...   \n",
       "27        NaN         99.7               401   14   34     38     36  ...   \n",
       "35        NaN         78.9               176   18   20     30     21  ...   \n",
       "\n",
       "   black_num black_per hispanic_num hispanic_per white_num white_per male_num  \\\n",
       "6         63      33.3          109         57.7         4       2.1     97.0   \n",
       "13        81      24.7          158         48.2        28       8.5    147.0   \n",
       "20        55       8.8          357         57.0        16       2.6    330.0   \n",
       "27        90      22.4          275         68.6         8       2.0    204.0   \n",
       "35        41      23.3          110         62.5        15       8.5     97.0   \n",
       "\n",
       "   male_per female_num female_per  \n",
       "6      51.3       92.0       48.7  \n",
       "13     44.8      181.0       55.2  \n",
       "20     52.7      296.0       47.3  \n",
       "27     50.9      197.0       49.1  \n",
       "35     55.1       79.0       44.9  \n",
       "\n",
       "[5 rows x 38 columns]"
      ]
     },
     "execution_count": 63,
     "metadata": {},
     "output_type": "execute_result"
    }
   ],
   "source": [
    "data[\"demographics\"].head()"
   ]
  },
  {
   "cell_type": "code",
   "execution_count": 64,
   "metadata": {},
   "outputs": [
    {
     "data": {
      "text/plain": [
       "(1509, 38)"
      ]
     },
     "execution_count": 64,
     "metadata": {},
     "output_type": "execute_result"
    }
   ],
   "source": [
    "data[\"demographics\"].shape"
   ]
  },
  {
   "cell_type": "code",
   "execution_count": 65,
   "metadata": {},
   "outputs": [
    {
     "data": {
      "text/plain": [
       "1509"
      ]
     },
     "execution_count": 65,
     "metadata": {},
     "output_type": "execute_result"
    }
   ],
   "source": [
    "len(data[\"demographics\"][\"DBN\"].unique())"
   ]
  },
  {
   "cell_type": "code",
   "execution_count": 66,
   "metadata": {},
   "outputs": [
    {
     "data": {
      "text/plain": [
       "dict_keys(['ap_2010', 'class_size', 'demographics', 'graduation', 'hs_directory', 'sat_results', 'survey'])"
      ]
     },
     "execution_count": 66,
     "metadata": {},
     "output_type": "execute_result"
    }
   ],
   "source": [
    "data.keys()"
   ]
  },
  {
   "cell_type": "code",
   "execution_count": 67,
   "metadata": {},
   "outputs": [
    {
     "data": {
      "text/html": [
       "<div>\n",
       "<style scoped>\n",
       "    .dataframe tbody tr th:only-of-type {\n",
       "        vertical-align: middle;\n",
       "    }\n",
       "\n",
       "    .dataframe tbody tr th {\n",
       "        vertical-align: top;\n",
       "    }\n",
       "\n",
       "    .dataframe thead th {\n",
       "        text-align: right;\n",
       "    }\n",
       "</style>\n",
       "<table border=\"1\" class=\"dataframe\">\n",
       "  <thead>\n",
       "    <tr style=\"text-align: right;\">\n",
       "      <th></th>\n",
       "      <th>Demographic</th>\n",
       "      <th>DBN</th>\n",
       "      <th>School Name</th>\n",
       "      <th>Cohort</th>\n",
       "      <th>Total Cohort</th>\n",
       "      <th>Total Grads - n</th>\n",
       "      <th>Total Grads - % of cohort</th>\n",
       "      <th>Total Regents - n</th>\n",
       "      <th>Total Regents - % of cohort</th>\n",
       "      <th>Total Regents - % of grads</th>\n",
       "      <th>...</th>\n",
       "      <th>Regents w/o Advanced - n</th>\n",
       "      <th>Regents w/o Advanced - % of cohort</th>\n",
       "      <th>Regents w/o Advanced - % of grads</th>\n",
       "      <th>Local - n</th>\n",
       "      <th>Local - % of cohort</th>\n",
       "      <th>Local - % of grads</th>\n",
       "      <th>Still Enrolled - n</th>\n",
       "      <th>Still Enrolled - % of cohort</th>\n",
       "      <th>Dropped Out - n</th>\n",
       "      <th>Dropped Out - % of cohort</th>\n",
       "    </tr>\n",
       "  </thead>\n",
       "  <tbody>\n",
       "    <tr>\n",
       "      <th>0</th>\n",
       "      <td>Total Cohort</td>\n",
       "      <td>01M292</td>\n",
       "      <td>HENRY STREET SCHOOL FOR INTERNATIONAL</td>\n",
       "      <td>2003</td>\n",
       "      <td>5</td>\n",
       "      <td>s</td>\n",
       "      <td>NaN</td>\n",
       "      <td>s</td>\n",
       "      <td>NaN</td>\n",
       "      <td>NaN</td>\n",
       "      <td>...</td>\n",
       "      <td>s</td>\n",
       "      <td>NaN</td>\n",
       "      <td>NaN</td>\n",
       "      <td>s</td>\n",
       "      <td>NaN</td>\n",
       "      <td>NaN</td>\n",
       "      <td>s</td>\n",
       "      <td>NaN</td>\n",
       "      <td>s</td>\n",
       "      <td>NaN</td>\n",
       "    </tr>\n",
       "    <tr>\n",
       "      <th>1</th>\n",
       "      <td>Total Cohort</td>\n",
       "      <td>01M292</td>\n",
       "      <td>HENRY STREET SCHOOL FOR INTERNATIONAL</td>\n",
       "      <td>2004</td>\n",
       "      <td>55</td>\n",
       "      <td>37</td>\n",
       "      <td>67.3</td>\n",
       "      <td>17</td>\n",
       "      <td>30.9</td>\n",
       "      <td>45.9</td>\n",
       "      <td>...</td>\n",
       "      <td>17</td>\n",
       "      <td>30.9</td>\n",
       "      <td>45.9</td>\n",
       "      <td>20</td>\n",
       "      <td>36.4</td>\n",
       "      <td>54.1</td>\n",
       "      <td>15</td>\n",
       "      <td>27.3</td>\n",
       "      <td>3</td>\n",
       "      <td>5.5</td>\n",
       "    </tr>\n",
       "    <tr>\n",
       "      <th>2</th>\n",
       "      <td>Total Cohort</td>\n",
       "      <td>01M292</td>\n",
       "      <td>HENRY STREET SCHOOL FOR INTERNATIONAL</td>\n",
       "      <td>2005</td>\n",
       "      <td>64</td>\n",
       "      <td>43</td>\n",
       "      <td>67.2</td>\n",
       "      <td>27</td>\n",
       "      <td>42.2</td>\n",
       "      <td>62.8</td>\n",
       "      <td>...</td>\n",
       "      <td>27</td>\n",
       "      <td>42.2</td>\n",
       "      <td>62.8</td>\n",
       "      <td>16</td>\n",
       "      <td>25.0</td>\n",
       "      <td>37.2</td>\n",
       "      <td>9</td>\n",
       "      <td>14.1</td>\n",
       "      <td>9</td>\n",
       "      <td>14.1</td>\n",
       "    </tr>\n",
       "    <tr>\n",
       "      <th>3</th>\n",
       "      <td>Total Cohort</td>\n",
       "      <td>01M292</td>\n",
       "      <td>HENRY STREET SCHOOL FOR INTERNATIONAL</td>\n",
       "      <td>2006</td>\n",
       "      <td>78</td>\n",
       "      <td>43</td>\n",
       "      <td>55.1</td>\n",
       "      <td>36</td>\n",
       "      <td>46.2</td>\n",
       "      <td>83.7</td>\n",
       "      <td>...</td>\n",
       "      <td>36</td>\n",
       "      <td>46.2</td>\n",
       "      <td>83.7</td>\n",
       "      <td>7</td>\n",
       "      <td>9.0</td>\n",
       "      <td>16.3</td>\n",
       "      <td>16</td>\n",
       "      <td>20.5</td>\n",
       "      <td>11</td>\n",
       "      <td>14.1</td>\n",
       "    </tr>\n",
       "    <tr>\n",
       "      <th>4</th>\n",
       "      <td>Total Cohort</td>\n",
       "      <td>01M292</td>\n",
       "      <td>HENRY STREET SCHOOL FOR INTERNATIONAL</td>\n",
       "      <td>2006 Aug</td>\n",
       "      <td>78</td>\n",
       "      <td>44</td>\n",
       "      <td>56.4</td>\n",
       "      <td>37</td>\n",
       "      <td>47.4</td>\n",
       "      <td>84.1</td>\n",
       "      <td>...</td>\n",
       "      <td>37</td>\n",
       "      <td>47.4</td>\n",
       "      <td>84.1</td>\n",
       "      <td>7</td>\n",
       "      <td>9.0</td>\n",
       "      <td>15.9</td>\n",
       "      <td>15</td>\n",
       "      <td>19.2</td>\n",
       "      <td>11</td>\n",
       "      <td>14.1</td>\n",
       "    </tr>\n",
       "  </tbody>\n",
       "</table>\n",
       "<p>5 rows × 23 columns</p>\n",
       "</div>"
      ],
      "text/plain": [
       "    Demographic     DBN                            School Name    Cohort  \\\n",
       "0  Total Cohort  01M292  HENRY STREET SCHOOL FOR INTERNATIONAL      2003   \n",
       "1  Total Cohort  01M292  HENRY STREET SCHOOL FOR INTERNATIONAL      2004   \n",
       "2  Total Cohort  01M292  HENRY STREET SCHOOL FOR INTERNATIONAL      2005   \n",
       "3  Total Cohort  01M292  HENRY STREET SCHOOL FOR INTERNATIONAL      2006   \n",
       "4  Total Cohort  01M292  HENRY STREET SCHOOL FOR INTERNATIONAL  2006 Aug   \n",
       "\n",
       "   Total Cohort Total Grads - n  Total Grads - % of cohort Total Regents - n  \\\n",
       "0             5               s                        NaN                 s   \n",
       "1            55              37                       67.3                17   \n",
       "2            64              43                       67.2                27   \n",
       "3            78              43                       55.1                36   \n",
       "4            78              44                       56.4                37   \n",
       "\n",
       "   Total Regents - % of cohort  Total Regents - % of grads  ...  \\\n",
       "0                          NaN                         NaN  ...   \n",
       "1                         30.9                        45.9  ...   \n",
       "2                         42.2                        62.8  ...   \n",
       "3                         46.2                        83.7  ...   \n",
       "4                         47.4                        84.1  ...   \n",
       "\n",
       "  Regents w/o Advanced - n  Regents w/o Advanced - % of cohort  \\\n",
       "0                        s                                 NaN   \n",
       "1                       17                                30.9   \n",
       "2                       27                                42.2   \n",
       "3                       36                                46.2   \n",
       "4                       37                                47.4   \n",
       "\n",
       "   Regents w/o Advanced - % of grads Local - n  Local - % of cohort  \\\n",
       "0                                NaN         s                  NaN   \n",
       "1                               45.9        20                 36.4   \n",
       "2                               62.8        16                 25.0   \n",
       "3                               83.7         7                  9.0   \n",
       "4                               84.1         7                  9.0   \n",
       "\n",
       "   Local - % of grads Still Enrolled - n  Still Enrolled - % of cohort  \\\n",
       "0                 NaN                  s                           NaN   \n",
       "1                54.1                 15                          27.3   \n",
       "2                37.2                  9                          14.1   \n",
       "3                16.3                 16                          20.5   \n",
       "4                15.9                 15                          19.2   \n",
       "\n",
       "   Dropped Out - n Dropped Out - % of cohort  \n",
       "0                s                       NaN  \n",
       "1                3                       5.5  \n",
       "2                9                      14.1  \n",
       "3               11                      14.1  \n",
       "4               11                      14.1  \n",
       "\n",
       "[5 rows x 23 columns]"
      ]
     },
     "execution_count": 67,
     "metadata": {},
     "output_type": "execute_result"
    }
   ],
   "source": [
    "data['graduation'].head()"
   ]
  },
  {
   "cell_type": "code",
   "execution_count": 68,
   "metadata": {},
   "outputs": [
    {
     "data": {
      "text/plain": [
       "array(['Total Cohort', 'Asian', 'Male', 'Black',\n",
       "       'English Language Learners', 'Hispanic', 'White',\n",
       "       'English Proficient Students', 'Special Education Students',\n",
       "       'General Education Students', 'Female'], dtype=object)"
      ]
     },
     "execution_count": 68,
     "metadata": {},
     "output_type": "execute_result"
    }
   ],
   "source": [
    "data['graduation'][\"Demographic\"].unique()"
   ]
  },
  {
   "cell_type": "code",
   "execution_count": 69,
   "metadata": {},
   "outputs": [
    {
     "data": {
      "text/plain": [
       "array(['2003', '2004', '2005', '2006', '2006 Aug', '2001', '2002'],\n",
       "      dtype=object)"
      ]
     },
     "execution_count": 69,
     "metadata": {},
     "output_type": "execute_result"
    }
   ],
   "source": [
    "data['graduation'][\"Cohort\"].unique()"
   ]
  },
  {
   "cell_type": "code",
   "execution_count": 70,
   "metadata": {},
   "outputs": [],
   "source": [
    "bol3 = (data['graduation'][\"Demographic\"] == 'Total Cohort')\\\n",
    "& (data['graduation'][\"Cohort\"] == \"2006\")\n",
    "\n",
    "data['graduation'] = data['graduation'][bol3]"
   ]
  },
  {
   "cell_type": "code",
   "execution_count": 71,
   "metadata": {},
   "outputs": [
    {
     "data": {
      "text/plain": [
       "405"
      ]
     },
     "execution_count": 71,
     "metadata": {},
     "output_type": "execute_result"
    }
   ],
   "source": [
    "len(data['graduation'][\"DBN\"].unique())"
   ]
  },
  {
   "cell_type": "code",
   "execution_count": 72,
   "metadata": {},
   "outputs": [
    {
     "data": {
      "text/plain": [
       "405"
      ]
     },
     "execution_count": 72,
     "metadata": {},
     "output_type": "execute_result"
    }
   ],
   "source": [
    "data['graduation'].shape[0]"
   ]
  },
  {
   "cell_type": "code",
   "execution_count": 73,
   "metadata": {},
   "outputs": [
    {
     "data": {
      "text/plain": [
       "dict_keys(['ap_2010', 'class_size', 'demographics', 'graduation', 'hs_directory', 'sat_results', 'survey'])"
      ]
     },
     "execution_count": 73,
     "metadata": {},
     "output_type": "execute_result"
    }
   ],
   "source": [
    "data.keys()"
   ]
  },
  {
   "cell_type": "code",
   "execution_count": 74,
   "metadata": {},
   "outputs": [
    {
     "data": {
      "text/html": [
       "<div>\n",
       "<style scoped>\n",
       "    .dataframe tbody tr th:only-of-type {\n",
       "        vertical-align: middle;\n",
       "    }\n",
       "\n",
       "    .dataframe tbody tr th {\n",
       "        vertical-align: top;\n",
       "    }\n",
       "\n",
       "    .dataframe thead th {\n",
       "        text-align: right;\n",
       "    }\n",
       "</style>\n",
       "<table border=\"1\" class=\"dataframe\">\n",
       "  <thead>\n",
       "    <tr style=\"text-align: right;\">\n",
       "      <th></th>\n",
       "      <th>dbn</th>\n",
       "      <th>school_name</th>\n",
       "      <th>borough</th>\n",
       "      <th>building_code</th>\n",
       "      <th>phone_number</th>\n",
       "      <th>fax_number</th>\n",
       "      <th>grade_span_min</th>\n",
       "      <th>grade_span_max</th>\n",
       "      <th>expgrade_span_min</th>\n",
       "      <th>expgrade_span_max</th>\n",
       "      <th>...</th>\n",
       "      <th>priority08</th>\n",
       "      <th>priority09</th>\n",
       "      <th>priority10</th>\n",
       "      <th>Location 1</th>\n",
       "      <th>Community Board</th>\n",
       "      <th>Council District</th>\n",
       "      <th>Census Tract</th>\n",
       "      <th>BIN</th>\n",
       "      <th>BBL</th>\n",
       "      <th>NTA</th>\n",
       "    </tr>\n",
       "  </thead>\n",
       "  <tbody>\n",
       "    <tr>\n",
       "      <th>0</th>\n",
       "      <td>21K540</td>\n",
       "      <td>John Dewey High School</td>\n",
       "      <td>Brooklyn</td>\n",
       "      <td>K540</td>\n",
       "      <td>718-373-6400</td>\n",
       "      <td>718-266-4385</td>\n",
       "      <td>9.0</td>\n",
       "      <td>12</td>\n",
       "      <td>NaN</td>\n",
       "      <td>NaN</td>\n",
       "      <td>...</td>\n",
       "      <td>NaN</td>\n",
       "      <td>NaN</td>\n",
       "      <td>NaN</td>\n",
       "      <td>50 Avenue\\nX Brooklyn, NY 11223\\n(40.589238098, -73.981746524)</td>\n",
       "      <td>13.0</td>\n",
       "      <td>47.0</td>\n",
       "      <td>308.0</td>\n",
       "      <td>3194998.0</td>\n",
       "      <td>3.071850e+09</td>\n",
       "      <td>Gravesend</td>\n",
       "    </tr>\n",
       "    <tr>\n",
       "      <th>1</th>\n",
       "      <td>15K429</td>\n",
       "      <td>Brooklyn School for Global Studies</td>\n",
       "      <td>Brooklyn</td>\n",
       "      <td>K293</td>\n",
       "      <td>718-694-9741</td>\n",
       "      <td>718-694-9745</td>\n",
       "      <td>6.0</td>\n",
       "      <td>12</td>\n",
       "      <td>NaN</td>\n",
       "      <td>NaN</td>\n",
       "      <td>...</td>\n",
       "      <td>NaN</td>\n",
       "      <td>NaN</td>\n",
       "      <td>NaN</td>\n",
       "      <td>284 Baltic Street\\nBrooklyn, NY 11201\\n(40.685451806, -73.993491465)</td>\n",
       "      <td>6.0</td>\n",
       "      <td>33.0</td>\n",
       "      <td>69.0</td>\n",
       "      <td>3006401.0</td>\n",
       "      <td>3.004020e+09</td>\n",
       "      <td>DUMBO-Vinegar Hill-Downtown Brooklyn-Boerum Hill</td>\n",
       "    </tr>\n",
       "    <tr>\n",
       "      <th>2</th>\n",
       "      <td>24Q530</td>\n",
       "      <td>International High School at LaGuardia Community College</td>\n",
       "      <td>Queens</td>\n",
       "      <td>Q520</td>\n",
       "      <td>718-392-3433</td>\n",
       "      <td>718-392-3443</td>\n",
       "      <td>9.0</td>\n",
       "      <td>12</td>\n",
       "      <td>NaN</td>\n",
       "      <td>NaN</td>\n",
       "      <td>...</td>\n",
       "      <td>NaN</td>\n",
       "      <td>NaN</td>\n",
       "      <td>NaN</td>\n",
       "      <td>45 35 Van Dam Street\\nLong Island City, NY 11101\\n(40.744149536, -73.933626741)</td>\n",
       "      <td>2.0</td>\n",
       "      <td>26.0</td>\n",
       "      <td>179.0</td>\n",
       "      <td>4003442.0</td>\n",
       "      <td>4.002490e+09</td>\n",
       "      <td>Hunters Point-Sunnyside-West Maspeth</td>\n",
       "    </tr>\n",
       "    <tr>\n",
       "      <th>3</th>\n",
       "      <td>05M367</td>\n",
       "      <td>Academy for Social Action: A College Board School</td>\n",
       "      <td>Manhattan</td>\n",
       "      <td>M043</td>\n",
       "      <td>212-234-3102</td>\n",
       "      <td>212-234-8597</td>\n",
       "      <td>9.0</td>\n",
       "      <td>12</td>\n",
       "      <td>NaN</td>\n",
       "      <td>NaN</td>\n",
       "      <td>...</td>\n",
       "      <td>NaN</td>\n",
       "      <td>NaN</td>\n",
       "      <td>NaN</td>\n",
       "      <td>509 West 129 Street\\nNew York, NY 10027\\n(40.815230365, -73.955201206)</td>\n",
       "      <td>9.0</td>\n",
       "      <td>7.0</td>\n",
       "      <td>219.0</td>\n",
       "      <td>1059723.0</td>\n",
       "      <td>1.019840e+09</td>\n",
       "      <td>Manhattanville</td>\n",
       "    </tr>\n",
       "    <tr>\n",
       "      <th>4</th>\n",
       "      <td>27Q260</td>\n",
       "      <td>Frederick Douglass Academy VI High School</td>\n",
       "      <td>Queens</td>\n",
       "      <td>Q465</td>\n",
       "      <td>718-471-2154</td>\n",
       "      <td>718-471-2890</td>\n",
       "      <td>9.0</td>\n",
       "      <td>12</td>\n",
       "      <td>NaN</td>\n",
       "      <td>NaN</td>\n",
       "      <td>...</td>\n",
       "      <td>NaN</td>\n",
       "      <td>NaN</td>\n",
       "      <td>NaN</td>\n",
       "      <td>8 21 Bay 25 Street\\nFar Rockaway, NY 11691\\n(40.601989336, -73.762834323)</td>\n",
       "      <td>14.0</td>\n",
       "      <td>31.0</td>\n",
       "      <td>100802.0</td>\n",
       "      <td>4300730.0</td>\n",
       "      <td>4.157360e+09</td>\n",
       "      <td>Far Rockaway-Bayswater</td>\n",
       "    </tr>\n",
       "  </tbody>\n",
       "</table>\n",
       "<p>5 rows × 64 columns</p>\n",
       "</div>"
      ],
      "text/plain": [
       "      dbn                                               school_name  \\\n",
       "0  21K540                                    John Dewey High School   \n",
       "1  15K429                        Brooklyn School for Global Studies   \n",
       "2  24Q530  International High School at LaGuardia Community College   \n",
       "3  05M367         Academy for Social Action: A College Board School   \n",
       "4  27Q260                 Frederick Douglass Academy VI High School   \n",
       "\n",
       "     borough building_code  phone_number    fax_number  grade_span_min  \\\n",
       "0   Brooklyn          K540  718-373-6400  718-266-4385             9.0   \n",
       "1   Brooklyn          K293  718-694-9741  718-694-9745             6.0   \n",
       "2     Queens          Q520  718-392-3433  718-392-3443             9.0   \n",
       "3  Manhattan          M043  212-234-3102  212-234-8597             9.0   \n",
       "4     Queens          Q465  718-471-2154  718-471-2890             9.0   \n",
       "\n",
       "   grade_span_max  expgrade_span_min  expgrade_span_max  ... priority08  \\\n",
       "0              12                NaN                NaN  ...        NaN   \n",
       "1              12                NaN                NaN  ...        NaN   \n",
       "2              12                NaN                NaN  ...        NaN   \n",
       "3              12                NaN                NaN  ...        NaN   \n",
       "4              12                NaN                NaN  ...        NaN   \n",
       "\n",
       "  priority09 priority10  \\\n",
       "0        NaN        NaN   \n",
       "1        NaN        NaN   \n",
       "2        NaN        NaN   \n",
       "3        NaN        NaN   \n",
       "4        NaN        NaN   \n",
       "\n",
       "                                                                        Location 1  \\\n",
       "0                   50 Avenue\\nX Brooklyn, NY 11223\\n(40.589238098, -73.981746524)   \n",
       "1             284 Baltic Street\\nBrooklyn, NY 11201\\n(40.685451806, -73.993491465)   \n",
       "2  45 35 Van Dam Street\\nLong Island City, NY 11101\\n(40.744149536, -73.933626741)   \n",
       "3           509 West 129 Street\\nNew York, NY 10027\\n(40.815230365, -73.955201206)   \n",
       "4        8 21 Bay 25 Street\\nFar Rockaway, NY 11691\\n(40.601989336, -73.762834323)   \n",
       "\n",
       "  Community Board  Council District Census Tract        BIN           BBL  \\\n",
       "0            13.0              47.0        308.0  3194998.0  3.071850e+09   \n",
       "1             6.0              33.0         69.0  3006401.0  3.004020e+09   \n",
       "2             2.0              26.0        179.0  4003442.0  4.002490e+09   \n",
       "3             9.0               7.0        219.0  1059723.0  1.019840e+09   \n",
       "4            14.0              31.0     100802.0  4300730.0  4.157360e+09   \n",
       "\n",
       "                                                                           NTA  \n",
       "0  Gravesend                                                                    \n",
       "1  DUMBO-Vinegar Hill-Downtown Brooklyn-Boerum Hill                             \n",
       "2  Hunters Point-Sunnyside-West Maspeth                                         \n",
       "3  Manhattanville                                                               \n",
       "4  Far Rockaway-Bayswater                                                       \n",
       "\n",
       "[5 rows x 64 columns]"
      ]
     },
     "execution_count": 74,
     "metadata": {},
     "output_type": "execute_result"
    }
   ],
   "source": [
    "data[\"hs_directory\"].head()"
   ]
  },
  {
   "cell_type": "code",
   "execution_count": 75,
   "metadata": {},
   "outputs": [],
   "source": [
    "data[\"hs_directory\"].columns = data[\"hs_directory\"].columns.str.replace(\"dbn\", \"DBN\")"
   ]
  },
  {
   "cell_type": "code",
   "execution_count": 76,
   "metadata": {},
   "outputs": [
    {
     "data": {
      "text/plain": [
       "435"
      ]
     },
     "execution_count": 76,
     "metadata": {},
     "output_type": "execute_result"
    }
   ],
   "source": [
    "data[\"hs_directory\"][\"DBN\"].unique().size"
   ]
  },
  {
   "cell_type": "code",
   "execution_count": 77,
   "metadata": {},
   "outputs": [
    {
     "data": {
      "text/plain": [
       "(435, 64)"
      ]
     },
     "execution_count": 77,
     "metadata": {},
     "output_type": "execute_result"
    }
   ],
   "source": [
    "data[\"hs_directory\"].shape"
   ]
  },
  {
   "cell_type": "code",
   "execution_count": 78,
   "metadata": {},
   "outputs": [
    {
     "data": {
      "text/html": [
       "<div>\n",
       "<style scoped>\n",
       "    .dataframe tbody tr th:only-of-type {\n",
       "        vertical-align: middle;\n",
       "    }\n",
       "\n",
       "    .dataframe tbody tr th {\n",
       "        vertical-align: top;\n",
       "    }\n",
       "\n",
       "    .dataframe thead th {\n",
       "        text-align: right;\n",
       "    }\n",
       "</style>\n",
       "<table border=\"1\" class=\"dataframe\">\n",
       "  <thead>\n",
       "    <tr style=\"text-align: right;\">\n",
       "      <th></th>\n",
       "      <th>DBN</th>\n",
       "      <th>school_name</th>\n",
       "      <th>borough</th>\n",
       "      <th>building_code</th>\n",
       "      <th>phone_number</th>\n",
       "      <th>fax_number</th>\n",
       "      <th>grade_span_min</th>\n",
       "      <th>grade_span_max</th>\n",
       "      <th>expgrade_span_min</th>\n",
       "      <th>expgrade_span_max</th>\n",
       "      <th>...</th>\n",
       "      <th>priority08</th>\n",
       "      <th>priority09</th>\n",
       "      <th>priority10</th>\n",
       "      <th>Location 1</th>\n",
       "      <th>Community Board</th>\n",
       "      <th>Council District</th>\n",
       "      <th>Census Tract</th>\n",
       "      <th>BIN</th>\n",
       "      <th>BBL</th>\n",
       "      <th>NTA</th>\n",
       "    </tr>\n",
       "  </thead>\n",
       "  <tbody>\n",
       "    <tr>\n",
       "      <th>0</th>\n",
       "      <td>21K540</td>\n",
       "      <td>John Dewey High School</td>\n",
       "      <td>Brooklyn</td>\n",
       "      <td>K540</td>\n",
       "      <td>718-373-6400</td>\n",
       "      <td>718-266-4385</td>\n",
       "      <td>9.0</td>\n",
       "      <td>12</td>\n",
       "      <td>NaN</td>\n",
       "      <td>NaN</td>\n",
       "      <td>...</td>\n",
       "      <td>NaN</td>\n",
       "      <td>NaN</td>\n",
       "      <td>NaN</td>\n",
       "      <td>50 Avenue\\nX Brooklyn, NY 11223\\n(40.589238098, -73.981746524)</td>\n",
       "      <td>13.0</td>\n",
       "      <td>47.0</td>\n",
       "      <td>308.0</td>\n",
       "      <td>3194998.0</td>\n",
       "      <td>3.071850e+09</td>\n",
       "      <td>Gravesend</td>\n",
       "    </tr>\n",
       "    <tr>\n",
       "      <th>1</th>\n",
       "      <td>15K429</td>\n",
       "      <td>Brooklyn School for Global Studies</td>\n",
       "      <td>Brooklyn</td>\n",
       "      <td>K293</td>\n",
       "      <td>718-694-9741</td>\n",
       "      <td>718-694-9745</td>\n",
       "      <td>6.0</td>\n",
       "      <td>12</td>\n",
       "      <td>NaN</td>\n",
       "      <td>NaN</td>\n",
       "      <td>...</td>\n",
       "      <td>NaN</td>\n",
       "      <td>NaN</td>\n",
       "      <td>NaN</td>\n",
       "      <td>284 Baltic Street\\nBrooklyn, NY 11201\\n(40.685451806, -73.993491465)</td>\n",
       "      <td>6.0</td>\n",
       "      <td>33.0</td>\n",
       "      <td>69.0</td>\n",
       "      <td>3006401.0</td>\n",
       "      <td>3.004020e+09</td>\n",
       "      <td>DUMBO-Vinegar Hill-Downtown Brooklyn-Boerum Hill</td>\n",
       "    </tr>\n",
       "    <tr>\n",
       "      <th>2</th>\n",
       "      <td>24Q530</td>\n",
       "      <td>International High School at LaGuardia Community College</td>\n",
       "      <td>Queens</td>\n",
       "      <td>Q520</td>\n",
       "      <td>718-392-3433</td>\n",
       "      <td>718-392-3443</td>\n",
       "      <td>9.0</td>\n",
       "      <td>12</td>\n",
       "      <td>NaN</td>\n",
       "      <td>NaN</td>\n",
       "      <td>...</td>\n",
       "      <td>NaN</td>\n",
       "      <td>NaN</td>\n",
       "      <td>NaN</td>\n",
       "      <td>45 35 Van Dam Street\\nLong Island City, NY 11101\\n(40.744149536, -73.933626741)</td>\n",
       "      <td>2.0</td>\n",
       "      <td>26.0</td>\n",
       "      <td>179.0</td>\n",
       "      <td>4003442.0</td>\n",
       "      <td>4.002490e+09</td>\n",
       "      <td>Hunters Point-Sunnyside-West Maspeth</td>\n",
       "    </tr>\n",
       "    <tr>\n",
       "      <th>3</th>\n",
       "      <td>05M367</td>\n",
       "      <td>Academy for Social Action: A College Board School</td>\n",
       "      <td>Manhattan</td>\n",
       "      <td>M043</td>\n",
       "      <td>212-234-3102</td>\n",
       "      <td>212-234-8597</td>\n",
       "      <td>9.0</td>\n",
       "      <td>12</td>\n",
       "      <td>NaN</td>\n",
       "      <td>NaN</td>\n",
       "      <td>...</td>\n",
       "      <td>NaN</td>\n",
       "      <td>NaN</td>\n",
       "      <td>NaN</td>\n",
       "      <td>509 West 129 Street\\nNew York, NY 10027\\n(40.815230365, -73.955201206)</td>\n",
       "      <td>9.0</td>\n",
       "      <td>7.0</td>\n",
       "      <td>219.0</td>\n",
       "      <td>1059723.0</td>\n",
       "      <td>1.019840e+09</td>\n",
       "      <td>Manhattanville</td>\n",
       "    </tr>\n",
       "    <tr>\n",
       "      <th>4</th>\n",
       "      <td>27Q260</td>\n",
       "      <td>Frederick Douglass Academy VI High School</td>\n",
       "      <td>Queens</td>\n",
       "      <td>Q465</td>\n",
       "      <td>718-471-2154</td>\n",
       "      <td>718-471-2890</td>\n",
       "      <td>9.0</td>\n",
       "      <td>12</td>\n",
       "      <td>NaN</td>\n",
       "      <td>NaN</td>\n",
       "      <td>...</td>\n",
       "      <td>NaN</td>\n",
       "      <td>NaN</td>\n",
       "      <td>NaN</td>\n",
       "      <td>8 21 Bay 25 Street\\nFar Rockaway, NY 11691\\n(40.601989336, -73.762834323)</td>\n",
       "      <td>14.0</td>\n",
       "      <td>31.0</td>\n",
       "      <td>100802.0</td>\n",
       "      <td>4300730.0</td>\n",
       "      <td>4.157360e+09</td>\n",
       "      <td>Far Rockaway-Bayswater</td>\n",
       "    </tr>\n",
       "  </tbody>\n",
       "</table>\n",
       "<p>5 rows × 64 columns</p>\n",
       "</div>"
      ],
      "text/plain": [
       "      DBN                                               school_name  \\\n",
       "0  21K540                                    John Dewey High School   \n",
       "1  15K429                        Brooklyn School for Global Studies   \n",
       "2  24Q530  International High School at LaGuardia Community College   \n",
       "3  05M367         Academy for Social Action: A College Board School   \n",
       "4  27Q260                 Frederick Douglass Academy VI High School   \n",
       "\n",
       "     borough building_code  phone_number    fax_number  grade_span_min  \\\n",
       "0   Brooklyn          K540  718-373-6400  718-266-4385             9.0   \n",
       "1   Brooklyn          K293  718-694-9741  718-694-9745             6.0   \n",
       "2     Queens          Q520  718-392-3433  718-392-3443             9.0   \n",
       "3  Manhattan          M043  212-234-3102  212-234-8597             9.0   \n",
       "4     Queens          Q465  718-471-2154  718-471-2890             9.0   \n",
       "\n",
       "   grade_span_max  expgrade_span_min  expgrade_span_max  ... priority08  \\\n",
       "0              12                NaN                NaN  ...        NaN   \n",
       "1              12                NaN                NaN  ...        NaN   \n",
       "2              12                NaN                NaN  ...        NaN   \n",
       "3              12                NaN                NaN  ...        NaN   \n",
       "4              12                NaN                NaN  ...        NaN   \n",
       "\n",
       "  priority09 priority10  \\\n",
       "0        NaN        NaN   \n",
       "1        NaN        NaN   \n",
       "2        NaN        NaN   \n",
       "3        NaN        NaN   \n",
       "4        NaN        NaN   \n",
       "\n",
       "                                                                        Location 1  \\\n",
       "0                   50 Avenue\\nX Brooklyn, NY 11223\\n(40.589238098, -73.981746524)   \n",
       "1             284 Baltic Street\\nBrooklyn, NY 11201\\n(40.685451806, -73.993491465)   \n",
       "2  45 35 Van Dam Street\\nLong Island City, NY 11101\\n(40.744149536, -73.933626741)   \n",
       "3           509 West 129 Street\\nNew York, NY 10027\\n(40.815230365, -73.955201206)   \n",
       "4        8 21 Bay 25 Street\\nFar Rockaway, NY 11691\\n(40.601989336, -73.762834323)   \n",
       "\n",
       "  Community Board  Council District Census Tract        BIN           BBL  \\\n",
       "0            13.0              47.0        308.0  3194998.0  3.071850e+09   \n",
       "1             6.0              33.0         69.0  3006401.0  3.004020e+09   \n",
       "2             2.0              26.0        179.0  4003442.0  4.002490e+09   \n",
       "3             9.0               7.0        219.0  1059723.0  1.019840e+09   \n",
       "4            14.0              31.0     100802.0  4300730.0  4.157360e+09   \n",
       "\n",
       "                                                                           NTA  \n",
       "0  Gravesend                                                                    \n",
       "1  DUMBO-Vinegar Hill-Downtown Brooklyn-Boerum Hill                             \n",
       "2  Hunters Point-Sunnyside-West Maspeth                                         \n",
       "3  Manhattanville                                                               \n",
       "4  Far Rockaway-Bayswater                                                       \n",
       "\n",
       "[5 rows x 64 columns]"
      ]
     },
     "execution_count": 78,
     "metadata": {},
     "output_type": "execute_result"
    }
   ],
   "source": [
    "data[\"hs_directory\"].head()"
   ]
  },
  {
   "cell_type": "code",
   "execution_count": 79,
   "metadata": {},
   "outputs": [
    {
     "data": {
      "text/plain": [
       "0    50 Avenue\\nX Brooklyn, NY 11223\\n(40.589238098, -73.981746524)\n",
       "Name: Location 1, dtype: object"
      ]
     },
     "execution_count": 79,
     "metadata": {},
     "output_type": "execute_result"
    }
   ],
   "source": [
    "data[\"hs_directory\"][\"Location 1\"].head(1)"
   ]
  },
  {
   "cell_type": "code",
   "execution_count": 80,
   "metadata": {},
   "outputs": [
    {
     "data": {
      "text/plain": [
       "0                     50 Avenue\\nX Brooklyn, NY 11223\\n(40.589238098, -73.981746524)\n",
       "1               284 Baltic Street\\nBrooklyn, NY 11201\\n(40.685451806, -73.993491465)\n",
       "2    45 35 Van Dam Street\\nLong Island City, NY 11101\\n(40.744149536, -73.933626741)\n",
       "3             509 West 129 Street\\nNew York, NY 10027\\n(40.815230365, -73.955201206)\n",
       "4          8 21 Bay 25 Street\\nFar Rockaway, NY 11691\\n(40.601989336, -73.762834323)\n",
       "Name: Location 1, dtype: object"
      ]
     },
     "execution_count": 80,
     "metadata": {},
     "output_type": "execute_result"
    }
   ],
   "source": [
    "data[\"hs_directory\"][\"Location 1\"].head()"
   ]
  },
  {
   "cell_type": "code",
   "execution_count": 81,
   "metadata": {},
   "outputs": [],
   "source": [
    "s = \"(40.589238098, -73.981746524)\"\n",
    "\n",
    "p = r\"\\((.+)\\)\"\n",
    "\n",
    "# s =  50 Avenue\\nX Brooklyn, NY 11223\n",
    "\n",
    "\n",
    "\n",
    "\n",
    "\n",
    "\n",
    "\n",
    "\n",
    "\n",
    "\n",
    "p = r\"\\((.+)\\)\""
   ]
  },
  {
   "cell_type": "code",
   "execution_count": 82,
   "metadata": {},
   "outputs": [
    {
     "name": "stdout",
     "output_type": "stream",
     "text": [
      "Waqa\\ns\n"
     ]
    }
   ],
   "source": [
    "print(r\"Waqa\\ns\")"
   ]
  },
  {
   "cell_type": "code",
   "execution_count": 83,
   "metadata": {},
   "outputs": [
    {
     "name": "stdout",
     "output_type": "stream",
     "text": [
      "Waqa\\bs\n"
     ]
    }
   ],
   "source": [
    "print(r\"Waqa\\bs\")"
   ]
  },
  {
   "cell_type": "code",
   "execution_count": 84,
   "metadata": {},
   "outputs": [
    {
     "name": "stdout",
     "output_type": "stream",
     "text": [
      "Waqa\\bs\n"
     ]
    }
   ],
   "source": [
    "print(\"Waqa\\\\bs\")"
   ]
  },
  {
   "cell_type": "code",
   "execution_count": 85,
   "metadata": {},
   "outputs": [],
   "source": [
    "pattern = r\"\\((.+)\\)\"\n",
    "\n",
    "\n",
    "loc = data[\"hs_directory\"][\"Location 1\"].str.extract(pattern)[0].str.split(\",\")"
   ]
  },
  {
   "cell_type": "code",
   "execution_count": 86,
   "metadata": {},
   "outputs": [
    {
     "data": {
      "text/plain": [
       "0    [40.589238098,  -73.981746524]\n",
       "1    [40.685451806,  -73.993491465]\n",
       "2    [40.744149536,  -73.933626741]\n",
       "3    [40.815230365,  -73.955201206]\n",
       "4    [40.601989336,  -73.762834323]\n",
       "Name: 0, dtype: object"
      ]
     },
     "execution_count": 86,
     "metadata": {},
     "output_type": "execute_result"
    }
   ],
   "source": [
    "loc.head()"
   ]
  },
  {
   "cell_type": "code",
   "execution_count": 87,
   "metadata": {},
   "outputs": [],
   "source": [
    "lat = loc.str[0]\n",
    "lon = loc.str.get(1)"
   ]
  },
  {
   "cell_type": "code",
   "execution_count": 88,
   "metadata": {},
   "outputs": [
    {
     "data": {
      "text/plain": [
       "0       -73.981746524\n",
       "1       -73.993491465\n",
       "2       -73.933626741\n",
       "3       -73.955201206\n",
       "4       -73.762834323\n",
       "            ...      \n",
       "430     -73.992516578\n",
       "431     -73.910838008\n",
       "432     -73.910815939\n",
       "433     -73.983053388\n",
       "434     -73.972894492\n",
       "Name: 0, Length: 435, dtype: object"
      ]
     },
     "execution_count": 88,
     "metadata": {},
     "output_type": "execute_result"
    }
   ],
   "source": [
    "lon"
   ]
  },
  {
   "cell_type": "code",
   "execution_count": 89,
   "metadata": {},
   "outputs": [],
   "source": [
    "data[\"hs_directory\"][\"lat\"] = lat\n",
    "data[\"hs_directory\"][\"lon\"] = lon"
   ]
  },
  {
   "cell_type": "code",
   "execution_count": 90,
   "metadata": {},
   "outputs": [
    {
     "data": {
      "text/html": [
       "<div>\n",
       "<style scoped>\n",
       "    .dataframe tbody tr th:only-of-type {\n",
       "        vertical-align: middle;\n",
       "    }\n",
       "\n",
       "    .dataframe tbody tr th {\n",
       "        vertical-align: top;\n",
       "    }\n",
       "\n",
       "    .dataframe thead th {\n",
       "        text-align: right;\n",
       "    }\n",
       "</style>\n",
       "<table border=\"1\" class=\"dataframe\">\n",
       "  <thead>\n",
       "    <tr style=\"text-align: right;\">\n",
       "      <th></th>\n",
       "      <th>DBN</th>\n",
       "      <th>school_name</th>\n",
       "      <th>borough</th>\n",
       "      <th>building_code</th>\n",
       "      <th>phone_number</th>\n",
       "      <th>fax_number</th>\n",
       "      <th>grade_span_min</th>\n",
       "      <th>grade_span_max</th>\n",
       "      <th>expgrade_span_min</th>\n",
       "      <th>expgrade_span_max</th>\n",
       "      <th>...</th>\n",
       "      <th>priority10</th>\n",
       "      <th>Location 1</th>\n",
       "      <th>Community Board</th>\n",
       "      <th>Council District</th>\n",
       "      <th>Census Tract</th>\n",
       "      <th>BIN</th>\n",
       "      <th>BBL</th>\n",
       "      <th>NTA</th>\n",
       "      <th>lat</th>\n",
       "      <th>lon</th>\n",
       "    </tr>\n",
       "  </thead>\n",
       "  <tbody>\n",
       "    <tr>\n",
       "      <th>0</th>\n",
       "      <td>21K540</td>\n",
       "      <td>John Dewey High School</td>\n",
       "      <td>Brooklyn</td>\n",
       "      <td>K540</td>\n",
       "      <td>718-373-6400</td>\n",
       "      <td>718-266-4385</td>\n",
       "      <td>9.0</td>\n",
       "      <td>12</td>\n",
       "      <td>NaN</td>\n",
       "      <td>NaN</td>\n",
       "      <td>...</td>\n",
       "      <td>NaN</td>\n",
       "      <td>50 Avenue\\nX Brooklyn, NY 11223\\n(40.589238098, -73.981746524)</td>\n",
       "      <td>13.0</td>\n",
       "      <td>47.0</td>\n",
       "      <td>308.0</td>\n",
       "      <td>3194998.0</td>\n",
       "      <td>3.071850e+09</td>\n",
       "      <td>Gravesend</td>\n",
       "      <td>40.589238098</td>\n",
       "      <td>-73.981746524</td>\n",
       "    </tr>\n",
       "    <tr>\n",
       "      <th>1</th>\n",
       "      <td>15K429</td>\n",
       "      <td>Brooklyn School for Global Studies</td>\n",
       "      <td>Brooklyn</td>\n",
       "      <td>K293</td>\n",
       "      <td>718-694-9741</td>\n",
       "      <td>718-694-9745</td>\n",
       "      <td>6.0</td>\n",
       "      <td>12</td>\n",
       "      <td>NaN</td>\n",
       "      <td>NaN</td>\n",
       "      <td>...</td>\n",
       "      <td>NaN</td>\n",
       "      <td>284 Baltic Street\\nBrooklyn, NY 11201\\n(40.685451806, -73.993491465)</td>\n",
       "      <td>6.0</td>\n",
       "      <td>33.0</td>\n",
       "      <td>69.0</td>\n",
       "      <td>3006401.0</td>\n",
       "      <td>3.004020e+09</td>\n",
       "      <td>DUMBO-Vinegar Hill-Downtown Brooklyn-Boerum Hill</td>\n",
       "      <td>40.685451806</td>\n",
       "      <td>-73.993491465</td>\n",
       "    </tr>\n",
       "    <tr>\n",
       "      <th>2</th>\n",
       "      <td>24Q530</td>\n",
       "      <td>International High School at LaGuardia Community College</td>\n",
       "      <td>Queens</td>\n",
       "      <td>Q520</td>\n",
       "      <td>718-392-3433</td>\n",
       "      <td>718-392-3443</td>\n",
       "      <td>9.0</td>\n",
       "      <td>12</td>\n",
       "      <td>NaN</td>\n",
       "      <td>NaN</td>\n",
       "      <td>...</td>\n",
       "      <td>NaN</td>\n",
       "      <td>45 35 Van Dam Street\\nLong Island City, NY 11101\\n(40.744149536, -73.933626741)</td>\n",
       "      <td>2.0</td>\n",
       "      <td>26.0</td>\n",
       "      <td>179.0</td>\n",
       "      <td>4003442.0</td>\n",
       "      <td>4.002490e+09</td>\n",
       "      <td>Hunters Point-Sunnyside-West Maspeth</td>\n",
       "      <td>40.744149536</td>\n",
       "      <td>-73.933626741</td>\n",
       "    </tr>\n",
       "    <tr>\n",
       "      <th>3</th>\n",
       "      <td>05M367</td>\n",
       "      <td>Academy for Social Action: A College Board School</td>\n",
       "      <td>Manhattan</td>\n",
       "      <td>M043</td>\n",
       "      <td>212-234-3102</td>\n",
       "      <td>212-234-8597</td>\n",
       "      <td>9.0</td>\n",
       "      <td>12</td>\n",
       "      <td>NaN</td>\n",
       "      <td>NaN</td>\n",
       "      <td>...</td>\n",
       "      <td>NaN</td>\n",
       "      <td>509 West 129 Street\\nNew York, NY 10027\\n(40.815230365, -73.955201206)</td>\n",
       "      <td>9.0</td>\n",
       "      <td>7.0</td>\n",
       "      <td>219.0</td>\n",
       "      <td>1059723.0</td>\n",
       "      <td>1.019840e+09</td>\n",
       "      <td>Manhattanville</td>\n",
       "      <td>40.815230365</td>\n",
       "      <td>-73.955201206</td>\n",
       "    </tr>\n",
       "    <tr>\n",
       "      <th>4</th>\n",
       "      <td>27Q260</td>\n",
       "      <td>Frederick Douglass Academy VI High School</td>\n",
       "      <td>Queens</td>\n",
       "      <td>Q465</td>\n",
       "      <td>718-471-2154</td>\n",
       "      <td>718-471-2890</td>\n",
       "      <td>9.0</td>\n",
       "      <td>12</td>\n",
       "      <td>NaN</td>\n",
       "      <td>NaN</td>\n",
       "      <td>...</td>\n",
       "      <td>NaN</td>\n",
       "      <td>8 21 Bay 25 Street\\nFar Rockaway, NY 11691\\n(40.601989336, -73.762834323)</td>\n",
       "      <td>14.0</td>\n",
       "      <td>31.0</td>\n",
       "      <td>100802.0</td>\n",
       "      <td>4300730.0</td>\n",
       "      <td>4.157360e+09</td>\n",
       "      <td>Far Rockaway-Bayswater</td>\n",
       "      <td>40.601989336</td>\n",
       "      <td>-73.762834323</td>\n",
       "    </tr>\n",
       "  </tbody>\n",
       "</table>\n",
       "<p>5 rows × 66 columns</p>\n",
       "</div>"
      ],
      "text/plain": [
       "      DBN                                               school_name  \\\n",
       "0  21K540                                    John Dewey High School   \n",
       "1  15K429                        Brooklyn School for Global Studies   \n",
       "2  24Q530  International High School at LaGuardia Community College   \n",
       "3  05M367         Academy for Social Action: A College Board School   \n",
       "4  27Q260                 Frederick Douglass Academy VI High School   \n",
       "\n",
       "     borough building_code  phone_number    fax_number  grade_span_min  \\\n",
       "0   Brooklyn          K540  718-373-6400  718-266-4385             9.0   \n",
       "1   Brooklyn          K293  718-694-9741  718-694-9745             6.0   \n",
       "2     Queens          Q520  718-392-3433  718-392-3443             9.0   \n",
       "3  Manhattan          M043  212-234-3102  212-234-8597             9.0   \n",
       "4     Queens          Q465  718-471-2154  718-471-2890             9.0   \n",
       "\n",
       "   grade_span_max  expgrade_span_min  expgrade_span_max  ... priority10  \\\n",
       "0              12                NaN                NaN  ...        NaN   \n",
       "1              12                NaN                NaN  ...        NaN   \n",
       "2              12                NaN                NaN  ...        NaN   \n",
       "3              12                NaN                NaN  ...        NaN   \n",
       "4              12                NaN                NaN  ...        NaN   \n",
       "\n",
       "                                                                        Location 1  \\\n",
       "0                   50 Avenue\\nX Brooklyn, NY 11223\\n(40.589238098, -73.981746524)   \n",
       "1             284 Baltic Street\\nBrooklyn, NY 11201\\n(40.685451806, -73.993491465)   \n",
       "2  45 35 Van Dam Street\\nLong Island City, NY 11101\\n(40.744149536, -73.933626741)   \n",
       "3           509 West 129 Street\\nNew York, NY 10027\\n(40.815230365, -73.955201206)   \n",
       "4        8 21 Bay 25 Street\\nFar Rockaway, NY 11691\\n(40.601989336, -73.762834323)   \n",
       "\n",
       "  Community Board Council District Census Tract        BIN           BBL  \\\n",
       "0            13.0             47.0        308.0  3194998.0  3.071850e+09   \n",
       "1             6.0             33.0         69.0  3006401.0  3.004020e+09   \n",
       "2             2.0             26.0        179.0  4003442.0  4.002490e+09   \n",
       "3             9.0              7.0        219.0  1059723.0  1.019840e+09   \n",
       "4            14.0             31.0     100802.0  4300730.0  4.157360e+09   \n",
       "\n",
       "                                                                           NTA  \\\n",
       "0  Gravesend                                                                     \n",
       "1  DUMBO-Vinegar Hill-Downtown Brooklyn-Boerum Hill                              \n",
       "2  Hunters Point-Sunnyside-West Maspeth                                          \n",
       "3  Manhattanville                                                                \n",
       "4  Far Rockaway-Bayswater                                                        \n",
       "\n",
       "            lat             lon  \n",
       "0  40.589238098   -73.981746524  \n",
       "1  40.685451806   -73.993491465  \n",
       "2  40.744149536   -73.933626741  \n",
       "3  40.815230365   -73.955201206  \n",
       "4  40.601989336   -73.762834323  \n",
       "\n",
       "[5 rows x 66 columns]"
      ]
     },
     "execution_count": 90,
     "metadata": {},
     "output_type": "execute_result"
    }
   ],
   "source": [
    "data[\"hs_directory\"].head()"
   ]
  },
  {
   "cell_type": "code",
   "execution_count": 91,
   "metadata": {},
   "outputs": [
    {
     "name": "stdout",
     "output_type": "stream",
     "text": [
      "<class 'pandas.core.frame.DataFrame'>\n",
      "RangeIndex: 435 entries, 0 to 434\n",
      "Data columns (total 66 columns):\n",
      " #   Column                            Non-Null Count  Dtype  \n",
      "---  ------                            --------------  -----  \n",
      " 0   DBN                               435 non-null    object \n",
      " 1   school_name                       435 non-null    object \n",
      " 2   borough                           435 non-null    object \n",
      " 3   building_code                     435 non-null    object \n",
      " 4   phone_number                      435 non-null    object \n",
      " 5   fax_number                        423 non-null    object \n",
      " 6   grade_span_min                    432 non-null    float64\n",
      " 7   grade_span_max                    435 non-null    int64  \n",
      " 8   expgrade_span_min                 31 non-null     float64\n",
      " 9   expgrade_span_max                 33 non-null     float64\n",
      " 10  bus                               434 non-null    object \n",
      " 11  subway                            358 non-null    object \n",
      " 12  primary_address_line_1            435 non-null    object \n",
      " 13  city                              435 non-null    object \n",
      " 14  state_code                        435 non-null    object \n",
      " 15  postcode                          435 non-null    int64  \n",
      " 16  website                           430 non-null    object \n",
      " 17  total_students                    426 non-null    float64\n",
      " 18  campus_name                       217 non-null    object \n",
      " 19  school_type                       104 non-null    object \n",
      " 20  overview_paragraph                434 non-null    object \n",
      " 21  program_highlights                434 non-null    object \n",
      " 22  language_classes                  412 non-null    object \n",
      " 23  advancedplacement_courses         340 non-null    object \n",
      " 24  online_ap_courses                 64 non-null     object \n",
      " 25  online_language_courses           73 non-null     object \n",
      " 26  extracurricular_activities        435 non-null    object \n",
      " 27  psal_sports_boys                  373 non-null    object \n",
      " 28  psal_sports_girls                 373 non-null    object \n",
      " 29  psal_sports_coed                  147 non-null    object \n",
      " 30  school_sports                     297 non-null    object \n",
      " 31  partner_cbo                       354 non-null    object \n",
      " 32  partner_hospital                  196 non-null    object \n",
      " 33  partner_highered                  378 non-null    object \n",
      " 34  partner_cultural                  305 non-null    object \n",
      " 35  partner_nonprofit                 297 non-null    object \n",
      " 36  partner_corporate                 198 non-null    object \n",
      " 37  partner_financial                 72 non-null     object \n",
      " 38  partner_other                     188 non-null    object \n",
      " 39  addtl_info1                       354 non-null    object \n",
      " 40  addtl_info2                       229 non-null    object \n",
      " 41  start_time                        431 non-null    object \n",
      " 42  end_time                          431 non-null    object \n",
      " 43  se_services                       435 non-null    object \n",
      " 44  ell_programs                      435 non-null    object \n",
      " 45  school_accessibility_description  435 non-null    object \n",
      " 46  number_programs                   435 non-null    int64  \n",
      " 47  priority01                        435 non-null    object \n",
      " 48  priority02                        352 non-null    object \n",
      " 49  priority03                        243 non-null    object \n",
      " 50  priority04                        177 non-null    object \n",
      " 51  priority05                        39 non-null     object \n",
      " 52  priority06                        17 non-null     object \n",
      " 53  priority07                        4 non-null      object \n",
      " 54  priority08                        1 non-null      object \n",
      " 55  priority09                        1 non-null      object \n",
      " 56  priority10                        1 non-null      object \n",
      " 57  Location 1                        435 non-null    object \n",
      " 58  Community Board                   432 non-null    float64\n",
      " 59  Council District                  432 non-null    float64\n",
      " 60  Census Tract                      432 non-null    float64\n",
      " 61  BIN                               431 non-null    float64\n",
      " 62  BBL                               431 non-null    float64\n",
      " 63  NTA                               432 non-null    object \n",
      " 64  lat                               435 non-null    object \n",
      " 65  lon                               435 non-null    object \n",
      "dtypes: float64(9), int64(3), object(54)\n",
      "memory usage: 224.4+ KB\n"
     ]
    }
   ],
   "source": [
    "data[\"hs_directory\"].info()"
   ]
  },
  {
   "cell_type": "code",
   "execution_count": 92,
   "metadata": {},
   "outputs": [],
   "source": [
    "data[\"hs_directory\"][\"lat\"] = data[\"hs_directory\"][\"lat\"].astype(float)\n",
    "data[\"hs_directory\"][\"lon\"] = data[\"hs_directory\"][\"lon\"] .astype(float)"
   ]
  },
  {
   "cell_type": "code",
   "execution_count": 93,
   "metadata": {},
   "outputs": [
    {
     "data": {
      "text/plain": [
       "dict_keys(['ap_2010', 'class_size', 'demographics', 'graduation', 'hs_directory', 'sat_results', 'survey'])"
      ]
     },
     "execution_count": 93,
     "metadata": {},
     "output_type": "execute_result"
    }
   ],
   "source": [
    "data.keys()"
   ]
  },
  {
   "cell_type": "code",
   "execution_count": 94,
   "metadata": {},
   "outputs": [
    {
     "data": {
      "text/html": [
       "<div>\n",
       "<style scoped>\n",
       "    .dataframe tbody tr th:only-of-type {\n",
       "        vertical-align: middle;\n",
       "    }\n",
       "\n",
       "    .dataframe tbody tr th {\n",
       "        vertical-align: top;\n",
       "    }\n",
       "\n",
       "    .dataframe thead th {\n",
       "        text-align: right;\n",
       "    }\n",
       "</style>\n",
       "<table border=\"1\" class=\"dataframe\">\n",
       "  <thead>\n",
       "    <tr style=\"text-align: right;\">\n",
       "      <th></th>\n",
       "      <th>DBN</th>\n",
       "      <th>SCHOOL NAME</th>\n",
       "      <th>Num of SAT Test Takers</th>\n",
       "      <th>SAT Critical Reading Avg. Score</th>\n",
       "      <th>SAT Math Avg. Score</th>\n",
       "      <th>SAT Writing Avg. Score</th>\n",
       "    </tr>\n",
       "  </thead>\n",
       "  <tbody>\n",
       "    <tr>\n",
       "      <th>0</th>\n",
       "      <td>01M292</td>\n",
       "      <td>HENRY STREET SCHOOL FOR INTERNATIONAL STUDIES</td>\n",
       "      <td>29</td>\n",
       "      <td>355</td>\n",
       "      <td>404</td>\n",
       "      <td>363</td>\n",
       "    </tr>\n",
       "    <tr>\n",
       "      <th>1</th>\n",
       "      <td>01M448</td>\n",
       "      <td>UNIVERSITY NEIGHBORHOOD HIGH SCHOOL</td>\n",
       "      <td>91</td>\n",
       "      <td>383</td>\n",
       "      <td>423</td>\n",
       "      <td>366</td>\n",
       "    </tr>\n",
       "    <tr>\n",
       "      <th>2</th>\n",
       "      <td>01M450</td>\n",
       "      <td>EAST SIDE COMMUNITY SCHOOL</td>\n",
       "      <td>70</td>\n",
       "      <td>377</td>\n",
       "      <td>402</td>\n",
       "      <td>370</td>\n",
       "    </tr>\n",
       "    <tr>\n",
       "      <th>3</th>\n",
       "      <td>01M458</td>\n",
       "      <td>FORSYTH SATELLITE ACADEMY</td>\n",
       "      <td>7</td>\n",
       "      <td>414</td>\n",
       "      <td>401</td>\n",
       "      <td>359</td>\n",
       "    </tr>\n",
       "    <tr>\n",
       "      <th>4</th>\n",
       "      <td>01M509</td>\n",
       "      <td>MARTA VALLE HIGH SCHOOL</td>\n",
       "      <td>44</td>\n",
       "      <td>390</td>\n",
       "      <td>433</td>\n",
       "      <td>384</td>\n",
       "    </tr>\n",
       "  </tbody>\n",
       "</table>\n",
       "</div>"
      ],
      "text/plain": [
       "      DBN                                    SCHOOL NAME  \\\n",
       "0  01M292  HENRY STREET SCHOOL FOR INTERNATIONAL STUDIES   \n",
       "1  01M448            UNIVERSITY NEIGHBORHOOD HIGH SCHOOL   \n",
       "2  01M450                     EAST SIDE COMMUNITY SCHOOL   \n",
       "3  01M458                      FORSYTH SATELLITE ACADEMY   \n",
       "4  01M509                        MARTA VALLE HIGH SCHOOL   \n",
       "\n",
       "  Num of SAT Test Takers SAT Critical Reading Avg. Score SAT Math Avg. Score  \\\n",
       "0                     29                             355                 404   \n",
       "1                     91                             383                 423   \n",
       "2                     70                             377                 402   \n",
       "3                      7                             414                 401   \n",
       "4                     44                             390                 433   \n",
       "\n",
       "  SAT Writing Avg. Score  \n",
       "0                    363  \n",
       "1                    366  \n",
       "2                    370  \n",
       "3                    359  \n",
       "4                    384  "
      ]
     },
     "execution_count": 94,
     "metadata": {},
     "output_type": "execute_result"
    }
   ],
   "source": [
    "data['sat_results'].head()"
   ]
  },
  {
   "cell_type": "code",
   "execution_count": 95,
   "metadata": {},
   "outputs": [
    {
     "name": "stdout",
     "output_type": "stream",
     "text": [
      "<class 'pandas.core.frame.DataFrame'>\n",
      "RangeIndex: 478 entries, 0 to 477\n",
      "Data columns (total 6 columns):\n",
      " #   Column                           Non-Null Count  Dtype \n",
      "---  ------                           --------------  ----- \n",
      " 0   DBN                              478 non-null    object\n",
      " 1   SCHOOL NAME                      478 non-null    object\n",
      " 2   Num of SAT Test Takers           478 non-null    object\n",
      " 3   SAT Critical Reading Avg. Score  478 non-null    object\n",
      " 4   SAT Math Avg. Score              478 non-null    object\n",
      " 5   SAT Writing Avg. Score           478 non-null    object\n",
      "dtypes: object(6)\n",
      "memory usage: 22.5+ KB\n"
     ]
    }
   ],
   "source": [
    "data['sat_results'].info()"
   ]
  },
  {
   "cell_type": "code",
   "execution_count": 96,
   "metadata": {},
   "outputs": [
    {
     "data": {
      "text/plain": [
       "Index(['DBN', 'SCHOOL NAME', 'Num of SAT Test Takers',\n",
       "       'SAT Critical Reading Avg. Score', 'SAT Math Avg. Score',\n",
       "       'SAT Writing Avg. Score'],\n",
       "      dtype='object')"
      ]
     },
     "execution_count": 96,
     "metadata": {},
     "output_type": "execute_result"
    }
   ],
   "source": [
    "data['sat_results'].columns"
   ]
  },
  {
   "cell_type": "code",
   "execution_count": 98,
   "metadata": {},
   "outputs": [
    {
     "ename": "ValueError",
     "evalue": "could not convert string to float: ''",
     "output_type": "error",
     "traceback": [
      "\u001b[1;31m---------------------------------------------------------------------------\u001b[0m",
      "\u001b[1;31mValueError\u001b[0m                                Traceback (most recent call last)",
      "\u001b[1;32m<ipython-input-98-3ce8da34df36>\u001b[0m in \u001b[0;36m<module>\u001b[1;34m\u001b[0m\n\u001b[0;32m      3\u001b[0m \u001b[1;33m\u001b[0m\u001b[0m\n\u001b[0;32m      4\u001b[0m \u001b[1;32mfor\u001b[0m \u001b[0mc\u001b[0m \u001b[1;32min\u001b[0m \u001b[0mcol\u001b[0m\u001b[1;33m:\u001b[0m\u001b[1;33m\u001b[0m\u001b[1;33m\u001b[0m\u001b[0m\n\u001b[1;32m----> 5\u001b[1;33m     \u001b[0mdata\u001b[0m\u001b[1;33m[\u001b[0m\u001b[1;34m'sat_results'\u001b[0m\u001b[1;33m]\u001b[0m\u001b[1;33m[\u001b[0m\u001b[0mc\u001b[0m\u001b[1;33m]\u001b[0m \u001b[1;33m=\u001b[0m \u001b[0mdata\u001b[0m\u001b[1;33m[\u001b[0m\u001b[1;34m'sat_results'\u001b[0m\u001b[1;33m]\u001b[0m\u001b[1;33m[\u001b[0m\u001b[0mc\u001b[0m\u001b[1;33m]\u001b[0m\u001b[1;33m.\u001b[0m\u001b[0mstr\u001b[0m\u001b[1;33m.\u001b[0m\u001b[0mreplace\u001b[0m\u001b[1;33m(\u001b[0m\u001b[1;34m\"s\"\u001b[0m\u001b[1;33m,\u001b[0m\u001b[1;34m\"\"\u001b[0m\u001b[1;33m)\u001b[0m\u001b[1;33m.\u001b[0m\u001b[0mastype\u001b[0m\u001b[1;33m(\u001b[0m\u001b[0mfloat\u001b[0m\u001b[1;33m)\u001b[0m\u001b[1;33m\u001b[0m\u001b[1;33m\u001b[0m\u001b[0m\n\u001b[0m",
      "\u001b[1;32mC:\\ProgramData\\Anaconda3\\lib\\site-packages\\pandas\\core\\generic.py\u001b[0m in \u001b[0;36mastype\u001b[1;34m(self, dtype, copy, errors)\u001b[0m\n\u001b[0;32m   5696\u001b[0m         \u001b[1;32melse\u001b[0m\u001b[1;33m:\u001b[0m\u001b[1;33m\u001b[0m\u001b[1;33m\u001b[0m\u001b[0m\n\u001b[0;32m   5697\u001b[0m             \u001b[1;31m# else, only a single dtype is given\u001b[0m\u001b[1;33m\u001b[0m\u001b[1;33m\u001b[0m\u001b[1;33m\u001b[0m\u001b[0m\n\u001b[1;32m-> 5698\u001b[1;33m             \u001b[0mnew_data\u001b[0m \u001b[1;33m=\u001b[0m \u001b[0mself\u001b[0m\u001b[1;33m.\u001b[0m\u001b[0m_data\u001b[0m\u001b[1;33m.\u001b[0m\u001b[0mastype\u001b[0m\u001b[1;33m(\u001b[0m\u001b[0mdtype\u001b[0m\u001b[1;33m=\u001b[0m\u001b[0mdtype\u001b[0m\u001b[1;33m,\u001b[0m \u001b[0mcopy\u001b[0m\u001b[1;33m=\u001b[0m\u001b[0mcopy\u001b[0m\u001b[1;33m,\u001b[0m \u001b[0merrors\u001b[0m\u001b[1;33m=\u001b[0m\u001b[0merrors\u001b[0m\u001b[1;33m)\u001b[0m\u001b[1;33m\u001b[0m\u001b[1;33m\u001b[0m\u001b[0m\n\u001b[0m\u001b[0;32m   5699\u001b[0m             \u001b[1;32mreturn\u001b[0m \u001b[0mself\u001b[0m\u001b[1;33m.\u001b[0m\u001b[0m_constructor\u001b[0m\u001b[1;33m(\u001b[0m\u001b[0mnew_data\u001b[0m\u001b[1;33m)\u001b[0m\u001b[1;33m.\u001b[0m\u001b[0m__finalize__\u001b[0m\u001b[1;33m(\u001b[0m\u001b[0mself\u001b[0m\u001b[1;33m)\u001b[0m\u001b[1;33m\u001b[0m\u001b[1;33m\u001b[0m\u001b[0m\n\u001b[0;32m   5700\u001b[0m \u001b[1;33m\u001b[0m\u001b[0m\n",
      "\u001b[1;32mC:\\ProgramData\\Anaconda3\\lib\\site-packages\\pandas\\core\\internals\\managers.py\u001b[0m in \u001b[0;36mastype\u001b[1;34m(self, dtype, copy, errors)\u001b[0m\n\u001b[0;32m    580\u001b[0m \u001b[1;33m\u001b[0m\u001b[0m\n\u001b[0;32m    581\u001b[0m     \u001b[1;32mdef\u001b[0m \u001b[0mastype\u001b[0m\u001b[1;33m(\u001b[0m\u001b[0mself\u001b[0m\u001b[1;33m,\u001b[0m \u001b[0mdtype\u001b[0m\u001b[1;33m,\u001b[0m \u001b[0mcopy\u001b[0m\u001b[1;33m:\u001b[0m \u001b[0mbool\u001b[0m \u001b[1;33m=\u001b[0m \u001b[1;32mFalse\u001b[0m\u001b[1;33m,\u001b[0m \u001b[0merrors\u001b[0m\u001b[1;33m:\u001b[0m \u001b[0mstr\u001b[0m \u001b[1;33m=\u001b[0m \u001b[1;34m\"raise\"\u001b[0m\u001b[1;33m)\u001b[0m\u001b[1;33m:\u001b[0m\u001b[1;33m\u001b[0m\u001b[1;33m\u001b[0m\u001b[0m\n\u001b[1;32m--> 582\u001b[1;33m         \u001b[1;32mreturn\u001b[0m \u001b[0mself\u001b[0m\u001b[1;33m.\u001b[0m\u001b[0mapply\u001b[0m\u001b[1;33m(\u001b[0m\u001b[1;34m\"astype\"\u001b[0m\u001b[1;33m,\u001b[0m \u001b[0mdtype\u001b[0m\u001b[1;33m=\u001b[0m\u001b[0mdtype\u001b[0m\u001b[1;33m,\u001b[0m \u001b[0mcopy\u001b[0m\u001b[1;33m=\u001b[0m\u001b[0mcopy\u001b[0m\u001b[1;33m,\u001b[0m \u001b[0merrors\u001b[0m\u001b[1;33m=\u001b[0m\u001b[0merrors\u001b[0m\u001b[1;33m)\u001b[0m\u001b[1;33m\u001b[0m\u001b[1;33m\u001b[0m\u001b[0m\n\u001b[0m\u001b[0;32m    583\u001b[0m \u001b[1;33m\u001b[0m\u001b[0m\n\u001b[0;32m    584\u001b[0m     \u001b[1;32mdef\u001b[0m \u001b[0mconvert\u001b[0m\u001b[1;33m(\u001b[0m\u001b[0mself\u001b[0m\u001b[1;33m,\u001b[0m \u001b[1;33m**\u001b[0m\u001b[0mkwargs\u001b[0m\u001b[1;33m)\u001b[0m\u001b[1;33m:\u001b[0m\u001b[1;33m\u001b[0m\u001b[1;33m\u001b[0m\u001b[0m\n",
      "\u001b[1;32mC:\\ProgramData\\Anaconda3\\lib\\site-packages\\pandas\\core\\internals\\managers.py\u001b[0m in \u001b[0;36mapply\u001b[1;34m(self, f, filter, **kwargs)\u001b[0m\n\u001b[0;32m    440\u001b[0m                 \u001b[0mapplied\u001b[0m \u001b[1;33m=\u001b[0m \u001b[0mb\u001b[0m\u001b[1;33m.\u001b[0m\u001b[0mapply\u001b[0m\u001b[1;33m(\u001b[0m\u001b[0mf\u001b[0m\u001b[1;33m,\u001b[0m \u001b[1;33m**\u001b[0m\u001b[0mkwargs\u001b[0m\u001b[1;33m)\u001b[0m\u001b[1;33m\u001b[0m\u001b[1;33m\u001b[0m\u001b[0m\n\u001b[0;32m    441\u001b[0m             \u001b[1;32melse\u001b[0m\u001b[1;33m:\u001b[0m\u001b[1;33m\u001b[0m\u001b[1;33m\u001b[0m\u001b[0m\n\u001b[1;32m--> 442\u001b[1;33m                 \u001b[0mapplied\u001b[0m \u001b[1;33m=\u001b[0m \u001b[0mgetattr\u001b[0m\u001b[1;33m(\u001b[0m\u001b[0mb\u001b[0m\u001b[1;33m,\u001b[0m \u001b[0mf\u001b[0m\u001b[1;33m)\u001b[0m\u001b[1;33m(\u001b[0m\u001b[1;33m**\u001b[0m\u001b[0mkwargs\u001b[0m\u001b[1;33m)\u001b[0m\u001b[1;33m\u001b[0m\u001b[1;33m\u001b[0m\u001b[0m\n\u001b[0m\u001b[0;32m    443\u001b[0m             \u001b[0mresult_blocks\u001b[0m \u001b[1;33m=\u001b[0m \u001b[0m_extend_blocks\u001b[0m\u001b[1;33m(\u001b[0m\u001b[0mapplied\u001b[0m\u001b[1;33m,\u001b[0m \u001b[0mresult_blocks\u001b[0m\u001b[1;33m)\u001b[0m\u001b[1;33m\u001b[0m\u001b[1;33m\u001b[0m\u001b[0m\n\u001b[0;32m    444\u001b[0m \u001b[1;33m\u001b[0m\u001b[0m\n",
      "\u001b[1;32mC:\\ProgramData\\Anaconda3\\lib\\site-packages\\pandas\\core\\internals\\blocks.py\u001b[0m in \u001b[0;36mastype\u001b[1;34m(self, dtype, copy, errors)\u001b[0m\n\u001b[0;32m    623\u001b[0m             \u001b[0mvals1d\u001b[0m \u001b[1;33m=\u001b[0m \u001b[0mvalues\u001b[0m\u001b[1;33m.\u001b[0m\u001b[0mravel\u001b[0m\u001b[1;33m(\u001b[0m\u001b[1;33m)\u001b[0m\u001b[1;33m\u001b[0m\u001b[1;33m\u001b[0m\u001b[0m\n\u001b[0;32m    624\u001b[0m             \u001b[1;32mtry\u001b[0m\u001b[1;33m:\u001b[0m\u001b[1;33m\u001b[0m\u001b[1;33m\u001b[0m\u001b[0m\n\u001b[1;32m--> 625\u001b[1;33m                 \u001b[0mvalues\u001b[0m \u001b[1;33m=\u001b[0m \u001b[0mastype_nansafe\u001b[0m\u001b[1;33m(\u001b[0m\u001b[0mvals1d\u001b[0m\u001b[1;33m,\u001b[0m \u001b[0mdtype\u001b[0m\u001b[1;33m,\u001b[0m \u001b[0mcopy\u001b[0m\u001b[1;33m=\u001b[0m\u001b[1;32mTrue\u001b[0m\u001b[1;33m)\u001b[0m\u001b[1;33m\u001b[0m\u001b[1;33m\u001b[0m\u001b[0m\n\u001b[0m\u001b[0;32m    626\u001b[0m             \u001b[1;32mexcept\u001b[0m \u001b[1;33m(\u001b[0m\u001b[0mValueError\u001b[0m\u001b[1;33m,\u001b[0m \u001b[0mTypeError\u001b[0m\u001b[1;33m)\u001b[0m\u001b[1;33m:\u001b[0m\u001b[1;33m\u001b[0m\u001b[1;33m\u001b[0m\u001b[0m\n\u001b[0;32m    627\u001b[0m                 \u001b[1;31m# e.g. astype_nansafe can fail on object-dtype of strings\u001b[0m\u001b[1;33m\u001b[0m\u001b[1;33m\u001b[0m\u001b[1;33m\u001b[0m\u001b[0m\n",
      "\u001b[1;32mC:\\ProgramData\\Anaconda3\\lib\\site-packages\\pandas\\core\\dtypes\\cast.py\u001b[0m in \u001b[0;36mastype_nansafe\u001b[1;34m(arr, dtype, copy, skipna)\u001b[0m\n\u001b[0;32m    895\u001b[0m     \u001b[1;32mif\u001b[0m \u001b[0mcopy\u001b[0m \u001b[1;32mor\u001b[0m \u001b[0mis_object_dtype\u001b[0m\u001b[1;33m(\u001b[0m\u001b[0marr\u001b[0m\u001b[1;33m)\u001b[0m \u001b[1;32mor\u001b[0m \u001b[0mis_object_dtype\u001b[0m\u001b[1;33m(\u001b[0m\u001b[0mdtype\u001b[0m\u001b[1;33m)\u001b[0m\u001b[1;33m:\u001b[0m\u001b[1;33m\u001b[0m\u001b[1;33m\u001b[0m\u001b[0m\n\u001b[0;32m    896\u001b[0m         \u001b[1;31m# Explicit copy, or required since NumPy can't view from / to object.\u001b[0m\u001b[1;33m\u001b[0m\u001b[1;33m\u001b[0m\u001b[1;33m\u001b[0m\u001b[0m\n\u001b[1;32m--> 897\u001b[1;33m         \u001b[1;32mreturn\u001b[0m \u001b[0marr\u001b[0m\u001b[1;33m.\u001b[0m\u001b[0mastype\u001b[0m\u001b[1;33m(\u001b[0m\u001b[0mdtype\u001b[0m\u001b[1;33m,\u001b[0m \u001b[0mcopy\u001b[0m\u001b[1;33m=\u001b[0m\u001b[1;32mTrue\u001b[0m\u001b[1;33m)\u001b[0m\u001b[1;33m\u001b[0m\u001b[1;33m\u001b[0m\u001b[0m\n\u001b[0m\u001b[0;32m    898\u001b[0m \u001b[1;33m\u001b[0m\u001b[0m\n\u001b[0;32m    899\u001b[0m     \u001b[1;32mreturn\u001b[0m \u001b[0marr\u001b[0m\u001b[1;33m.\u001b[0m\u001b[0mview\u001b[0m\u001b[1;33m(\u001b[0m\u001b[0mdtype\u001b[0m\u001b[1;33m)\u001b[0m\u001b[1;33m\u001b[0m\u001b[1;33m\u001b[0m\u001b[0m\n",
      "\u001b[1;31mValueError\u001b[0m: could not convert string to float: ''"
     ]
    }
   ],
   "source": [
    "col = ['SAT Critical Reading Avg. Score', 'SAT Math Avg. Score',\n",
    "       'SAT Writing Avg. Score']\n",
    "\n",
    "for c in col:\n",
    "    data['sat_results'][c] = data['sat_results'][c].str.replace(\"s\",\"\").astype(float)"
   ]
  },
  {
   "cell_type": "code",
   "execution_count": 99,
   "metadata": {},
   "outputs": [],
   "source": [
    "# col = ['SAT Critical Reading Avg. Score', 'SAT Math Avg. Score',\n",
    "#        'SAT Writing Avg. Score']\n",
    "\n",
    "# for c in col:\n",
    "#     data['sat_results'][c] = pd.to_numeric(data['sat_results'][c], errors = \"coerce\")"
   ]
  },
  {
   "cell_type": "code",
   "execution_count": 100,
   "metadata": {},
   "outputs": [
    {
     "name": "stdout",
     "output_type": "stream",
     "text": [
      "<class 'pandas.core.frame.DataFrame'>\n",
      "RangeIndex: 478 entries, 0 to 477\n",
      "Data columns (total 6 columns):\n",
      " #   Column                           Non-Null Count  Dtype \n",
      "---  ------                           --------------  ----- \n",
      " 0   DBN                              478 non-null    object\n",
      " 1   SCHOOL NAME                      478 non-null    object\n",
      " 2   Num of SAT Test Takers           478 non-null    object\n",
      " 3   SAT Critical Reading Avg. Score  478 non-null    object\n",
      " 4   SAT Math Avg. Score              478 non-null    object\n",
      " 5   SAT Writing Avg. Score           478 non-null    object\n",
      "dtypes: object(6)\n",
      "memory usage: 22.5+ KB\n"
     ]
    }
   ],
   "source": [
    "data['sat_results'].info()"
   ]
  },
  {
   "cell_type": "code",
   "execution_count": null,
   "metadata": {},
   "outputs": [],
   "source": [
    "import numpy as np"
   ]
  },
  {
   "cell_type": "code",
   "execution_count": null,
   "metadata": {},
   "outputs": [],
   "source": [
    "# col = ['SAT Critical Reading Avg. Score', 'SAT Math Avg. Score',\n",
    "#        'SAT Writing Avg. Score']\n",
    "\n",
    "# for c in col:\n",
    "#     data['sat_results'][c] = data['sat_results'][c].str.replace(\"s\",\"\")\n",
    "#     data['sat_results'][c] = data['sat_results'][c].str.replace(\"\",\"0\").str.replace(\" \",\"0\").astype(float)"
   ]
  },
  {
   "cell_type": "code",
   "execution_count": 111,
   "metadata": {},
   "outputs": [
    {
     "data": {
      "text/plain": [
       "0      355.0\n",
       "1      383.0\n",
       "2      377.0\n",
       "3      414.0\n",
       "4      390.0\n",
       "       ...  \n",
       "473      0.0\n",
       "474      0.0\n",
       "475      0.0\n",
       "476    496.0\n",
       "477    367.0\n",
       "Name: SAT Critical Reading Avg. Score, Length: 478, dtype: float64"
      ]
     },
     "execution_count": 111,
     "metadata": {},
     "output_type": "execute_result"
    }
   ],
   "source": [
    "data['sat_results']['SAT Critical Reading Avg. Score'].str.strip().str.replace(\"s\",\"0\").astype(float)"
   ]
  },
  {
   "cell_type": "code",
   "execution_count": 112,
   "metadata": {},
   "outputs": [],
   "source": [
    "col = ['SAT Critical Reading Avg. Score', 'SAT Math Avg. Score',\n",
    "       'SAT Writing Avg. Score']\n",
    "\n",
    "for c in col:\n",
    "    data['sat_results'][c] = data['sat_results'][c].str.replace(\"s\",\"0\").astype(float)"
   ]
  },
  {
   "cell_type": "code",
   "execution_count": 113,
   "metadata": {},
   "outputs": [
    {
     "name": "stdout",
     "output_type": "stream",
     "text": [
      "<class 'pandas.core.frame.DataFrame'>\n",
      "RangeIndex: 478 entries, 0 to 477\n",
      "Data columns (total 6 columns):\n",
      " #   Column                           Non-Null Count  Dtype  \n",
      "---  ------                           --------------  -----  \n",
      " 0   DBN                              478 non-null    object \n",
      " 1   SCHOOL NAME                      478 non-null    object \n",
      " 2   Num of SAT Test Takers           478 non-null    object \n",
      " 3   SAT Critical Reading Avg. Score  478 non-null    float64\n",
      " 4   SAT Math Avg. Score              478 non-null    float64\n",
      " 5   SAT Writing Avg. Score           478 non-null    float64\n",
      "dtypes: float64(3), object(3)\n",
      "memory usage: 22.5+ KB\n"
     ]
    }
   ],
   "source": [
    "data['sat_results'].info()"
   ]
  },
  {
   "cell_type": "code",
   "execution_count": 117,
   "metadata": {},
   "outputs": [],
   "source": [
    "data['sat_results'][\"sat_score\"] = data['sat_results'][col].sum(axis = 1)"
   ]
  },
  {
   "cell_type": "code",
   "execution_count": 118,
   "metadata": {},
   "outputs": [
    {
     "data": {
      "text/html": [
       "<div>\n",
       "<style scoped>\n",
       "    .dataframe tbody tr th:only-of-type {\n",
       "        vertical-align: middle;\n",
       "    }\n",
       "\n",
       "    .dataframe tbody tr th {\n",
       "        vertical-align: top;\n",
       "    }\n",
       "\n",
       "    .dataframe thead th {\n",
       "        text-align: right;\n",
       "    }\n",
       "</style>\n",
       "<table border=\"1\" class=\"dataframe\">\n",
       "  <thead>\n",
       "    <tr style=\"text-align: right;\">\n",
       "      <th></th>\n",
       "      <th>DBN</th>\n",
       "      <th>SCHOOL NAME</th>\n",
       "      <th>Num of SAT Test Takers</th>\n",
       "      <th>SAT Critical Reading Avg. Score</th>\n",
       "      <th>SAT Math Avg. Score</th>\n",
       "      <th>SAT Writing Avg. Score</th>\n",
       "      <th>sat_score</th>\n",
       "    </tr>\n",
       "  </thead>\n",
       "  <tbody>\n",
       "    <tr>\n",
       "      <th>0</th>\n",
       "      <td>01M292</td>\n",
       "      <td>HENRY STREET SCHOOL FOR INTERNATIONAL STUDIES</td>\n",
       "      <td>29</td>\n",
       "      <td>355.0</td>\n",
       "      <td>404.0</td>\n",
       "      <td>363.0</td>\n",
       "      <td>1122.0</td>\n",
       "    </tr>\n",
       "    <tr>\n",
       "      <th>1</th>\n",
       "      <td>01M448</td>\n",
       "      <td>UNIVERSITY NEIGHBORHOOD HIGH SCHOOL</td>\n",
       "      <td>91</td>\n",
       "      <td>383.0</td>\n",
       "      <td>423.0</td>\n",
       "      <td>366.0</td>\n",
       "      <td>1172.0</td>\n",
       "    </tr>\n",
       "    <tr>\n",
       "      <th>2</th>\n",
       "      <td>01M450</td>\n",
       "      <td>EAST SIDE COMMUNITY SCHOOL</td>\n",
       "      <td>70</td>\n",
       "      <td>377.0</td>\n",
       "      <td>402.0</td>\n",
       "      <td>370.0</td>\n",
       "      <td>1149.0</td>\n",
       "    </tr>\n",
       "    <tr>\n",
       "      <th>3</th>\n",
       "      <td>01M458</td>\n",
       "      <td>FORSYTH SATELLITE ACADEMY</td>\n",
       "      <td>7</td>\n",
       "      <td>414.0</td>\n",
       "      <td>401.0</td>\n",
       "      <td>359.0</td>\n",
       "      <td>1174.0</td>\n",
       "    </tr>\n",
       "    <tr>\n",
       "      <th>4</th>\n",
       "      <td>01M509</td>\n",
       "      <td>MARTA VALLE HIGH SCHOOL</td>\n",
       "      <td>44</td>\n",
       "      <td>390.0</td>\n",
       "      <td>433.0</td>\n",
       "      <td>384.0</td>\n",
       "      <td>1207.0</td>\n",
       "    </tr>\n",
       "  </tbody>\n",
       "</table>\n",
       "</div>"
      ],
      "text/plain": [
       "      DBN                                    SCHOOL NAME  \\\n",
       "0  01M292  HENRY STREET SCHOOL FOR INTERNATIONAL STUDIES   \n",
       "1  01M448            UNIVERSITY NEIGHBORHOOD HIGH SCHOOL   \n",
       "2  01M450                     EAST SIDE COMMUNITY SCHOOL   \n",
       "3  01M458                      FORSYTH SATELLITE ACADEMY   \n",
       "4  01M509                        MARTA VALLE HIGH SCHOOL   \n",
       "\n",
       "  Num of SAT Test Takers  SAT Critical Reading Avg. Score  \\\n",
       "0                     29                            355.0   \n",
       "1                     91                            383.0   \n",
       "2                     70                            377.0   \n",
       "3                      7                            414.0   \n",
       "4                     44                            390.0   \n",
       "\n",
       "   SAT Math Avg. Score  SAT Writing Avg. Score  sat_score  \n",
       "0                404.0                   363.0     1122.0  \n",
       "1                423.0                   366.0     1172.0  \n",
       "2                402.0                   370.0     1149.0  \n",
       "3                401.0                   359.0     1174.0  \n",
       "4                433.0                   384.0     1207.0  "
      ]
     },
     "execution_count": 118,
     "metadata": {},
     "output_type": "execute_result"
    }
   ],
   "source": [
    "data['sat_results'].head()"
   ]
  },
  {
   "cell_type": "code",
   "execution_count": 120,
   "metadata": {},
   "outputs": [],
   "source": [
    "combined = pd.merge(left =data[\"sat_results\"], right = data[\"ap_2010\"] , on = \"DBN\", how = \"left\")"
   ]
  },
  {
   "cell_type": "code",
   "execution_count": 121,
   "metadata": {},
   "outputs": [],
   "source": [
    "combined = pd.merge(left =combined, right = data[\"graduation\"] , on = \"DBN\", how = \"left\")"
   ]
  },
  {
   "cell_type": "code",
   "execution_count": 122,
   "metadata": {},
   "outputs": [
    {
     "data": {
      "text/plain": [
       "dict_keys(['ap_2010', 'class_size', 'demographics', 'graduation', 'hs_directory', 'sat_results', 'survey'])"
      ]
     },
     "execution_count": 122,
     "metadata": {},
     "output_type": "execute_result"
    }
   ],
   "source": [
    "data.keys()"
   ]
  },
  {
   "cell_type": "code",
   "execution_count": 123,
   "metadata": {},
   "outputs": [],
   "source": [
    "m = ['class_size', 'demographics', 'hs_directory', 'survey']\n",
    "\n",
    "\n",
    "for k in m:\n",
    "    combined = pd.merge(left =combined, right = data[k] , on = \"DBN\", how = \"inner\")"
   ]
  },
  {
   "cell_type": "code",
   "execution_count": 124,
   "metadata": {},
   "outputs": [
    {
     "data": {
      "text/plain": [
       "(362, 163)"
      ]
     },
     "execution_count": 124,
     "metadata": {},
     "output_type": "execute_result"
    }
   ],
   "source": [
    "combined.shape"
   ]
  },
  {
   "cell_type": "code",
   "execution_count": 126,
   "metadata": {},
   "outputs": [
    {
     "data": {
      "text/plain": [
       "DBN                                0\n",
       "SCHOOL NAME                        0\n",
       "Num of SAT Test Takers             0\n",
       "SAT Critical Reading Avg. Score    0\n",
       "SAT Math Avg. Score                0\n",
       "                                  ..\n",
       "aca_s_11                           3\n",
       "saf_tot_11                         0\n",
       "com_tot_11                         0\n",
       "eng_tot_11                         0\n",
       "aca_tot_11                         0\n",
       "Length: 163, dtype: int64"
      ]
     },
     "execution_count": 126,
     "metadata": {},
     "output_type": "execute_result"
    }
   ],
   "source": [
    "combined.isnull().sum()"
   ]
  },
  {
   "cell_type": "code",
   "execution_count": 131,
   "metadata": {},
   "outputs": [
    {
     "data": {
      "text/plain": [
       "(86,)"
      ]
     },
     "execution_count": 131,
     "metadata": {},
     "output_type": "execute_result"
    }
   ],
   "source": [
    "mean = combined.mean()\n",
    "mean.shape"
   ]
  },
  {
   "cell_type": "code",
   "execution_count": 129,
   "metadata": {},
   "outputs": [],
   "source": [
    "combined.fillna(mean, inplace = True)"
   ]
  },
  {
   "cell_type": "code",
   "execution_count": 130,
   "metadata": {},
   "outputs": [],
   "source": [
    "combined.fillna(0, inplace = True)"
   ]
  },
  {
   "cell_type": "code",
   "execution_count": 134,
   "metadata": {},
   "outputs": [],
   "source": [
    "pd.options.display.max_rows = None"
   ]
  },
  {
   "cell_type": "code",
   "execution_count": 135,
   "metadata": {},
   "outputs": [
    {
     "data": {
      "text/plain": [
       "SAT Critical Reading Avg. Score         0.996986\n",
       "SAT Math Avg. Score                     0.993140\n",
       "SAT Writing Avg. Score                  0.997155\n",
       "sat_score                               1.000000\n",
       "AP Test Takers                          0.255024\n",
       "Total Exams Taken                       0.250529\n",
       "Number of Exams with scores 3 4 or 5    0.221845\n",
       "Total Cohort                            0.161702\n",
       "Total Grads - % of cohort               0.281347\n",
       "Total Regents - % of cohort             0.326754\n",
       "Total Regents - % of grads              0.247896\n",
       "Advanced Regents - % of cohort          0.375794\n",
       "Advanced Regents - % of grads           0.361710\n",
       "Regents w/o Advanced - % of cohort     -0.067050\n",
       "Regents w/o Advanced - % of grads      -0.218534\n",
       "Local - % of cohort                    -0.237767\n",
       "Local - % of grads                     -0.247896\n",
       "Still Enrolled - % of cohort           -0.239719\n",
       "Dropped Out - % of cohort              -0.210833\n",
       "NUMBER OF STUDENTS / SEATS FILLED       0.306424\n",
       "NUMBER OF SECTIONS                      0.298019\n",
       "AVERAGE CLASS SIZE                      0.326205\n",
       "SIZE OF SMALLEST CLASS                  0.071708\n",
       "SIZE OF LARGEST CLASS                   0.379183\n",
       "SCHOOLWIDE PUPIL-TEACHER RATIO               NaN\n",
       "schoolyear                                   NaN\n",
       "fl_percent                                   NaN\n",
       "frl_percent                            -0.417777\n",
       "total_enrollment                        0.308968\n",
       "ell_num                                 0.001620\n",
       "ell_percent                            -0.247289\n",
       "sped_num                                0.128725\n",
       "sped_percent                           -0.258195\n",
       "asian_num                               0.298399\n",
       "asian_per                               0.257011\n",
       "black_num                               0.159109\n",
       "black_per                              -0.084994\n",
       "hispanic_num                            0.118633\n",
       "hispanic_per                           -0.234996\n",
       "white_num                               0.280321\n",
       "white_per                               0.303276\n",
       "male_num                                0.291426\n",
       "male_per                               -0.001417\n",
       "female_num                              0.306783\n",
       "female_per                              0.001423\n",
       "grade_span_min                          0.089268\n",
       "grade_span_max                               NaN\n",
       "expgrade_span_min                            NaN\n",
       "expgrade_span_max                            NaN\n",
       "postcode                                0.026566\n",
       "total_students                          0.292597\n",
       "number_programs                         0.183141\n",
       "priority08                                   NaN\n",
       "priority09                                   NaN\n",
       "priority10                                   NaN\n",
       "Community Board                        -0.022064\n",
       "Council District                        0.034003\n",
       "Census Tract                            0.061090\n",
       "BIN                                     0.086823\n",
       "BBL                                     0.091714\n",
       "lat                                    -0.081764\n",
       "lon                                    -0.047850\n",
       "rr_s                                    0.073451\n",
       "rr_t                                   -0.103887\n",
       "rr_p                                   -0.050073\n",
       "N_s                                     0.347659\n",
       "N_t                                     0.295153\n",
       "N_p                                     0.334443\n",
       "saf_p_11                               -0.001684\n",
       "com_p_11                               -0.121842\n",
       "eng_p_11                               -0.001239\n",
       "aca_p_11                               -0.006597\n",
       "saf_t_11                                0.155716\n",
       "com_t_11                                0.002524\n",
       "eng_t_11                               -0.040938\n",
       "aca_t_11                                0.012600\n",
       "saf_s_11                                0.105774\n",
       "com_s_11                               -0.078403\n",
       "eng_s_11                                0.015965\n",
       "aca_s_11                                0.108803\n",
       "saf_tot_11                              0.117860\n",
       "com_tot_11                             -0.063266\n",
       "eng_tot_11                             -0.026786\n",
       "aca_tot_11                              0.035305\n",
       "Name: sat_score, dtype: float64"
      ]
     },
     "execution_count": 135,
     "metadata": {},
     "output_type": "execute_result"
    }
   ],
   "source": [
    "combined.corr()[\"sat_score\"]"
   ]
  },
  {
   "cell_type": "code",
   "execution_count": 137,
   "metadata": {},
   "outputs": [],
   "source": [
    "import matplotlib.pyplot as plt"
   ]
  },
  {
   "cell_type": "code",
   "execution_count": 138,
   "metadata": {},
   "outputs": [
    {
     "data": {
      "image/png": "[encoded data removed]",
      "text/plain": [
       "<Figure size 432x288 with 1 Axes>"
      ]
     },
     "metadata": {
      "needs_background": "light"
     },
     "output_type": "display_data"
    }
   ],
   "source": [
    "plt.scatter(combined[\"sat_score\"], combined[\"total_enrollment\"])\n",
    "plt.show()"
   ]
  },
  {
   "cell_type": "code",
   "execution_count": 139,
   "metadata": {},
   "outputs": [
    {
     "data": {
      "image/png": "[encoded data removed]",
      "text/plain": [
       "<Figure size 432x288 with 1 Axes>"
      ]
     },
     "metadata": {
      "needs_background": "light"
     },
     "output_type": "display_data"
    }
   ],
   "source": [
    "plt.scatter(combined[\"total_enrollment\"],combined[\"sat_score\"])\n",
    "plt.show()"
   ]
  },
  {
   "cell_type": "code",
   "execution_count": 142,
   "metadata": {},
   "outputs": [],
   "source": [
    "import numpy as np"
   ]
  },
  {
   "cell_type": "code",
   "execution_count": 143,
   "metadata": {},
   "outputs": [
    {
     "data": {
      "text/plain": [
       "14.75"
      ]
     },
     "execution_count": 143,
     "metadata": {},
     "output_type": "execute_result"
    }
   ],
   "source": [
    "# [1,3,5,50]\n",
    "\n",
    "np.mean([1,3,5,50, \"\"])"
   ]
  },
  {
   "cell_type": "code",
   "execution_count": 144,
   "metadata": {},
   "outputs": [
    {
     "data": {
      "text/plain": [
       "14.75"
      ]
     },
     "execution_count": 144,
     "metadata": {},
     "output_type": "execute_result"
    }
   ],
   "source": [
    "np.mean([1,3,5,50, 14.75])"
   ]
  },
  {
   "cell_type": "code",
   "execution_count": 145,
   "metadata": {},
   "outputs": [
    {
     "data": {
      "text/plain": [
       "145625.0"
      ]
     },
     "execution_count": 145,
     "metadata": {},
     "output_type": "execute_result"
    }
   ],
   "source": [
    "np.mean([25000,22500,35000,500000])"
   ]
  },
  {
   "cell_type": "code",
   "execution_count": 155,
   "metadata": {},
   "outputs": [
    {
     "data": {
      "text/plain": [
       "18                                       MANHATTAN BUSINESS ACADEMY\n",
       "19                                        BUSINESS OF SPORTS SCHOOL\n",
       "20                       THE HIGH SCHOOL FOR LANGUAGE AND DIPLOMACY\n",
       "31                            MANHATTAN ACADEMY FOR ARTS & LANGUAGE\n",
       "32                      HUDSON HIGH SCHOOL OF LEARNING TECHNOLOGIES\n",
       "33                        INTERNATIONAL HIGH SCHOOL AT UNION SQUARE\n",
       "56                      THE URBAN ASSEMBLY SCHOOL FOR GREEN CAREERS\n",
       "57                                THE GLOBAL LEARNING COLLABORATIVE\n",
       "59                                        FRANK MCCOURT HIGH SCHOOL\n",
       "73     COLUMBIA SECONDARY SCHOOL FOR MATH, SCIENCE, AND ENGINEERING\n",
       "82                        HIGH SCHOOL FOR EXCELLENCE AND INNOVATION\n",
       "90                              INTERNATIONAL COMMUNITY HIGH SCHOOL\n",
       "102                     BRONX STUDIO SCHOOL FOR WRITERS AND ARTISTS\n",
       "108     ANTONIA PANTOJA PREPARATORY ACADEMY, A COLLEGE BOARD SCHOOL\n",
       "110                                       BRONX BRIDGES HIGH SCHOOL\n",
       "122             BRONX EARLY COLLEGE ACADEMY FOR TEACHING & LEARNING\n",
       "124                             ACADEMY FOR LANGUAGE AND TECHNOLOGY\n",
       "125                                 BRONX INTERNATIONAL HIGH SCHOOL\n",
       "138                           KINGSBRIDGE INTERNATIONAL HIGH SCHOOL\n",
       "140                           INTERNATIONAL SCHOOL FOR LIBERAL ARTS\n",
       "175                PAN AMERICAN INTERNATIONAL HIGH SCHOOL AT MONROE\n",
       "176                                               THE CINEMA SCHOOL\n",
       "177                BRONX CAREER AND COLLEGE PREPARATORY HIGH SCHOOL\n",
       "178                                   HIGH SCHOOL OF WORLD CULTURES\n",
       "187                              BROOKLYN INTERNATIONAL HIGH SCHOOL\n",
       "190    URBAN ASSEMBLY INSTITUTE OF MATH AND SCIENCE FOR YOUNG WOMEN\n",
       "196                                             FOUNDATIONS ACADEMY\n",
       "217                                         SUNSET PARK HIGH SCHOOL\n",
       "221                          THE BROOKLYN ACADEMY OF GLOBAL FINANCE\n",
       "224                   INTERNATIONAL HIGH SCHOOL AT PROSPECT HEIGHTS\n",
       "236                                      IT TAKES A VILLAGE ACADEMY\n",
       "252                                       MULTICULTURAL HIGH SCHOOL\n",
       "263                  THE URBAN ASSEMBLY SCHOOL FOR CRIMINAL JUSTICE\n",
       "268                               KINGSBOROUGH EARLY COLLEGE SCHOOL\n",
       "285                          PAN AMERICAN INTERNATIONAL HIGH SCHOOL\n",
       "318                                      YORK EARLY COLLEGE ACADEMY\n",
       "320                                 HILLSIDE ARTS & LETTERS ACADEMY\n",
       "325                                 QUEENS METROPOLITAN HIGH SCHOOL\n",
       "334                                         CAMBRIA HEIGHTS ACADEMY\n",
       "337                        YOUNG WOMEN'S LEADERSHIP SCHOOL, ASTORIA\n",
       "Name: SCHOOL NAME, dtype: object"
      ]
     },
     "execution_count": 155,
     "metadata": {},
     "output_type": "execute_result"
    }
   ],
   "source": [
    "combined[(combined[\"sat_score\"]<1000) & (combined[\"total_enrollment\"]<1000)]['SCHOOL NAME']"
   ]
  },
  {
   "cell_type": "code",
   "execution_count": 150,
   "metadata": {},
   "outputs": [
    {
     "data": {
      "text/plain": [
       "Index(['DBN', 'SCHOOL NAME', 'Num of SAT Test Takers',\n",
       "       'SAT Critical Reading Avg. Score', 'SAT Math Avg. Score',\n",
       "       'SAT Writing Avg. Score', 'sat_score', 'SchoolName', 'AP Test Takers ',\n",
       "       'Total Exams Taken',\n",
       "       ...\n",
       "       'eng_t_11', 'aca_t_11', 'saf_s_11', 'com_s_11', 'eng_s_11', 'aca_s_11',\n",
       "       'saf_tot_11', 'com_tot_11', 'eng_tot_11', 'aca_tot_11'],\n",
       "      dtype='object', length=163)"
      ]
     },
     "execution_count": 150,
     "metadata": {},
     "output_type": "execute_result"
    }
   ],
   "source": [
    "combined.columns"
   ]
  },
  {
   "cell_type": "code",
   "execution_count": null,
   "metadata": {},
   "outputs": [],
   "source": []
  }
 ],
 "metadata": {
  "kernelspec": {
   "display_name": "Python 3",
   "language": "python",
   "name": "python3"
  },
  "language_info": {
   "codemirror_mode": {
    "name": "ipython",
    "version": 3
   },
   "file_extension": ".py",
   "mimetype": "text/x-python",
   "name": "python",
   "nbconvert_exporter": "python",
   "pygments_lexer": "ipython3",
   "version": "3.8.3"
  }
 },
 "nbformat": 4,
 "nbformat_minor": 4
}
